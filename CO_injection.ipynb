{
  "cells": [
    {
      "cell_type": "markdown",
      "metadata": {
        "id": "view-in-github",
        "colab_type": "text"
      },
      "source": [
        "<a href=\"https://colab.research.google.com/github/AntoninaBarsukova/Coursera-ML/blob/main/CO_injection.ipynb\" target=\"_parent\"><img src=\"https://colab.research.google.com/assets/colab-badge.svg\" alt=\"Open In Colab\"/></a>"
      ]
    },
    {
      "cell_type": "code",
      "source": [
        "!pip install pandas\n",
        "!pip install openpyxl\n",
        "!pip install numpy"
      ],
      "metadata": {
        "colab": {
          "base_uri": "https://localhost:8080/"
        },
        "id": "Sn6tIXjoVcOf",
        "outputId": "8608d8de-5b88-452e-eef5-ece833dd6109"
      },
      "execution_count": null,
      "outputs": [
        {
          "output_type": "stream",
          "name": "stdout",
          "text": [
            "Looking in indexes: https://pypi.org/simple, https://us-python.pkg.dev/colab-wheels/public/simple/\n",
            "Requirement already satisfied: pandas in /usr/local/lib/python3.7/dist-packages (1.3.5)\n",
            "Requirement already satisfied: pytz>=2017.3 in /usr/local/lib/python3.7/dist-packages (from pandas) (2022.1)\n",
            "Requirement already satisfied: numpy>=1.17.3 in /usr/local/lib/python3.7/dist-packages (from pandas) (1.21.6)\n",
            "Requirement already satisfied: python-dateutil>=2.7.3 in /usr/local/lib/python3.7/dist-packages (from pandas) (2.8.2)\n",
            "Requirement already satisfied: six>=1.5 in /usr/local/lib/python3.7/dist-packages (from python-dateutil>=2.7.3->pandas) (1.15.0)\n",
            "Looking in indexes: https://pypi.org/simple, https://us-python.pkg.dev/colab-wheels/public/simple/\n",
            "Requirement already satisfied: openpyxl in /usr/local/lib/python3.7/dist-packages (3.0.10)\n",
            "Requirement already satisfied: et-xmlfile in /usr/local/lib/python3.7/dist-packages (from openpyxl) (1.1.0)\n",
            "Looking in indexes: https://pypi.org/simple, https://us-python.pkg.dev/colab-wheels/public/simple/\n",
            "Requirement already satisfied: numpy in /usr/local/lib/python3.7/dist-packages (1.21.6)\n"
          ]
        }
      ]
    },
    {
      "cell_type": "code",
      "execution_count": null,
      "metadata": {
        "id": "aA1uCfVzCUip"
      },
      "outputs": [],
      "source": [
        "import openpyxl\n",
        "import numpy as np\n",
        "import matplotlib.pyplot as plt\n",
        "import pandas as pd\n"
      ]
    },
    {
      "cell_type": "code",
      "source": [
        "path = \"/content/table_for_pythonL4A1.xlsx\"\n",
        "\n",
        "wb_obj = openpyxl.load_workbook(path)\n",
        "\n",
        "sheet_obj = wb_obj.active"
      ],
      "metadata": {
        "id": "v9G5mDvFovBA"
      },
      "execution_count": null,
      "outputs": []
    },
    {
      "cell_type": "code",
      "source": [
        "#Cement Class G+Silica Four\n",
        "#Liner 7''\n",
        "  # pc - cement pore pressure\n",
        "  # sigmah formtion Shmax\n",
        "for i in range(20, 21):\n",
        "  R_1 = sheet_obj.cell(row=i, column=3).value\n",
        "  R_2 = sheet_obj.cell(row=i, column=4).value\n",
        "  R_3 = sheet_obj.cell(row=i, column=15).value\n",
        "  R_4 = 1\n",
        "  R_5 = 2\n",
        "  R_6 = 10\n",
        "  R_7 = 100\n",
        "  R_8 = 500\n",
        "  R_9 = 1000\n",
        "  alpha_1 = sheet_obj.cell(row=i, column=7).value\n",
        "  alpha_2 = sheet_obj.cell(row=i, column=18).value\n",
        "  alpha_3 = sheet_obj.cell(row=i, column=18).value\n",
        "  alpha_10 = sheet_obj.cell(row=i, column=28).value\n",
        "  E_1 = sheet_obj.cell(row=i, column=5).value\n",
        "  E_2 = sheet_obj.cell(row=i, column=16).value\n",
        "  E_3 = sheet_obj.cell(row=i, column=16).value\n",
        "  E_10 = sheet_obj.cell(row=i, column=26).value\n",
        "  nu_1 = sheet_obj.cell(row=i, column=6).value\n",
        "  nu_2 = sheet_obj.cell(row=i, column=17).value\n",
        "  nu_3 = sheet_obj.cell(row=i, column=17).value\n",
        "  nu_10 = sheet_obj.cell(row=i, column=27).value\n",
        "  dT = sheet_obj.cell(row=i, column=35).value\n",
        "  dPf = sheet_obj.cell(row=i, column=2).value\n",
        "  pc = sheet_obj.cell(row=i, column=38).value\n",
        "  sigmah = sheet_obj.cell(row=i, column=39).value\n",
        "  deltasigmah = sheet_obj.cell(row=i, column=43).value\n",
        "  deltapfreservoir = sheet_obj.cell(row=i, column=44).value\n",
        "\n",
        "\n",
        "  biot_1 = 0\n",
        "  biot_2 = 0.8\n",
        "  biot_3 = 0.8\n",
        "  biot_4 = 0.8\n",
        "  biot_5 = biot_6 = biot_7 = biot_8 = biot_9 = biot_4\n",
        "  \n",
        "\n",
        "  K_1 = E_1 / 3 / (1 - 2 * nu_1)\n",
        "  G_1 = E_1 / 2 / (1 + nu_1)\n",
        "  K_2 = E_2 / 3 / (1 - 2 * nu_2)\n",
        "  G_2 = E_2 / 2 / (1 + nu_2)\n",
        "  K_3 = E_3 / 3 / (1 - 2 * nu_3)\n",
        "  G_3 = E_3 / 2 / (1 + nu_3)\n",
        "  K_4 = K_5 = K_6 = K_7 = K_8 = K_9 = K_3\n",
        "  G_4 = G_5 = G_6 = G_7 = G_8 = G_9 = G_3\n",
        "  K_10 = E_10 / 3 / (1 - 2 * nu_10)\n",
        "  G_10 = E_10 / 2 / (1 + nu_10)\n",
        "  sheet_obj.cell(row=i, column=10).value = K_1\n",
        "  sheet_obj.cell(row=i, column=11).value = G_1\n",
        "  sheet_obj.cell(row=i, column=21).value = K_2\n",
        "  sheet_obj.cell(row=i, column=22).value = G_2\n",
        "  sheet_obj.cell(row=i, column=31).value = K_10\n",
        "  sheet_obj.cell(row=i, column=32).value = G_10\n",
        "  r_1 = np.linspace(R_1, R_2)\n",
        "  r_2 = np.linspace(R_2, R_3)\n",
        "  r_3 = np.linspace(R_3, R_4)\n",
        "  r_4 = np.linspace(R_4, R_5)\n",
        "  r_5 = np.linspace(R_5, R_6)\n",
        "  r_6 = np.linspace(R_6, R_7)\n",
        "  r_7 = np.linspace(R_7, R_8)\n",
        "  r_8 = np.linspace(R_8, R_9)\n",
        "  r_9 = np.linspace(R_9, 2* R_9)\n",
        "\n",
        "  n5 = np.array([[2 * (K_1 + G_1 / 3), -2 * G_1, 0, 0, 0],                                                                 \n",
        "               [2 * (K_1 + G_1 / 3), -2 * G_1 * (R_1 / R_2)**2, -2 * (K_2 + G_2 / 3), 2 * G_2, 0],                       \n",
        "               [1, R_1**2 / R_2**2, -1, -1, 0],                                                                                                                                        \n",
        "               [0, 0, 2 * (K_2 + G_2 / 3), -2 * G_2 * (R_2 / R_3)**2,  2 * G_10],                      \n",
        "               [0, 0, 1, R_2**2 / R_3**2, -1]])   \n",
        "                                                                                                                                    \n",
        "  l5 = np.array([[3 * K_1 * alpha_1 * dT - dPf],\n",
        "               [3 * K_1 * alpha_1 * dT - 3 * K_2 * alpha_2 * dT],\n",
        "               [0],\n",
        "               [3 * K_10 * alpha_2 * dT - 3 * K_10 * alpha_10 * dT],\n",
        "               [0]])       \n",
        "     \n",
        "print(deltapfreservoir)"
      ],
      "metadata": {
        "colab": {
          "base_uri": "https://localhost:8080/"
        },
        "id": "oUCYjnSLpY99",
        "outputId": "c7dc6d44-e0e2-44a4-b443-65cbe246ea28"
      },
      "execution_count": null,
      "outputs": [
        {
          "output_type": "stream",
          "name": "stdout",
          "text": [
            "42.3\n"
          ]
        }
      ]
    },
    {
      "cell_type": "code",
      "source": [
        "# Initial state of stress in the host rock\n",
        " # pc - cement pore pressure (hydrostatic)\n",
        " # sigmah-  formtion Shmax\n",
        "\n",
        "for i in range(20, 21):\n",
        "  A_ri = -0.5 * sigmah * 1/(K_10 - ((K_10 - 2 * G_10 / 3)**2) / (K_10 + 4 * G_10 / 3))\n",
        "  B_ri = (pc - sigmah) * R_3**2 / (2 * G_10)\n",
        "\n",
        "  sheet_obj.cell(row=i, column=36).value = A_ri\n",
        "  sheet_obj.cell(row=i, column=37).value = B_ri\n",
        "\n",
        "A_ri, B_ri"
      ],
      "metadata": {
        "colab": {
          "base_uri": "https://localhost:8080/"
        },
        "id": "MQcZKUIT1AuQ",
        "outputId": "5a50b91b-17c2-49dc-9606-780e4e2252e1"
      },
      "execution_count": null,
      "outputs": [
        {
          "output_type": "execute_result",
          "data": {
            "text/plain": [
              "(-0.005775528501228502, 2.897103047563626e-06)"
            ]
          },
          "metadata": {},
          "execution_count": 5
        }
      ]
    },
    {
      "cell_type": "code",
      "source": [
        "# Initial state of  radial stress in the host rock"
      ],
      "metadata": {
        "id": "OGVq4NAjEBj6"
      },
      "execution_count": null,
      "outputs": []
    },
    {
      "cell_type": "code",
      "source": [
        "for i in range(20, 21):\n",
        "  def n(sigmah, pc, R, r):\n",
        "    return - sigmah - (pc - sigmah) * R**2 / r**2 "
      ],
      "metadata": {
        "id": "4flXVGxP6Tpi"
      },
      "execution_count": null,
      "outputs": []
    },
    {
      "cell_type": "code",
      "source": [
        "for i in range(20, 21):\n",
        "  n3 = n(sigmah, pc, R_3, r_3)\n",
        "\n",
        "n3, r_3\n",
        "\n"
      ],
      "metadata": {
        "id": "DwwYyBMNARlZ"
      },
      "execution_count": null,
      "outputs": []
    },
    {
      "cell_type": "code",
      "source": [
        "sigmah"
      ],
      "metadata": {
        "colab": {
          "base_uri": "https://localhost:8080/"
        },
        "id": "-P6ZykOZX6GP",
        "outputId": "a605b5be-8861-4325-d10f-07a56dc07199"
      },
      "execution_count": null,
      "outputs": [
        {
          "output_type": "execute_result",
          "data": {
            "text/plain": [
              "66.515"
            ]
          },
          "metadata": {},
          "execution_count": 9
        }
      ]
    },
    {
      "cell_type": "code",
      "source": [
        "pc"
      ],
      "metadata": {
        "colab": {
          "base_uri": "https://localhost:8080/"
        },
        "id": "BEtCxhwkaZhQ",
        "outputId": "6d1a4b6f-8fd8-42da-be49-fb5a1813af2a"
      },
      "execution_count": null,
      "outputs": [
        {
          "output_type": "execute_result",
          "data": {
            "text/plain": [
              "68.71837"
            ]
          },
          "metadata": {},
          "execution_count": 10
        }
      ]
    },
    {
      "cell_type": "code",
      "source": [
        " #Init radial stress rock\n",
        " for i in range(20, 21):\n",
        "   plt.plot(r_3, n3)\n",
        "   plt.grid(True)\n"
      ],
      "metadata": {
        "colab": {
          "base_uri": "https://localhost:8080/",
          "height": 265
        },
        "id": "D_Y71fD99S0o",
        "outputId": "02fbabe0-2277-4eae-aaa0-9a4408894e6b"
      },
      "execution_count": null,
      "outputs": [
        {
          "output_type": "display_data",
          "data": {
            "text/plain": [
              "<Figure size 432x288 with 1 Axes>"
            ],
            "image/png": "[encoded data removed]"
          },
          "metadata": {
            "needs_background": "light"
          }
        }
      ]
    },
    {
      "cell_type": "code",
      "source": [
        "df = pd.DataFrame(r_3, n3)\n",
        "df.to_csv(\"out.csv\")\n",
        "\n",
        "df"
      ],
      "metadata": {
        "id": "40yOpSsw5Yps"
      },
      "execution_count": null,
      "outputs": []
    },
    {
      "cell_type": "code",
      "source": [
        "# Initial state of hoop stress in the host rock\n",
        "\n",
        "\n",
        "for i in range(20, 21):\n",
        "  def h(sigmah, K, G, pc, R, r):\n",
        "    return - sigmah * 9 * K / (8 * K - 4 / (3 * G)) + (pc - sigmah) * R**2 / r**2\n",
        "    "
      ],
      "metadata": {
        "id": "tZC0OliiDzM6"
      },
      "execution_count": null,
      "outputs": []
    },
    {
      "cell_type": "code",
      "source": [
        "for i in range(6, 20):\n",
        "  h3 = h(sigmah, K_10, G_10, pc, R_3, r_3)\n"
      ],
      "metadata": {
        "id": "VVIgGdgxE_VP"
      },
      "execution_count": null,
      "outputs": []
    },
    {
      "cell_type": "code",
      "source": [
        "for i in range(20, 21):\n",
        "   plt.plot(r_3, h3)\n",
        "   plt.grid(True)"
      ],
      "metadata": {
        "colab": {
          "base_uri": "https://localhost:8080/",
          "height": 265
        },
        "id": "dpiusVf45I9z",
        "outputId": "03f5c8cb-726d-41d3-e84a-5e217a46d262"
      },
      "execution_count": null,
      "outputs": [
        {
          "output_type": "display_data",
          "data": {
            "text/plain": [
              "<Figure size 432x288 with 1 Axes>"
            ],
            "image/png": "[encoded data removed]"
          },
          "metadata": {
            "needs_background": "light"
          }
        }
      ]
    },
    {
      "cell_type": "code",
      "source": [
        "dl = pd.DataFrame(r_3, h3)\n",
        "dl.to_csv(\"out.csv\")\n",
        "\n",
        "dl\n",
        "\n"
      ],
      "metadata": {
        "id": "MF73_7iQr-tn",
        "colab": {
          "base_uri": "https://localhost:8080/",
          "height": 1000
        },
        "outputId": "f50e65f5-2f5e-4ece-8992-78696ccb1c0c"
      },
      "execution_count": null,
      "outputs": [
        {
          "output_type": "execute_result",
          "data": {
            "text/plain": [
              "                   0\n",
              "-72.626005  0.108000\n",
              "-73.215804  0.126204\n",
              "-73.596976  0.144408\n",
              "-73.857460  0.162612\n",
              "-74.043308  0.180816\n",
              "-74.180532  0.199020\n",
              "-74.284726  0.217224\n",
              "-74.365697  0.235429\n",
              "-74.429868  0.253633\n",
              "-74.481584  0.271837\n",
              "-74.523872  0.290041\n",
              "-74.558890  0.308245\n",
              "-74.588216  0.326449\n",
              "-74.613019  0.344653\n",
              "-74.634183  0.362857\n",
              "-74.652387  0.381061\n",
              "-74.668158  0.399265\n",
              "-74.681912  0.417469\n",
              "-74.693977  0.435673\n",
              "-74.704621  0.453878\n",
              "-74.714056  0.472082\n",
              "-74.722461  0.490286\n",
              "-74.729979  0.508490\n",
              "-74.736731  0.526694\n",
              "-74.742818  0.544898\n",
              "-74.748324  0.563102\n",
              "-74.753321  0.581306\n",
              "-74.757870  0.599510\n",
              "-74.762022  0.617714\n",
              "-74.765823  0.635918\n",
              "-74.769311  0.654122\n",
              "-74.772520  0.672327\n",
              "-74.775478  0.690531\n",
              "-74.778211  0.708735\n",
              "-74.780741  0.726939\n",
              "-74.783089  0.745143\n",
              "-74.785270  0.763347\n",
              "-74.787301  0.781551\n",
              "-74.789194  0.799755\n",
              "-74.790963  0.817959\n",
              "-74.792617  0.836163\n",
              "-74.794167  0.854367\n",
              "-74.795621  0.872571\n",
              "-74.796986  0.890776\n",
              "-74.798271  0.908980\n",
              "-74.799480  0.927184\n",
              "-74.800620  0.945388\n",
              "-74.801697  0.963592\n",
              "-74.802713  0.981796\n",
              "-74.803675  1.000000"
            ],
            "text/html": [
              "\n",
              "  <div id=\"df-a48e5be6-56a6-4f63-9831-a8b9e3ee9ead\">\n",
              "    <div class=\"colab-df-container\">\n",
              "      <div>\n",
              "<style scoped>\n",
              "    .dataframe tbody tr th:only-of-type {\n",
              "        vertical-align: middle;\n",
              "    }\n",
              "\n",
              "    .dataframe tbody tr th {\n",
              "        vertical-align: top;\n",
              "    }\n",
              "\n",
              "    .dataframe thead th {\n",
              "        text-align: right;\n",
              "    }\n",
              "</style>\n",
              "<table border=\"1\" class=\"dataframe\">\n",
              "  <thead>\n",
              "    <tr style=\"text-align: right;\">\n",
              "      <th></th>\n",
              "      <th>0</th>\n",
              "    </tr>\n",
              "  </thead>\n",
              "  <tbody>\n",
              "    <tr>\n",
              "      <th>-72.626005</th>\n",
              "      <td>0.108000</td>\n",
              "    </tr>\n",
              "    <tr>\n",
              "      <th>-73.215804</th>\n",
              "      <td>0.126204</td>\n",
              "    </tr>\n",
              "    <tr>\n",
              "      <th>-73.596976</th>\n",
              "      <td>0.144408</td>\n",
              "    </tr>\n",
              "    <tr>\n",
              "      <th>-73.857460</th>\n",
              "      <td>0.162612</td>\n",
              "    </tr>\n",
              "    <tr>\n",
              "      <th>-74.043308</th>\n",
              "      <td>0.180816</td>\n",
              "    </tr>\n",
              "    <tr>\n",
              "      <th>-74.180532</th>\n",
              "      <td>0.199020</td>\n",
              "    </tr>\n",
              "    <tr>\n",
              "      <th>-74.284726</th>\n",
              "      <td>0.217224</td>\n",
              "    </tr>\n",
              "    <tr>\n",
              "      <th>-74.365697</th>\n",
              "      <td>0.235429</td>\n",
              "    </tr>\n",
              "    <tr>\n",
              "      <th>-74.429868</th>\n",
              "      <td>0.253633</td>\n",
              "    </tr>\n",
              "    <tr>\n",
              "      <th>-74.481584</th>\n",
              "      <td>0.271837</td>\n",
              "    </tr>\n",
              "    <tr>\n",
              "      <th>-74.523872</th>\n",
              "      <td>0.290041</td>\n",
              "    </tr>\n",
              "    <tr>\n",
              "      <th>-74.558890</th>\n",
              "      <td>0.308245</td>\n",
              "    </tr>\n",
              "    <tr>\n",
              "      <th>-74.588216</th>\n",
              "      <td>0.326449</td>\n",
              "    </tr>\n",
              "    <tr>\n",
              "      <th>-74.613019</th>\n",
              "      <td>0.344653</td>\n",
              "    </tr>\n",
              "    <tr>\n",
              "      <th>-74.634183</th>\n",
              "      <td>0.362857</td>\n",
              "    </tr>\n",
              "    <tr>\n",
              "      <th>-74.652387</th>\n",
              "      <td>0.381061</td>\n",
              "    </tr>\n",
              "    <tr>\n",
              "      <th>-74.668158</th>\n",
              "      <td>0.399265</td>\n",
              "    </tr>\n",
              "    <tr>\n",
              "      <th>-74.681912</th>\n",
              "      <td>0.417469</td>\n",
              "    </tr>\n",
              "    <tr>\n",
              "      <th>-74.693977</th>\n",
              "      <td>0.435673</td>\n",
              "    </tr>\n",
              "    <tr>\n",
              "      <th>-74.704621</th>\n",
              "      <td>0.453878</td>\n",
              "    </tr>\n",
              "    <tr>\n",
              "      <th>-74.714056</th>\n",
              "      <td>0.472082</td>\n",
              "    </tr>\n",
              "    <tr>\n",
              "      <th>-74.722461</th>\n",
              "      <td>0.490286</td>\n",
              "    </tr>\n",
              "    <tr>\n",
              "      <th>-74.729979</th>\n",
              "      <td>0.508490</td>\n",
              "    </tr>\n",
              "    <tr>\n",
              "      <th>-74.736731</th>\n",
              "      <td>0.526694</td>\n",
              "    </tr>\n",
              "    <tr>\n",
              "      <th>-74.742818</th>\n",
              "      <td>0.544898</td>\n",
              "    </tr>\n",
              "    <tr>\n",
              "      <th>-74.748324</th>\n",
              "      <td>0.563102</td>\n",
              "    </tr>\n",
              "    <tr>\n",
              "      <th>-74.753321</th>\n",
              "      <td>0.581306</td>\n",
              "    </tr>\n",
              "    <tr>\n",
              "      <th>-74.757870</th>\n",
              "      <td>0.599510</td>\n",
              "    </tr>\n",
              "    <tr>\n",
              "      <th>-74.762022</th>\n",
              "      <td>0.617714</td>\n",
              "    </tr>\n",
              "    <tr>\n",
              "      <th>-74.765823</th>\n",
              "      <td>0.635918</td>\n",
              "    </tr>\n",
              "    <tr>\n",
              "      <th>-74.769311</th>\n",
              "      <td>0.654122</td>\n",
              "    </tr>\n",
              "    <tr>\n",
              "      <th>-74.772520</th>\n",
              "      <td>0.672327</td>\n",
              "    </tr>\n",
              "    <tr>\n",
              "      <th>-74.775478</th>\n",
              "      <td>0.690531</td>\n",
              "    </tr>\n",
              "    <tr>\n",
              "      <th>-74.778211</th>\n",
              "      <td>0.708735</td>\n",
              "    </tr>\n",
              "    <tr>\n",
              "      <th>-74.780741</th>\n",
              "      <td>0.726939</td>\n",
              "    </tr>\n",
              "    <tr>\n",
              "      <th>-74.783089</th>\n",
              "      <td>0.745143</td>\n",
              "    </tr>\n",
              "    <tr>\n",
              "      <th>-74.785270</th>\n",
              "      <td>0.763347</td>\n",
              "    </tr>\n",
              "    <tr>\n",
              "      <th>-74.787301</th>\n",
              "      <td>0.781551</td>\n",
              "    </tr>\n",
              "    <tr>\n",
              "      <th>-74.789194</th>\n",
              "      <td>0.799755</td>\n",
              "    </tr>\n",
              "    <tr>\n",
              "      <th>-74.790963</th>\n",
              "      <td>0.817959</td>\n",
              "    </tr>\n",
              "    <tr>\n",
              "      <th>-74.792617</th>\n",
              "      <td>0.836163</td>\n",
              "    </tr>\n",
              "    <tr>\n",
              "      <th>-74.794167</th>\n",
              "      <td>0.854367</td>\n",
              "    </tr>\n",
              "    <tr>\n",
              "      <th>-74.795621</th>\n",
              "      <td>0.872571</td>\n",
              "    </tr>\n",
              "    <tr>\n",
              "      <th>-74.796986</th>\n",
              "      <td>0.890776</td>\n",
              "    </tr>\n",
              "    <tr>\n",
              "      <th>-74.798271</th>\n",
              "      <td>0.908980</td>\n",
              "    </tr>\n",
              "    <tr>\n",
              "      <th>-74.799480</th>\n",
              "      <td>0.927184</td>\n",
              "    </tr>\n",
              "    <tr>\n",
              "      <th>-74.800620</th>\n",
              "      <td>0.945388</td>\n",
              "    </tr>\n",
              "    <tr>\n",
              "      <th>-74.801697</th>\n",
              "      <td>0.963592</td>\n",
              "    </tr>\n",
              "    <tr>\n",
              "      <th>-74.802713</th>\n",
              "      <td>0.981796</td>\n",
              "    </tr>\n",
              "    <tr>\n",
              "      <th>-74.803675</th>\n",
              "      <td>1.000000</td>\n",
              "    </tr>\n",
              "  </tbody>\n",
              "</table>\n",
              "</div>\n",
              "      <button class=\"colab-df-convert\" onclick=\"convertToInteractive('df-a48e5be6-56a6-4f63-9831-a8b9e3ee9ead')\"\n",
              "              title=\"Convert this dataframe to an interactive table.\"\n",
              "              style=\"display:none;\">\n",
              "        \n",
              "  <svg xmlns=\"http://www.w3.org/2000/svg\" height=\"24px\"viewBox=\"0 0 24 24\"\n",
              "       width=\"24px\">\n",
              "    <path d=\"M0 0h24v24H0V0z\" fill=\"none\"/>\n",
              "    <path d=\"M18.56 5.44l.94 2.06.94-2.06 2.06-.94-2.06-.94-.94-2.06-.94 2.06-2.06.94zm-11 1L8.5 8.5l.94-2.06 2.06-.94-2.06-.94L8.5 2.5l-.94 2.06-2.06.94zm10 10l.94 2.06.94-2.06 2.06-.94-2.06-.94-.94-2.06-.94 2.06-2.06.94z\"/><path d=\"M17.41 7.96l-1.37-1.37c-.4-.4-.92-.59-1.43-.59-.52 0-1.04.2-1.43.59L10.3 9.45l-7.72 7.72c-.78.78-.78 2.05 0 2.83L4 21.41c.39.39.9.59 1.41.59.51 0 1.02-.2 1.41-.59l7.78-7.78 2.81-2.81c.8-.78.8-2.07 0-2.86zM5.41 20L4 18.59l7.72-7.72 1.47 1.35L5.41 20z\"/>\n",
              "  </svg>\n",
              "      </button>\n",
              "      \n",
              "  <style>\n",
              "    .colab-df-container {\n",
              "      display:flex;\n",
              "      flex-wrap:wrap;\n",
              "      gap: 12px;\n",
              "    }\n",
              "\n",
              "    .colab-df-convert {\n",
              "      background-color: #E8F0FE;\n",
              "      border: none;\n",
              "      border-radius: 50%;\n",
              "      cursor: pointer;\n",
              "      display: none;\n",
              "      fill: #1967D2;\n",
              "      height: 32px;\n",
              "      padding: 0 0 0 0;\n",
              "      width: 32px;\n",
              "    }\n",
              "\n",
              "    .colab-df-convert:hover {\n",
              "      background-color: #E2EBFA;\n",
              "      box-shadow: 0px 1px 2px rgba(60, 64, 67, 0.3), 0px 1px 3px 1px rgba(60, 64, 67, 0.15);\n",
              "      fill: #174EA6;\n",
              "    }\n",
              "\n",
              "    [theme=dark] .colab-df-convert {\n",
              "      background-color: #3B4455;\n",
              "      fill: #D2E3FC;\n",
              "    }\n",
              "\n",
              "    [theme=dark] .colab-df-convert:hover {\n",
              "      background-color: #434B5C;\n",
              "      box-shadow: 0px 1px 3px 1px rgba(0, 0, 0, 0.15);\n",
              "      filter: drop-shadow(0px 1px 2px rgba(0, 0, 0, 0.3));\n",
              "      fill: #FFFFFF;\n",
              "    }\n",
              "  </style>\n",
              "\n",
              "      <script>\n",
              "        const buttonEl =\n",
              "          document.querySelector('#df-a48e5be6-56a6-4f63-9831-a8b9e3ee9ead button.colab-df-convert');\n",
              "        buttonEl.style.display =\n",
              "          google.colab.kernel.accessAllowed ? 'block' : 'none';\n",
              "\n",
              "        async function convertToInteractive(key) {\n",
              "          const element = document.querySelector('#df-a48e5be6-56a6-4f63-9831-a8b9e3ee9ead');\n",
              "          const dataTable =\n",
              "            await google.colab.kernel.invokeFunction('convertToInteractive',\n",
              "                                                     [key], {});\n",
              "          if (!dataTable) return;\n",
              "\n",
              "          const docLinkHtml = 'Like what you see? Visit the ' +\n",
              "            '<a target=\"_blank\" href=https://colab.research.google.com/notebooks/data_table.ipynb>data table notebook</a>'\n",
              "            + ' to learn more about interactive tables.';\n",
              "          element.innerHTML = '';\n",
              "          dataTable['output_type'] = 'display_data';\n",
              "          await google.colab.output.renderOutput(dataTable, element);\n",
              "          const docLink = document.createElement('div');\n",
              "          docLink.innerHTML = docLinkHtml;\n",
              "          element.appendChild(docLink);\n",
              "        }\n",
              "      </script>\n",
              "    </div>\n",
              "  </div>\n",
              "  "
            ]
          },
          "metadata": {},
          "execution_count": 24
        }
      ]
    },
    {
      "cell_type": "code",
      "source": [
        "for i in range(20, 21):\n",
        "   plt.plot(r_3, n3)\n",
        "   plt.plot(r_3, h3)\n",
        "   #plt.hlines((-sigmah, -sigmah), r_3, 10 * r_3)\n",
        "   plt.hlines((-pc, -pc), R_2, R_3)\n",
        "   plt.grid(True)"
      ],
      "metadata": {
        "colab": {
          "base_uri": "https://localhost:8080/",
          "height": 265
        },
        "id": "1KJ0g0RSFNcw",
        "outputId": "293280e1-ab4d-4158-ee66-fd9cc6a8b1f5"
      },
      "execution_count": null,
      "outputs": [
        {
          "output_type": "display_data",
          "data": {
            "text/plain": [
              "<Figure size 432x288 with 1 Axes>"
            ],
            "image/png": "[encoded data removed]"
          },
          "metadata": {
            "needs_background": "light"
          }
        }
      ]
    },
    {
      "cell_type": "code",
      "source": [
        "wb_obj.save(\"/content/table_for_pythonL4A1.xlsx\")"
      ],
      "metadata": {
        "id": "k_EG7jSt5j0x"
      },
      "execution_count": null,
      "outputs": []
    },
    {
      "cell_type": "code",
      "source": [
        "# depletion stage"
      ],
      "metadata": {
        "id": "4301MxKt9ljR"
      },
      "execution_count": null,
      "outputs": []
    },
    {
      "cell_type": "code",
      "source": [
        "#gas depletion\n",
        "# deltapfreservoir is the defference between reservoir pressure at the beginning and in the end of production. Here we use it as delta infinity which is \n",
        "# deltainfinity = alpha*delta temperature + beta*delta reservoir pressure\n",
        "# delta temperature = 0 for production stage\n",
        "# beta = biot coefficient, beta = 0 for casing, 0.75 for cement and 0.8 for the rock\n",
        "# deltasigmah is the difference Shmax before and after production in the rock\n",
        "\n",
        "print(K_10)\n",
        "print(deltapfreservoir)\n",
        "print(deltasigmah)\n",
        "print(G_10)"
      ],
      "metadata": {
        "id": "JzYiJE4RPntE",
        "colab": {
          "base_uri": "https://localhost:8080/"
        },
        "outputId": "24793d88-201f-453d-d47f-5e38ad10a6f2"
      },
      "execution_count": null,
      "outputs": [
        {
          "output_type": "stream",
          "name": "stdout",
          "text": [
            "7051.282051282051\n",
            "42.3\n",
            "25\n",
            "4435.483870967742\n"
          ]
        }
      ]
    },
    {
      "cell_type": "code",
      "source": [
        "G_depl_1 = 2 * G_1 / ( K_1 + 4 * G_1 / 3)\n",
        "G_depl_2 = 2 * G_2 / ( K_2 + 4 * G_2 / 3)\n",
        "G_depl_3 = 2 * G_10 / ( K_10 + 4 * G_10 / 3)\n",
        "\n",
        "print(G_depl_1)\n",
        "print(G_depl_2)\n",
        "print(G_depl_3)"
      ],
      "metadata": {
        "colab": {
          "base_uri": "https://localhost:8080/"
        },
        "id": "UhjoeXFJy9i-",
        "outputId": "3845d191-91b6-4d28-ffb4-065ec4807454"
      },
      "execution_count": null,
      "outputs": [
        {
          "output_type": "stream",
          "name": "stdout",
          "text": [
            "0.5714285714285714\n",
            "0.75\n",
            "0.6842105263157895\n"
          ]
        }
      ]
    },
    {
      "cell_type": "code",
      "source": [
        "biot_1 = 0\n",
        "biot_2 = 0.8\n",
        "biot_3 = 0.8\n",
        "\n",
        "delta_infinity_1 = 0\n",
        "delta_infinity_2 = biot_2 * deltapfreservoir\n",
        "delta_infinity_3 = biot_3 * deltapfreservoir\n",
        "\n",
        "#deltamudpressure - diffecrence between mud pressure and the reservoir fluid pressure at the end of production\n",
        "deltamudpressure = -34\n",
        "\n",
        "print(delta_infinity_2)\n",
        "print(delta_infinity_3)"
      ],
      "metadata": {
        "id": "-_XDpW_eXpF9",
        "colab": {
          "base_uri": "https://localhost:8080/"
        },
        "outputId": "96c24094-4fe9-4c3f-f063-9d0fb9c651ce"
      },
      "execution_count": null,
      "outputs": [
        {
          "output_type": "stream",
          "name": "stdout",
          "text": [
            "33.839999999999996\n",
            "33.839999999999996\n"
          ]
        }
      ]
    },
    {
      "cell_type": "code",
      "source": [
        "for i in range(20, 21):\n",
        "  A_3_depl = (1 / (3 * K_10)) * (delta_infinity_3 + deltasigmah * (K_10 + 4 * G_10 / 3)/ (2 * G_10))\n",
        "\n",
        "  print(A_3_depl)"
      ],
      "metadata": {
        "colab": {
          "base_uri": "https://localhost:8080/"
        },
        "id": "ouEv98cUQMJp",
        "outputId": "bd167054-550d-4dea-f5e9-9b6eb59c4ab1"
      },
      "execution_count": null,
      "outputs": [
        {
          "output_type": "stream",
          "name": "stdout",
          "text": [
            "0.0033269818181818176\n"
          ]
        }
      ]
    },
    {
      "cell_type": "code",
      "source": [
        "for i in range(20, 21):\n",
        "  b5 = np.array([[3 * G_depl_1 * K_1, -2 * G_1, 0, 0, 0],                                                                 \n",
        "                [3 * (G_depl_1 * K_1), -2 * G_1 * (R_1 / R_2)**2, -3 * G_depl_2 * K_2, 2 * G_2, 0],                       \n",
        "                [1, (R_1 / R_2)**2, -1, -1, 0],                                                                                                                                        \n",
        "                [0, 0, 3 * G_depl_2 * K_2, -2 * G_2 * (R_2 / R_3)**2,  2 * G_10],                      \n",
        "                [0, 0, 1, (R_2 / R_3)**2, -1]])   \n",
        "\n",
        "  print(b5) \n"
      ],
      "metadata": {
        "id": "q0AqspzuysVM"
      },
      "execution_count": null,
      "outputs": []
    },
    {
      "cell_type": "code",
      "source": [
        "# Calculation the inverse matrix\n",
        "for i in range(20, 21):\n",
        "  bb5 =np.linalg.inv(b5)\n",
        "\n",
        "print(bb5)"
      ],
      "metadata": {
        "id": "kwOIGY-P18s6"
      },
      "execution_count": null,
      "outputs": []
    },
    {
      "cell_type": "code",
      "source": [
        "#Vector\n",
        "\n",
        "for i in range(20, 21):\n",
        "  c5 = np.array([[ - deltamudpressure],\n",
        "                [- G_depl_2 * delta_infinity_2],\n",
        "                [0],\n",
        "                [G_depl_2 * delta_infinity_2 - G_depl_3 * delta_infinity_3 + 3 * G_depl_3 * K_10 * A_3_depl],\n",
        "                [A_3_depl]])   \n",
        "  \n",
        "  print(c5) \n"
      ],
      "metadata": {
        "id": "bpceVQSmQGno",
        "colab": {
          "base_uri": "https://localhost:8080/"
        },
        "outputId": "5f5cb07a-0d5c-49a0-d9e7-848e0eaf1d86"
      },
      "execution_count": null,
      "outputs": [
        {
          "output_type": "stream",
          "name": "stdout",
          "text": [
            "[[ 3.40000000e+01]\n",
            " [-2.53800000e+01]\n",
            " [ 0.00000000e+00]\n",
            " [ 5.03800000e+01]\n",
            " [ 3.32698182e-03]]\n"
          ]
        }
      ]
    },
    {
      "cell_type": "code",
      "source": [
        "#Multiplication of the inverse matrix by vector\n",
        "\n",
        "for i in range(20, 21):\n",
        "  aa = bb5.dot(c5)\n",
        "\n",
        "print(aa)"
      ],
      "metadata": {
        "id": "I9KyVc6Ew4Py"
      },
      "execution_count": null,
      "outputs": []
    },
    {
      "cell_type": "code",
      "source": [
        "for i in range(20, 21):\n",
        "  A_1_depl = aa[0]\n",
        "  B_1_depl = aa[1] * R_1**2\n",
        "  A_2_depl = aa[2]\n",
        "  B_2_depl = aa[3] * R_2**2 \n",
        "  B_3_depl = aa[4] * R_3**2\n",
        "  \n",
        "  sheet_obj.cell(row=i, column=12).value = A_1_depl[0]\n",
        "  sheet_obj.cell(row=i, column=13).value = B_1_depl[0]\n",
        "  sheet_obj.cell(row=i, column=23).value = A_2_depl[0]\n",
        "  sheet_obj.cell(row=i, column=24).value = B_2_depl[0]\n",
        "  sheet_obj.cell(row=i, column=33).value = A_3_depl\n",
        "  sheet_obj.cell(row=i, column=34).value = B_3_depl[0]\n",
        "\n",
        "  A_depl_1 = A_1_depl[0]\n",
        "  B_depl_1 =B_1_depl[0]\n",
        "  A_depl_2 = A_2_depl[0]\n",
        "  B_depl_2 = B_2_depl[0]\n",
        "  A_depl_3 = A_3_depl\n",
        "  B_depl_3 = B_3_depl[0]\n",
        "\n",
        "\n",
        "A_1_depl\n",
        "\n",
        "A_1_depl\n",
        "\n",
        "A_depl_1, B_1_depl, A_2_depl, B_2_depl, A_3_depl,  B_3_depl"
      ],
      "metadata": {
        "colab": {
          "base_uri": "https://localhost:8080/"
        },
        "id": "SQagbb-MixJV",
        "outputId": "db47d5f0-802f-4450-d96a-3046fa5d159c"
      },
      "execution_count": null,
      "outputs": [
        {
          "output_type": "execute_result",
          "data": {
            "text/plain": [
              "(0.0003564225252811176,\n",
              " array([2.7984705e-06]),\n",
              " array([0.00326482]),\n",
              " array([-2.02389716e-05]),\n",
              " 0.0033269818181818176,\n",
              " array([-2.09639892e-05]))"
            ]
          },
          "metadata": {},
          "execution_count": 155
        }
      ]
    },
    {
      "cell_type": "code",
      "source": [
        "# Radial stress change after depletion\n",
        "\n",
        "def sigma_r_depl(G_depl, A_depl, K, delta_infinity, G, B_depl, r ):\n",
        "    return G_depl * (3 * A_depl * K - delta_infinity) - 2 * G * B_depl / r**2"
      ],
      "metadata": {
        "id": "gqJlzzM8Y3g0"
      },
      "execution_count": null,
      "outputs": []
    },
    {
      "cell_type": "code",
      "source": [
        "#sigma_r_depl1 = G_depl_1 * (3 * A_1_depl * K_1 - delta_infinity_1) + 2 * G_1 * B_1_depl / R_1**2\n",
        "\n",
        "#sigma_r_depl1\n",
        "\n"
      ],
      "metadata": {
        "colab": {
          "base_uri": "https://localhost:8080/"
        },
        "id": "byUSElQne_bV",
        "outputId": "0ed6051e-da6b-4e11-e82d-c2a7f4fa633a"
      },
      "execution_count": null,
      "outputs": [
        {
          "output_type": "execute_result",
          "data": {
            "text/plain": [
              "176.79846495197523"
            ]
          },
          "metadata": {},
          "execution_count": 148
        }
      ]
    },
    {
      "cell_type": "code",
      "source": [
        "\n",
        "for i in range(20, 21):\n",
        "  # steel\n",
        "  sigma_r_depl1 =  sigma_r_depl(G_depl_1, A_depl_1, K_1, delta_infinity_1, G_1, B_depl_1, r_1)\n",
        "  # cement\n",
        "  sigma_r_depl2 =  sigma_r_depl(G_depl_2, A_depl_2, K_2, delta_infinity_2, G_2, B_depl_2, r_2)\n",
        "  # formation\n",
        "  sigma_r_depl3 =  sigma_r_depl(G_depl_3, A_depl_3, K_10, delta_infinity_3, G_10, B_depl_3, r_3)"
      ],
      "metadata": {
        "id": "sZcCsjaUZv5U"
      },
      "execution_count": null,
      "outputs": []
    },
    {
      "cell_type": "code",
      "source": [
        "#displacemet\n",
        "\n",
        "\n",
        "def e_r(r, A, B):\n",
        "    return A * r + B / r\n"
      ],
      "metadata": {
        "id": "NvKysI8roOtJ"
      },
      "execution_count": null,
      "outputs": []
    },
    {
      "cell_type": "code",
      "source": [
        "for i in range(20, 21):\n",
        "  # cement\n",
        "  e_r2 = e_r(r_2, A_2_depl, B_2_depl)\n",
        "  # steel\n",
        "  e_r1 = e_r(r_1, A_1_depl, B_1_depl)\n",
        "  # formation\n",
        "  e_r3 = e_r(r_3, A_3_depl, B_3_depl)\n",
        "\n",
        "print(e_r1)\n",
        "print(e_r2)\n",
        "print(e_r3)"
      ],
      "metadata": {
        "id": "yiQLM8paoWyR",
        "colab": {
          "base_uri": "https://localhost:8080/",
          "height": 243
        },
        "outputId": "71a81264-e777-4b3a-f351-73aa60b07cf8"
      },
      "execution_count": null,
      "outputs": [
        {
          "output_type": "error",
          "ename": "NameError",
          "evalue": "ignored",
          "traceback": [
            "\u001b[0;31m---------------------------------------------------------------------------\u001b[0m",
            "\u001b[0;31mNameError\u001b[0m                                 Traceback (most recent call last)",
            "\u001b[0;32m<ipython-input-128-d6e09f0975ea>\u001b[0m in \u001b[0;36m<module>\u001b[0;34m()\u001b[0m\n\u001b[1;32m      1\u001b[0m \u001b[0;32mfor\u001b[0m \u001b[0mi\u001b[0m \u001b[0;32min\u001b[0m \u001b[0mrange\u001b[0m\u001b[0;34m(\u001b[0m\u001b[0;36m20\u001b[0m\u001b[0;34m,\u001b[0m \u001b[0;36m21\u001b[0m\u001b[0;34m)\u001b[0m\u001b[0;34m:\u001b[0m\u001b[0;34m\u001b[0m\u001b[0;34m\u001b[0m\u001b[0m\n\u001b[1;32m      2\u001b[0m   \u001b[0;31m# cement\u001b[0m\u001b[0;34m\u001b[0m\u001b[0;34m\u001b[0m\u001b[0;34m\u001b[0m\u001b[0m\n\u001b[0;32m----> 3\u001b[0;31m   \u001b[0me_r2\u001b[0m \u001b[0;34m=\u001b[0m \u001b[0me_r\u001b[0m\u001b[0;34m(\u001b[0m\u001b[0mr_2\u001b[0m\u001b[0;34m,\u001b[0m \u001b[0mA_2_depl\u001b[0m\u001b[0;34m,\u001b[0m \u001b[0mB_2_depl\u001b[0m\u001b[0;34m)\u001b[0m\u001b[0;34m\u001b[0m\u001b[0;34m\u001b[0m\u001b[0m\n\u001b[0m\u001b[1;32m      4\u001b[0m   \u001b[0;31m# steel\u001b[0m\u001b[0;34m\u001b[0m\u001b[0;34m\u001b[0m\u001b[0;34m\u001b[0m\u001b[0m\n\u001b[1;32m      5\u001b[0m   \u001b[0me_r1\u001b[0m \u001b[0;34m=\u001b[0m \u001b[0me_r\u001b[0m\u001b[0;34m(\u001b[0m\u001b[0mr_1\u001b[0m\u001b[0;34m,\u001b[0m \u001b[0mA_1_depl\u001b[0m\u001b[0;34m,\u001b[0m \u001b[0mB_1_depl\u001b[0m\u001b[0;34m)\u001b[0m\u001b[0;34m\u001b[0m\u001b[0;34m\u001b[0m\u001b[0m\n",
            "\u001b[0;31mNameError\u001b[0m: name 'e_r' is not defined"
          ]
        }
      ]
    },
    {
      "cell_type": "code",
      "source": [
        "#displacement\n",
        "\n",
        "plt.plot(r_1, e_r1)\n",
        "plt.plot(r_2, e_r2)\n",
        "plt.plot(r_3, e_r3)\n",
        "plt.grid()"
      ],
      "metadata": {
        "colab": {
          "base_uri": "https://localhost:8080/",
          "height": 243
        },
        "id": "l8e2bTmNohO3",
        "outputId": "f736317d-d149-4ee5-8492-7957004194ac"
      },
      "execution_count": null,
      "outputs": [
        {
          "output_type": "error",
          "ename": "NameError",
          "evalue": "ignored",
          "traceback": [
            "\u001b[0;31m---------------------------------------------------------------------------\u001b[0m",
            "\u001b[0;31mNameError\u001b[0m                                 Traceback (most recent call last)",
            "\u001b[0;32m<ipython-input-127-4eb3e7a048e5>\u001b[0m in \u001b[0;36m<module>\u001b[0;34m()\u001b[0m\n\u001b[1;32m      1\u001b[0m \u001b[0;31m#displacement\u001b[0m\u001b[0;34m\u001b[0m\u001b[0;34m\u001b[0m\u001b[0;34m\u001b[0m\u001b[0m\n\u001b[1;32m      2\u001b[0m \u001b[0;34m\u001b[0m\u001b[0m\n\u001b[0;32m----> 3\u001b[0;31m \u001b[0mplt\u001b[0m\u001b[0;34m.\u001b[0m\u001b[0mplot\u001b[0m\u001b[0;34m(\u001b[0m\u001b[0mr_1\u001b[0m\u001b[0;34m,\u001b[0m \u001b[0me_r1\u001b[0m\u001b[0;34m)\u001b[0m\u001b[0;34m\u001b[0m\u001b[0;34m\u001b[0m\u001b[0m\n\u001b[0m\u001b[1;32m      4\u001b[0m \u001b[0mplt\u001b[0m\u001b[0;34m.\u001b[0m\u001b[0mplot\u001b[0m\u001b[0;34m(\u001b[0m\u001b[0mr_2\u001b[0m\u001b[0;34m,\u001b[0m \u001b[0me_r2\u001b[0m\u001b[0;34m)\u001b[0m\u001b[0;34m\u001b[0m\u001b[0;34m\u001b[0m\u001b[0m\n\u001b[1;32m      5\u001b[0m \u001b[0mplt\u001b[0m\u001b[0;34m.\u001b[0m\u001b[0mplot\u001b[0m\u001b[0;34m(\u001b[0m\u001b[0mr_3\u001b[0m\u001b[0;34m,\u001b[0m \u001b[0me_r3\u001b[0m\u001b[0;34m)\u001b[0m\u001b[0;34m\u001b[0m\u001b[0;34m\u001b[0m\u001b[0m\n",
            "\u001b[0;31mNameError\u001b[0m: name 'e_r1' is not defined"
          ]
        }
      ]
    },
    {
      "cell_type": "code",
      "source": [
        "#radial stress\n",
        "plt.plot(r_1, sigma_r_depl1)\n",
        "plt.plot(r_2, sigma_r_depl2)\n",
        "plt.plot(r_3, sigma_r_depl3)\n",
        "plt.grid()\n"
      ],
      "metadata": {
        "colab": {
          "base_uri": "https://localhost:8080/",
          "height": 267
        },
        "id": "-27HXAsWdPnC",
        "outputId": "ded71daa-4a49-4a32-b6d9-e11ca14a5475"
      },
      "execution_count": null,
      "outputs": [
        {
          "output_type": "display_data",
          "data": {
            "text/plain": [
              "<Figure size 432x288 with 1 Axes>"
            ],
            "image/png": "[encoded data removed]"
          },
          "metadata": {
            "needs_background": "light"
          }
        }
      ]
    },
    {
      "cell_type": "code",
      "source": [
        "df = pd.DataFrame(r_1, sigma_r_depl1)\n",
        "dk = pd.DataFrame(r_2, sigma_r_depl2)\n",
        "di = pd.DataFrame(r_3, sigma_r_depl3)\n",
        "\n",
        "df.to_csv(\"out1.csv\")\n",
        "dk.to_csv(\"out2.csv\")\n",
        "di.to_csv(\"out3.csv\")\n",
        "\n",
        "\n",
        "print(df)\n",
        "print(dk)\n",
        "print(di)"
      ],
      "metadata": {
        "id": "cS0AVS0QuVHp"
      },
      "execution_count": null,
      "outputs": []
    },
    {
      "cell_type": "code",
      "source": [
        "# Hoop stress change after depletion\n",
        "\n",
        "def sigma_h_depl(G_depl, A_depl, K, delta_infinity, G, B_depl, r ):\n",
        "    return G_depl * (3 * A_depl * K - delta_infinity) + 2 * G * B_depl / r**2"
      ],
      "metadata": {
        "id": "QGHRpv_75HfN"
      },
      "execution_count": null,
      "outputs": []
    },
    {
      "cell_type": "code",
      "source": [
        "\n",
        "for i in range(20, 21):\n",
        "  # steel\n",
        "  sigma_h_depl1 =  sigma_h_depl(G_depl_1, A_depl_1, K_1, delta_infinity_1, G_1, B_depl_1, r_1)\n",
        "  # cement\n",
        "  sigma_h_depl2 =  sigma_h_depl(G_depl_2, A_depl_2, K_2, delta_infinity_2, G_2, B_depl_2, r_2)\n",
        "  # formation\n",
        "  sigma_h_depl3 =  sigma_h_depl(G_depl_3, A_depl_3, K_10, delta_infinity_3, G_10, B_depl_3, r_3)"
      ],
      "metadata": {
        "id": "YEuj-zR95HfS"
      },
      "execution_count": null,
      "outputs": []
    },
    {
      "cell_type": "code",
      "source": [
        "#hoop stress\n",
        "plt.plot(r_1, sigma_h_depl1)\n",
        "plt.plot(r_2, sigma_h_depl2)\n",
        "plt.plot(r_3, sigma_h_depl3)\n",
        "plt.grid()"
      ],
      "metadata": {
        "colab": {
          "base_uri": "https://localhost:8080/",
          "height": 265
        },
        "id": "i6Y76TuH5dVF",
        "outputId": "e231f722-34e6-475e-d98d-ed6e349b45ab"
      },
      "execution_count": null,
      "outputs": [
        {
          "output_type": "display_data",
          "data": {
            "text/plain": [
              "<Figure size 432x288 with 1 Axes>"
            ],
            "image/png": "[encoded data removed]"
          },
          "metadata": {
            "needs_background": "light"
          }
        }
      ]
    },
    {
      "cell_type": "code",
      "source": [
        "df = pd.DataFrame(r_1, sigma_h_depl1)\n",
        "dk = pd.DataFrame(r_2, sigma_h_depl2)\n",
        "di = pd.DataFrame(r_3, sigma_h_depl3)\n",
        "\n",
        "df.to_csv(\"out1.csv\")\n",
        "dk.to_csv(\"out2.csv\")\n",
        "di.to_csv(\"out3.csv\")\n",
        "\n",
        "\n",
        "print(df)\n",
        "print(dk)\n",
        "print(di)"
      ],
      "metadata": {
        "id": "uyIUfF0u6Agc"
      },
      "execution_count": null,
      "outputs": []
    },
    {
      "cell_type": "code",
      "source": [
        "#vertical stress change is zero"
      ],
      "metadata": {
        "id": "4cvrZul5519c"
      },
      "execution_count": null,
      "outputs": []
    },
    {
      "cell_type": "code",
      "source": [
        "#the end of depletion stage"
      ],
      "metadata": {
        "id": "tzskbx4ggnOR"
      },
      "execution_count": null,
      "outputs": []
    },
    {
      "cell_type": "code",
      "source": [
        "####################################\n",
        "\n",
        "#Injection\n",
        "\n",
        "####################################"
      ],
      "metadata": {
        "id": "rmVntyByEnrm"
      },
      "execution_count": null,
      "outputs": []
    },
    {
      "cell_type": "code",
      "source": [
        "delta_T = -110\n",
        "#dPf_inj is the defference between reservoir pressure at the end of injection and at the end of production.\n",
        "#dPw_inj - difference between reservoir pressure at the end of production and injection pressure\n",
        "# injection pressure after one month is 9.8 MPa, pore pressure at the end of production is 2 MPa\n",
        "dPf_inj = 35.5\n",
        "dPw_inj = 35.5\n"
      ],
      "metadata": {
        "id": "FTxLY1U43K2V"
      },
      "execution_count": null,
      "outputs": []
    },
    {
      "cell_type": "code",
      "source": [
        "# injection 1 month\n",
        "delta_T_1 = -106.7\n",
        "delta_T_2 = -106.7\n",
        "delta_T_3 = -106.7\n",
        "delta_T_4 = 0\n",
        "\n",
        "\n",
        "\n",
        "\n"
      ],
      "metadata": {
        "id": "V5rByaOdV4dL"
      },
      "execution_count": null,
      "outputs": []
    },
    {
      "cell_type": "code",
      "source": [
        "delta_inj_1 = 3 * K_1 * alpha_1 * delta_T_1\n",
        "delta_inj_2 = 3 * K_2 * alpha_2  * delta_T_2 + biot_2 * dPf_inj\n",
        "delta_inj_3 = 3 * K_3 * alpha_3  * delta_T_3 + biot_3 * dPf_inj\n",
        "delta_inj_4 = 0"
      ],
      "metadata": {
        "id": "JJfvo47b2l1d"
      },
      "execution_count": null,
      "outputs": []
    },
    {
      "cell_type": "code",
      "source": [
        "print(delta_inj_1)\n",
        "print(delta_inj_2)\n",
        "print(delta_inj_3)\n",
        "print(delta_inj_4)"
      ],
      "metadata": {
        "colab": {
          "base_uri": "https://localhost:8080/"
        },
        "id": "gJnJZpDVVcZR",
        "outputId": "7351ee5e-f957-4c3b-e545-fff3ed56ead9"
      },
      "execution_count": null,
      "outputs": [
        {
          "output_type": "stream",
          "name": "stdout",
          "text": [
            "-685.798245\n",
            "9.194000000000003\n",
            "9.194000000000003\n",
            "0\n"
          ]
        }
      ]
    },
    {
      "cell_type": "code",
      "source": [
        "#for i in range(20, 21):\n",
        "k5 = np.array([[2 * (K_1 + G_1 / 3), -2 * G_1, 0, 0, 0, 0, 0],\n",
        "               [2 * (K_1 + G_1 / 3), -2 * G_1 * (R_1 / R_2)**2, -2 * (K_2 + G_2 / 3), 2 * G_2, 0, 0, 0],\n",
        "               [1, R_1**2 / R_2**2, -1, -1, 0, 0, 0],                                                                                                                                        \n",
        "               [0, 0, 2 * (K_2 + G_2 / 3), -2 * G_2 * (R_2 / R_3)**2, -2 * (K_3 + G_3 / 3), 2 * G_3, 0],                      \n",
        "               [0, 0, 1, R_2**2 / R_3**2, -1, -1, 0],\n",
        "               [0, 0, 0, 0, 2 * ( K_3 + G_3 / 3), -2 * G_3 * (R_3 / R_4)**2, 2 * G_10],\n",
        "               [0, 0, 0, 0, 1, (R_3 / R_4)**2, -1]])   \n",
        "\n",
        "print(k5)                                                                          \n"
      ],
      "metadata": {
        "id": "t3p-zMU8MxAG",
        "colab": {
          "base_uri": "https://localhost:8080/"
        },
        "outputId": "541e8eb4-8fd4-4186-a1e3-83b0995abe95"
      },
      "execution_count": null,
      "outputs": [
        {
          "output_type": "stream",
          "name": "stdout",
          "text": [
            "[[ 3.98076923e+05 -1.59230769e+05  0.00000000e+00  0.00000000e+00\n",
            "   0.00000000e+00  0.00000000e+00  0.00000000e+00]\n",
            " [ 3.98076923e+05 -1.25458810e+05 -1.66666667e+04  1.00000000e+04\n",
            "   0.00000000e+00  0.00000000e+00  0.00000000e+00]\n",
            " [ 1.00000000e+00  7.87905567e-01 -1.00000000e+00 -1.00000000e+00\n",
            "   0.00000000e+00  0.00000000e+00  0.00000000e+00]\n",
            " [ 0.00000000e+00  0.00000000e+00  1.66666667e+04 -6.79098080e+03\n",
            "  -1.66666667e+04  1.00000000e+04  0.00000000e+00]\n",
            " [ 0.00000000e+00  0.00000000e+00  1.00000000e+00  6.79098080e-01\n",
            "  -1.00000000e+00 -1.00000000e+00  0.00000000e+00]\n",
            " [ 0.00000000e+00  0.00000000e+00  0.00000000e+00  0.00000000e+00\n",
            "   1.66666667e+04 -1.16640000e+02  8.87096774e+03]\n",
            " [ 0.00000000e+00  0.00000000e+00  0.00000000e+00  0.00000000e+00\n",
            "   1.00000000e+00  1.16640000e-02 -1.00000000e+00]]\n"
          ]
        }
      ]
    },
    {
      "cell_type": "code",
      "source": [
        "# Calculation the inverse matrix\n",
        "for i in range(20, 21):\n",
        "  kk5 =np.linalg.inv(k5)\n",
        "\n",
        "print(kk5)"
      ],
      "metadata": {
        "colab": {
          "base_uri": "https://localhost:8080/"
        },
        "outputId": "dbddf63f-2568-4583-cd69-3f8c9246568e",
        "id": "Jon4DqaT_tjg"
      },
      "execution_count": null,
      "outputs": [
        {
          "output_type": "stream",
          "name": "stdout",
          "text": [
            "[[-6.47213817e-06  8.76425610e-06  8.75607452e-02  8.76570590e-06\n",
            "   8.75365818e-02  9.14852474e-06  8.11562679e-02]\n",
            " [-2.24605387e-05  2.19106403e-05  2.18901863e-01  2.19142648e-05\n",
            "   2.18841455e-01  2.28713118e-05  2.02890670e-01]\n",
            " [-8.46078993e-09  9.11151564e-09 -2.59038889e-04  3.75153164e-05\n",
            "   3.74637547e-01  3.91536978e-05  3.47331190e-01]\n",
            " [-2.41604608e-05  2.60186600e-05 -7.39706219e-01 -1.14832392e-05\n",
            "  -1.14674565e-01 -1.19847391e-05 -1.06316234e-01]\n",
            " [-8.46078993e-09  9.11151564e-09 -2.59038889e-04  1.53163505e-08\n",
            "  -3.62452804e-04  3.91536978e-05  3.47331190e-01]\n",
            " [-1.64073226e-05  1.76692221e-05 -5.02333073e-01  2.97017543e-05\n",
            "  -7.02875277e-01 -8.13881331e-06 -7.21991503e-02]\n",
            " [-1.99835800e-07  2.15205322e-07 -6.11825185e-03  3.61757613e-07\n",
            "  -8.56079003e-03  3.90587667e-05 -6.53510941e-01]]\n"
          ]
        }
      ]
    },
    {
      "cell_type": "code",
      "source": [
        "for i in range(20, 21):\n",
        "  g5 = np.array([[delta_inj_1 - dPw_inj],\n",
        "                [delta_inj_1 - delta_inj_2],\n",
        "                [0],\n",
        "                [delta_inj_2 - delta_inj_3],\n",
        "                [0],\n",
        "                [delta_inj_3],\n",
        "                [0]])   \n",
        "  \n",
        "  print(g5)"
      ],
      "metadata": {
        "id": "j6fkp2yEOlil",
        "colab": {
          "base_uri": "https://localhost:8080/"
        },
        "outputId": "599599fb-18d0-4f73-bd69-652b6d220d4a"
      },
      "execution_count": null,
      "outputs": [
        {
          "output_type": "stream",
          "name": "stdout",
          "text": [
            "[[-721.298245]\n",
            " [-694.992245]\n",
            " [   0.      ]\n",
            " [   0.      ]\n",
            " [   0.      ]\n",
            " [   9.194   ]\n",
            " [   0.      ]]\n"
          ]
        }
      ]
    },
    {
      "cell_type": "code",
      "source": [
        "#Multiplication of the inverse matrix by vector\n",
        "\n",
        "for i in range(20, 21):\n",
        "  ff = kk5.dot(g5)\n",
        "\n",
        "print(ff)"
      ],
      "metadata": {
        "colab": {
          "base_uri": "https://localhost:8080/"
        },
        "outputId": "82717fc8-f882-4f3c-d55a-5dea41b12f36",
        "id": "v5a__KOR_tjl"
      },
      "execution_count": null,
      "outputs": [
        {
          "output_type": "stream",
          "name": "stdout",
          "text": [
            "[[-0.00133864]\n",
            " [ 0.0011833 ]\n",
            " [ 0.00035975]\n",
            " [-0.00076606]\n",
            " [ 0.00035975]\n",
            " [-0.00052023]\n",
            " [ 0.00035368]]\n"
          ]
        }
      ]
    },
    {
      "cell_type": "code",
      "source": [
        "for i in range(20, 21):\n",
        "  A_1_inj = ff[0]\n",
        "  B_1_inj = ff[1] * R_1**2\n",
        "  A_2_inj = ff[2]\n",
        "  B_2_inj = ff[3] * R_2**2 \n",
        "  A_3_inj = ff[4]\n",
        "  B_3_inj = ff[5] * R_3**2\n",
        "  A_4_inj = 0\n",
        "  B_4_inj = ff[6] * R_4**2\n",
        "\n",
        "  \n",
        "  sheet_obj.cell(row=i, column=12).value = A_1_inj[0]\n",
        "  sheet_obj.cell(row=i, column=13).value = B_1_inj[0]\n",
        "  sheet_obj.cell(row=i, column=23).value = A_2_inj[0]\n",
        "  sheet_obj.cell(row=i, column=24).value = B_2_inj[0]\n",
        "  sheet_obj.cell(row=i, column=33).value = A_3_inj[0]\n",
        "  sheet_obj.cell(row=i, column=34).value = B_3_inj[0]\n",
        "\n",
        "  A_inj_1 = A_1_inj[0]\n",
        "  B_inj_1 = B_1_inj[0]\n",
        "  A_inj_2 = A_2_inj[0]\n",
        "  B_inj_2 = B_2_inj[0]\n",
        "  A_inj_3 = A_3_inj[0]\n",
        "  B_inj_3 = B_3_inj[0]\n",
        "  A_inj_4 = A_4_inj\n",
        "  B_inj_4 = B_4_inj[0]\n",
        "\n",
        "\n",
        "\n",
        "\n",
        "A_inj_1, B_1_inj, A_2_inj, B_2_inj, A_3_inj,  B_3_inj"
      ],
      "metadata": {
        "colab": {
          "base_uri": "https://localhost:8080/"
        },
        "id": "ZRrEjcTWQRyX",
        "outputId": "75d5fa63-2b31-4a7d-b51e-82aaa67ade32"
      },
      "execution_count": null,
      "outputs": [
        {
          "output_type": "execute_result",
          "data": {
            "text/plain": [
              "(-0.0013386365862817866,\n",
              " array([7.38498088e-06]),\n",
              " array([0.00035975]),\n",
              " array([-6.06793466e-06]),\n",
              " array([0.00035975]),\n",
              " array([-6.06793466e-06]))"
            ]
          },
          "metadata": {},
          "execution_count": 14
        }
      ]
    },
    {
      "cell_type": "code",
      "source": [
        "#displacement\n",
        "\n",
        "def e_inj(r, A_inj, B_inj):\n",
        "    return A_inj * r + B_inj / r\n"
      ],
      "metadata": {
        "id": "PDIsniBQwRLT"
      },
      "execution_count": null,
      "outputs": []
    },
    {
      "cell_type": "code",
      "source": [
        "# displacement\n",
        "\n",
        "for i in range(20, 21):\n",
        "  # cement\n",
        "  e_inj_2 = e_inj(r_2, A_inj_2, B_inj_2)\n",
        "  # steel\n",
        "  e_inj_1 = e_inj(r_1, A_inj_1, B_inj_1)\n",
        "  # far_cement\n",
        "  e_inj_3 = e_inj(r_3, A_inj_3, B_inj_3)\n",
        "  # formation\n",
        "  e_inj_4 = e_inj(r_4, A_inj_4, B_inj_4)\n",
        "\n",
        "\n",
        "\n",
        "\n",
        "  #sheet_obj.cell(row=i, column=8).value = u1\n",
        "  #sheet_obj.cell(row=i, column=19).value = u2\n",
        "  #sheet_obj.cell(row=i, column=29).value = u3"
      ],
      "metadata": {
        "id": "bDd4HiBQvtDK"
      },
      "execution_count": null,
      "outputs": []
    },
    {
      "cell_type": "code",
      "source": [
        "plt.plot(r_1, e_inj_1)\n",
        "plt.plot(r_2, e_inj_2)\n",
        "plt.plot(r_3, e_inj_3)\n",
        "plt.plot(r_4, e_inj_4)\n",
        "plt.grid()"
      ],
      "metadata": {
        "colab": {
          "base_uri": "https://localhost:8080/",
          "height": 265
        },
        "id": "A2-pmuCEyYnZ",
        "outputId": "58438735-5d8c-4f3e-aa99-fcfd474fb73c"
      },
      "execution_count": null,
      "outputs": [
        {
          "output_type": "display_data",
          "data": {
            "text/plain": [
              "<Figure size 432x288 with 1 Axes>"
            ],
            "image/png": "[encoded data removed]"
          },
          "metadata": {
            "needs_background": "light"
          }
        }
      ]
    },
    {
      "cell_type": "code",
      "source": [
        "df = pd.DataFrame(r_1, e_inj_1)\n",
        "dk = pd.DataFrame(r_2, e_inj_2)\n",
        "di = pd.DataFrame(r_3, e_inj_3)\n",
        "dm = pd.DataFrame(r_4, e_inj_4)\n",
        "\n",
        "\n",
        "print(df)\n",
        "print(dk)\n",
        "print(di)\n",
        "print(dm)"
      ],
      "metadata": {
        "id": "VYzx59NBE_Ys",
        "colab": {
          "base_uri": "https://localhost:8080/"
        },
        "outputId": "9832312a-ecf3-47ec-e25c-bfedc8488189"
      },
      "execution_count": null,
      "outputs": [
        {
          "output_type": "stream",
          "name": "stdout",
          "text": [
            "                  0\n",
            "-0.000012  0.079000\n",
            "-0.000013  0.079204\n",
            "-0.000013  0.079408\n",
            "-0.000014  0.079612\n",
            "-0.000014  0.079816\n",
            "-0.000015  0.080020\n",
            "-0.000015  0.080224\n",
            "-0.000016  0.080429\n",
            "-0.000016  0.080633\n",
            "-0.000017  0.080837\n",
            "-0.000017  0.081041\n",
            "-0.000018  0.081245\n",
            "-0.000018  0.081449\n",
            "-0.000019  0.081653\n",
            "-0.000019  0.081857\n",
            "-0.000020  0.082061\n",
            "-0.000020  0.082265\n",
            "-0.000021  0.082469\n",
            "-0.000021  0.082673\n",
            "-0.000022  0.082878\n",
            "-0.000022  0.083082\n",
            "-0.000023  0.083286\n",
            "-0.000023  0.083490\n",
            "-0.000024  0.083694\n",
            "-0.000024  0.083898\n",
            "-0.000025  0.084102\n",
            "-0.000025  0.084306\n",
            "-0.000026  0.084510\n",
            "-0.000026  0.084714\n",
            "-0.000027  0.084918\n",
            "-0.000027  0.085122\n",
            "-0.000028  0.085327\n",
            "-0.000028  0.085531\n",
            "-0.000029  0.085735\n",
            "-0.000029  0.085939\n",
            "-0.000030  0.086143\n",
            "-0.000030  0.086347\n",
            "-0.000031  0.086551\n",
            "-0.000031  0.086755\n",
            "-0.000031  0.086959\n",
            "-0.000032  0.087163\n",
            "-0.000032  0.087367\n",
            "-0.000033  0.087571\n",
            "-0.000033  0.087776\n",
            "-0.000034  0.087980\n",
            "-0.000034  0.088184\n",
            "-0.000035  0.088388\n",
            "-0.000035  0.088592\n",
            "-0.000036  0.088796\n",
            "-0.000036  0.089000\n",
            "                  0\n",
            "-0.000036  0.089000\n",
            "-0.000036  0.089388\n",
            "-0.000035  0.089776\n",
            "-0.000035  0.090163\n",
            "-0.000034  0.090551\n",
            "-0.000034  0.090939\n",
            "-0.000034  0.091327\n",
            "-0.000033  0.091714\n",
            "-0.000033  0.092102\n",
            "-0.000032  0.092490\n",
            "-0.000032  0.092878\n",
            "-0.000032  0.093265\n",
            "-0.000031  0.093653\n",
            "-0.000031  0.094041\n",
            "-0.000030  0.094429\n",
            "-0.000030  0.094816\n",
            "-0.000029  0.095204\n",
            "-0.000029  0.095592\n",
            "-0.000029  0.095980\n",
            "-0.000028  0.096367\n",
            "-0.000028  0.096755\n",
            "-0.000028  0.097143\n",
            "-0.000027  0.097531\n",
            "-0.000027  0.097918\n",
            "-0.000026  0.098306\n",
            "-0.000026  0.098694\n",
            "-0.000026  0.099082\n",
            "-0.000025  0.099469\n",
            "-0.000025  0.099857\n",
            "-0.000024  0.100245\n",
            "-0.000024  0.100633\n",
            "-0.000024  0.101020\n",
            "-0.000023  0.101408\n",
            "-0.000023  0.101796\n",
            "-0.000023  0.102184\n",
            "-0.000022  0.102571\n",
            "-0.000022  0.102959\n",
            "-0.000022  0.103347\n",
            "-0.000021  0.103735\n",
            "-0.000021  0.104122\n",
            "-0.000020  0.104510\n",
            "-0.000020  0.104898\n",
            "-0.000020  0.105286\n",
            "-0.000019  0.105673\n",
            "-0.000019  0.106061\n",
            "-0.000019  0.106449\n",
            "-0.000018  0.106837\n",
            "-0.000018  0.107224\n",
            "-0.000018  0.107612\n",
            "-0.000017  0.108000\n",
            "                  0\n",
            "-0.000017  0.108000\n",
            "-0.000003  0.126204\n",
            " 0.000010  0.144408\n",
            " 0.000021  0.162612\n",
            " 0.000031  0.180816\n",
            " 0.000041  0.199020\n",
            " 0.000050  0.217224\n",
            " 0.000059  0.235429\n",
            " 0.000067  0.253633\n",
            " 0.000075  0.271837\n",
            " 0.000083  0.290041\n",
            " 0.000091  0.308245\n",
            " 0.000099  0.326449\n",
            " 0.000106  0.344653\n",
            " 0.000114  0.362857\n",
            " 0.000121  0.381061\n",
            " 0.000128  0.399265\n",
            " 0.000136  0.417469\n",
            " 0.000143  0.435673\n",
            " 0.000150  0.453878\n",
            " 0.000157  0.472082\n",
            " 0.000164  0.490286\n",
            " 0.000171  0.508490\n",
            " 0.000178  0.526694\n",
            " 0.000185  0.544898\n",
            " 0.000192  0.563102\n",
            " 0.000199  0.581306\n",
            " 0.000206  0.599510\n",
            " 0.000212  0.617714\n",
            " 0.000219  0.635918\n",
            " 0.000226  0.654122\n",
            " 0.000233  0.672327\n",
            " 0.000240  0.690531\n",
            " 0.000246  0.708735\n",
            " 0.000253  0.726939\n",
            " 0.000260  0.745143\n",
            " 0.000267  0.763347\n",
            " 0.000273  0.781551\n",
            " 0.000280  0.799755\n",
            " 0.000287  0.817959\n",
            " 0.000294  0.836163\n",
            " 0.000300  0.854367\n",
            " 0.000307  0.872571\n",
            " 0.000314  0.890776\n",
            " 0.000320  0.908980\n",
            " 0.000327  0.927184\n",
            " 0.000334  0.945388\n",
            " 0.000340  0.963592\n",
            " 0.000347  0.981796\n",
            " 0.000354  1.000000\n",
            "                 0\n",
            "0.000354  1.000000\n",
            "0.000347  1.020408\n",
            "0.000340  1.040816\n",
            "0.000333  1.061224\n",
            "0.000327  1.081633\n",
            "0.000321  1.102041\n",
            "0.000315  1.122449\n",
            "0.000309  1.142857\n",
            "0.000304  1.163265\n",
            "0.000299  1.183673\n",
            "0.000294  1.204082\n",
            "0.000289  1.224490\n",
            "0.000284  1.244898\n",
            "0.000280  1.265306\n",
            "0.000275  1.285714\n",
            "0.000271  1.306122\n",
            "0.000267  1.326531\n",
            "0.000263  1.346939\n",
            "0.000259  1.367347\n",
            "0.000255  1.387755\n",
            "0.000251  1.408163\n",
            "0.000248  1.428571\n",
            "0.000244  1.448980\n",
            "0.000241  1.469388\n",
            "0.000237  1.489796\n",
            "0.000234  1.510204\n",
            "0.000231  1.530612\n",
            "0.000228  1.551020\n",
            "0.000225  1.571429\n",
            "0.000222  1.591837\n",
            "0.000219  1.612245\n",
            "0.000217  1.632653\n",
            "0.000214  1.653061\n",
            "0.000211  1.673469\n",
            "0.000209  1.693878\n",
            "0.000206  1.714286\n",
            "0.000204  1.734694\n",
            "0.000202  1.755102\n",
            "0.000199  1.775510\n",
            "0.000197  1.795918\n",
            "0.000195  1.816327\n",
            "0.000193  1.836735\n",
            "0.000190  1.857143\n",
            "0.000188  1.877551\n",
            "0.000186  1.897959\n",
            "0.000184  1.918367\n",
            "0.000182  1.938776\n",
            "0.000181  1.959184\n",
            "0.000179  1.979592\n",
            "0.000177  2.000000\n"
          ]
        }
      ]
    },
    {
      "cell_type": "code",
      "source": [
        "def sigma_r_inj(K, A_inj, G, B_inj, r, delta_inj):\n",
        "    return 2 * K * A_inj + 2 * G / 3 * (A_inj - 3 * B_inj / r**2) - delta_inj\n",
        "\n",
        "def sigma_h_inj(K, A_inj, G, B_inj, r, delta_inj):\n",
        "    return 2 * K * A_inj + 2 * G / 3 * (A_inj + 3 * B_inj / r**2) - delta_inj"
      ],
      "metadata": {
        "id": "_cROCMWP7nTs"
      },
      "execution_count": null,
      "outputs": []
    },
    {
      "cell_type": "code",
      "source": [
        "sigma_v_inj_4 = - delta_inj_4\n",
        "\n",
        "sigma_v_inj_1 = (K_1 - 2 * G_1 / 3) * 2 * A_inj_1 - delta_inj_1\n",
        "\n",
        "sigma_v_inj_2 = (K_2 - 2 * G_2 / 3) * 2 * A_inj_2 - delta_inj_2\n",
        "\n",
        "sigma_v_inj_3 = (K_10 - 2 * G_10 / 3) * 2 * A_inj_3 - delta_inj_3\n",
        "\n",
        "print(sigma_v_inj_1)\n",
        "print(sigma_v_inj_2)\n",
        "print(sigma_v_inj_3)\n",
        "print(sigma_v_inj_4)"
      ],
      "metadata": {
        "colab": {
          "base_uri": "https://localhost:8080/"
        },
        "id": "fMK5Ot66onwB",
        "outputId": "5bf33071-0edd-476a-9c7b-1814112afb4f"
      },
      "execution_count": null,
      "outputs": [
        {
          "output_type": "stream",
          "name": "stdout",
          "text": [
            "366.07004496885014\n",
            "-6.795670549161846\n",
            "-6.248161096365047\n",
            "0\n"
          ]
        }
      ]
    },
    {
      "cell_type": "code",
      "source": [
        "#radial stress\n",
        "\n",
        "for i in range(20, 21):\n",
        "  # steel\n",
        "  sigma_r_inj1 =  sigma_r_inj(K_1, A_inj_1, G_1, B_inj_1, r_1, delta_inj_1)\n",
        "  # cement\n",
        "  sigma_r_inj2 =  sigma_r_inj(K_2, A_inj_2, G_2, B_inj_2, r_2, delta_inj_2)\n",
        "  # far cement\n",
        "  sigma_r_inj3 =  sigma_r_inj(K_3, A_inj_3, G_3, B_inj_3, r_3, delta_inj_3)\n",
        "  # formation\n",
        "  sigma_r_inj4 =  sigma_r_inj(K_10, A_inj_4, G_10, B_inj_4, r_4, delta_inj_4)\n",
        "\n"
      ],
      "metadata": {
        "id": "1MFkuSPq65BC"
      },
      "execution_count": null,
      "outputs": []
    },
    {
      "cell_type": "code",
      "source": [
        "#radial stress\n",
        "plt.plot(r_1, sigma_r_inj1)\n",
        "plt.plot(r_2, sigma_r_inj2)\n",
        "plt.plot(r_3, sigma_r_inj3)\n",
        "plt.plot(r_4, sigma_r_inj4)\n",
        "plt.grid()\n"
      ],
      "metadata": {
        "colab": {
          "base_uri": "https://localhost:8080/",
          "height": 265
        },
        "id": "-FHBs7xXKoBP",
        "outputId": "be140975-e94c-44b7-ae03-be4709c9d2bb"
      },
      "execution_count": null,
      "outputs": [
        {
          "output_type": "display_data",
          "data": {
            "text/plain": [
              "<Figure size 432x288 with 1 Axes>"
            ],
            "image/png": "[encoded data removed]"
          },
          "metadata": {
            "needs_background": "light"
          }
        }
      ]
    },
    {
      "cell_type": "code",
      "source": [
        "df = pd.DataFrame(r_1, sigma_r_inj1)\n",
        "dk = pd.DataFrame(r_2, sigma_r_inj2)\n",
        "di = pd.DataFrame(r_3, sigma_r_inj3)\n",
        "dm = pd.DataFrame(r_4, sigma_r_inj4)\n",
        "\n",
        "df.to_csv(\"out1.csv\")\n",
        "dk.to_csv(\"out2.csv\")\n",
        "di.to_csv(\"out3.csv\")\n",
        "dm.to_csv(\"out4.csv\")\n",
        "\n",
        "\n",
        "print(df)\n",
        "print(dk)\n",
        "print(di)\n",
        "print(dm)"
      ],
      "metadata": {
        "id": "GB6XxCqlKGTw"
      },
      "execution_count": null,
      "outputs": []
    },
    {
      "cell_type": "code",
      "source": [
        "# hoop stress\n",
        "\n",
        "for i in range(20, 21):\n",
        "  # steel\n",
        "  sigma_h_inj1 =  sigma_h_inj(K_1, A_inj_1, G_1, B_inj_1, r_1, delta_inj_1)\n",
        "  # cement\n",
        "  sigma_h_inj2 =  sigma_h_inj(K_2, A_inj_2, G_2, B_inj_2, r_2, delta_inj_2)\n",
        "  # formation\n",
        "  sigma_h_inj3 =  sigma_h_inj(K_10, A_inj_3, G_10, B_inj_3, r_3, delta_inj_3)\n",
        "  sigma_h_inj4 =  sigma_h_inj(K_10, A_inj_4, G_10, B_inj_4, r_4, delta_inj_4)"
      ],
      "metadata": {
        "id": "MeHNg2YN6UmM"
      },
      "execution_count": null,
      "outputs": []
    },
    {
      "cell_type": "code",
      "source": [
        "#hoop stress\n",
        "plt.plot(r_1, sigma_h_inj1)\n",
        "plt.plot(r_2, sigma_h_inj2)\n",
        "plt.plot(r_3, sigma_h_inj3)\n",
        "plt.plot(r_4, sigma_h_inj4)\n",
        "plt.grid()\n"
      ],
      "metadata": {
        "colab": {
          "base_uri": "https://localhost:8080/",
          "height": 265
        },
        "id": "_EpEMrJg6sQU",
        "outputId": "83d38591-7a27-4ca3-d0b3-f5c3222fe6d9"
      },
      "execution_count": null,
      "outputs": [
        {
          "output_type": "display_data",
          "data": {
            "text/plain": [
              "<Figure size 432x288 with 1 Axes>"
            ],
            "image/png": "[encoded data removed]"
          },
          "metadata": {
            "needs_background": "light"
          }
        }
      ]
    },
    {
      "cell_type": "code",
      "source": [
        "df = pd.DataFrame(r_1, sigma_h_inj1)\n",
        "dk = pd.DataFrame(r_2, sigma_h_inj2)\n",
        "di = pd.DataFrame(r_3, sigma_h_inj3)\n",
        "dm = pd.DataFrame(r_4, sigma_h_inj4)\n",
        "\n",
        "df.to_csv(\"out1.csv\")\n",
        "dk.to_csv(\"out2.csv\")\n",
        "di.to_csv(\"out3.csv\")\n",
        "dm.to_csv(\"out4.csv\")\n",
        "\n",
        "\n",
        "print(df)\n",
        "print(dk)\n",
        "print(di)\n",
        "print(dm)"
      ],
      "metadata": {
        "colab": {
          "base_uri": "https://localhost:8080/"
        },
        "id": "qs3hLrpHi7Jb",
        "outputId": "9d74d3b0-12eb-45bb-e73d-76cb61f5a395"
      },
      "execution_count": null,
      "outputs": [
        {
          "output_type": "stream",
          "name": "stdout",
          "text": [
            "                   0\n",
            "341.335823  0.079000\n",
            "340.366098  0.079204\n",
            "339.403840  0.079408\n",
            "338.448972  0.079612\n",
            "337.501420  0.079816\n",
            "336.561108  0.080020\n",
            "335.627963  0.080224\n",
            "334.701913  0.080429\n",
            "333.782885  0.080633\n",
            "332.870809  0.080837\n",
            "331.965615  0.081041\n",
            "331.067233  0.081245\n",
            "330.175597  0.081449\n",
            "329.290637  0.081653\n",
            "328.412288  0.081857\n",
            "327.540484  0.082061\n",
            "326.675161  0.082265\n",
            "325.816253  0.082469\n",
            "324.963699  0.082673\n",
            "324.117434  0.082878\n",
            "323.277399  0.083082\n",
            "322.443531  0.083286\n",
            "321.615770  0.083490\n",
            "320.794057  0.083694\n",
            "319.978334  0.083898\n",
            "319.168542  0.084102\n",
            "318.364623  0.084306\n",
            "317.566521  0.084510\n",
            "316.774181  0.084714\n",
            "315.987546  0.084918\n",
            "315.206562  0.085122\n",
            "314.431175  0.085327\n",
            "313.661333  0.085531\n",
            "312.896981  0.085735\n",
            "312.138068  0.085939\n",
            "311.384542  0.086143\n",
            "310.636353  0.086347\n",
            "309.893451  0.086551\n",
            "309.155785  0.086755\n",
            "308.423306  0.086959\n",
            "307.695967  0.087163\n",
            "306.973718  0.087367\n",
            "306.256514  0.087571\n",
            "305.544306  0.087776\n",
            "304.837048  0.087980\n",
            "304.134695  0.088184\n",
            "303.437202  0.088388\n",
            "302.744523  0.088592\n",
            "302.056615  0.088796\n",
            "301.373433  0.089000\n",
            "                   0\n",
            "-10.858743  0.089000\n",
            "-10.792425  0.089388\n",
            "-10.726965  0.089776\n",
            "-10.662348  0.090163\n",
            "-10.598559  0.090551\n",
            "-10.535585  0.090939\n",
            "-10.473411  0.091327\n",
            "-10.412023  0.091714\n",
            "-10.351410  0.092102\n",
            "-10.291557  0.092490\n",
            "-10.232452  0.092878\n",
            "-10.174083  0.093265\n",
            "-10.116437  0.093653\n",
            "-10.059503  0.094041\n",
            "-10.003269  0.094429\n",
            "-9.947724   0.094816\n",
            "-9.892855   0.095204\n",
            "-9.838653   0.095592\n",
            "-9.785107   0.095980\n",
            "-9.732206   0.096367\n",
            "-9.679939   0.096755\n",
            "-9.628297   0.097143\n",
            "-9.577270   0.097531\n",
            "-9.526848   0.097918\n",
            "-9.477021   0.098306\n",
            "-9.427781   0.098694\n",
            "-9.379117   0.099082\n",
            "-9.331022   0.099469\n",
            "-9.283485   0.099857\n",
            "-9.236499   0.100245\n",
            "-9.190056   0.100633\n",
            "-9.144146   0.101020\n",
            "-9.098761   0.101408\n",
            "-9.053895   0.101796\n",
            "-9.009538   0.102184\n",
            "-8.965683   0.102571\n",
            "-8.922323   0.102959\n",
            "-8.879449   0.103347\n",
            "-8.837056   0.103735\n",
            "-8.795136   0.104122\n",
            "-8.753681   0.104510\n",
            "-8.712685   0.104898\n",
            "-8.672141   0.105286\n",
            "-8.632043   0.105673\n",
            "-8.592384   0.106061\n",
            "-8.553157   0.106449\n",
            "-8.514356   0.106837\n",
            "-8.475976   0.107224\n",
            "-8.438010   0.107612\n",
            "-8.400452   0.108000\n",
            "                  0\n",
            "-7.671758  0.108000\n",
            "-6.436434  0.126204\n",
            "-5.638076  0.144408\n",
            "-5.092496  0.162612\n",
            "-4.703240  0.180816\n",
            "-4.415827  0.199020\n",
            "-4.197596  0.217224\n",
            "-4.028002  0.235429\n",
            "-3.893597  0.253633\n",
            "-3.785279  0.271837\n",
            "-3.696708  0.290041\n",
            "-3.623362  0.308245\n",
            "-3.561940  0.326449\n",
            "-3.509991  0.344653\n",
            "-3.465664  0.362857\n",
            "-3.427535  0.381061\n",
            "-3.394503  0.399265\n",
            "-3.365696  0.417469\n",
            "-3.340425  0.435673\n",
            "-3.318133  0.453878\n",
            "-3.298369  0.472082\n",
            "-3.280766  0.490286\n",
            "-3.265020  0.508490\n",
            "-3.250877  0.526694\n",
            "-3.238129  0.544898\n",
            "-3.226597  0.563102\n",
            "-3.216131  0.581306\n",
            "-3.206604  0.599510\n",
            "-3.197906  0.617714\n",
            "-3.189945  0.635918\n",
            "-3.182639  0.654122\n",
            "-3.175919  0.672327\n",
            "-3.169723  0.690531\n",
            "-3.163999  0.708735\n",
            "-3.158699  0.726939\n",
            "-3.153782  0.745143\n",
            "-3.149213  0.763347\n",
            "-3.144960  0.781551\n",
            "-3.140994  0.799755\n",
            "-3.137290  0.817959\n",
            "-3.133825  0.836163\n",
            "-3.130579  0.854367\n",
            "-3.127534  0.872571\n",
            "-3.124674  0.890776\n",
            "-3.121984  0.908980\n",
            "-3.119451  0.927184\n",
            "-3.117063  0.945388\n",
            "-3.114809  0.963592\n",
            "-3.112679  0.981796\n",
            "-3.110664  1.000000\n",
            "                 0\n",
            "3.137497  1.000000\n",
            "3.013252  1.020408\n",
            "2.896244  1.040816\n",
            "2.785921  1.061224\n",
            "2.681784  1.081633\n",
            "2.583378  1.102041\n",
            "2.490291  1.122449\n",
            "2.402146  1.142857\n",
            "2.318600  1.163265\n",
            "2.239337  1.183673\n",
            "2.164071  1.204082\n",
            "2.092536  1.224490\n",
            "2.024491  1.244898\n",
            "1.959711  1.265306\n",
            "1.897992  1.285714\n",
            "1.839143  1.306122\n",
            "1.782989  1.326531\n",
            "1.729369  1.346939\n",
            "1.678131  1.367347\n",
            "1.629137  1.387755\n",
            "1.582258  1.408163\n",
            "1.537374  1.428571\n",
            "1.494372  1.448980\n",
            "1.453150  1.469388\n",
            "1.413611  1.489796\n",
            "1.375663  1.510204\n",
            "1.339223  1.530612\n",
            "1.304212  1.551020\n",
            "1.270557  1.571429\n",
            "1.238187  1.591837\n",
            "1.207039  1.612245\n",
            "1.177052  1.632653\n",
            "1.148168  1.653061\n",
            "1.120335  1.673469\n",
            "1.093501  1.693878\n",
            "1.067621  1.714286\n",
            "1.042648  1.734694\n",
            "1.018541  1.755102\n",
            "0.995261  1.775510\n",
            "0.972770  1.795918\n",
            "0.951033  1.816327\n",
            "0.930016  1.836735\n",
            "0.909688  1.857143\n",
            "0.890020  1.877551\n",
            "0.870983  1.897959\n",
            "0.852550  1.918367\n",
            "0.834696  1.938776\n",
            "0.817397  1.959184\n",
            "0.800630  1.979592\n",
            "0.784374  2.000000\n"
          ]
        }
      ]
    },
    {
      "cell_type": "code",
      "source": [
        "#vertical stress\n",
        "\n",
        "plt.hlines((sigma_v_inj_1, sigma_v_inj_1), R_1, R_2)\n",
        "plt.hlines((sigma_v_inj_2, sigma_v_inj_2), R_2, R_3)\n",
        "plt.hlines((sigma_v_inj_3, sigma_v_inj_3), R_3, 3 * R_3)\n",
        "plt.grid()"
      ],
      "metadata": {
        "id": "a4--4Zb97dc2",
        "colab": {
          "base_uri": "https://localhost:8080/",
          "height": 265
        },
        "outputId": "2a6d1b2e-5ea0-41a2-9733-93cd5eb8105b"
      },
      "execution_count": null,
      "outputs": [
        {
          "output_type": "display_data",
          "data": {
            "text/plain": [
              "<Figure size 432x288 with 1 Axes>"
            ],
            "image/png": "[encoded data removed]"
          },
          "metadata": {
            "needs_background": "light"
          }
        }
      ]
    },
    {
      "cell_type": "markdown",
      "source": [
        ""
      ],
      "metadata": {
        "id": "0lsGV9zezqE8"
      }
    },
    {
      "cell_type": "code",
      "execution_count": null,
      "metadata": {
        "id": "L4CEMzu2CUiy"
      },
      "outputs": [],
      "source": [
        "# Case 2.3"
      ]
    },
    {
      "cell_type": "code",
      "execution_count": null,
      "metadata": {
        "colab": {
          "base_uri": "https://localhost:8080/"
        },
        "id": "IekwSvFSCUiz",
        "outputId": "28dc8ec5-b568-4d3f-c9e1-77a5c3b703ef"
      },
      "outputs": [
        {
          "output_type": "execute_result",
          "data": {
            "text/plain": [
              "(array([[ 79615.38461538,  37395.36885073],\n",
              "        [199038.46153846,  -5116.66666667]]), array([[-0.0614],\n",
              "        [ 2.139 ]]))"
            ]
          },
          "metadata": {},
          "execution_count": 24
        }
      ],
      "source": [
        "phi1 = (R_1 / R_2)**2\n",
        "phi2 = (R_2 / R_3)**2\n",
        "phi3 = (R_3 / R_4)**2\n",
        "phi4 = (R_4 / R_5)**2\n",
        "phi5 = (R_5 / R_6)**2\n",
        "phi6 = (R_6 / R_7)**2\n",
        "phi7 = (R_7 / R_8)**2\n",
        "phi8 = (R_8 / R_9)**2\n",
        "phi9 = (R_9 / R_10)**2\n",
        "D1 = G_1 * G_2 + (K_1 + G_1 / 3)  * (G_2 * phi1 + G_1 * (1 - phi1))\n",
        "D2 = G_2 * G_3 + (K_2 + G_2 / 3)  * (G_3 * phi2 + G_2 * (1 - phi2))\n",
        "D3 = G_3 * G_4 + (K_3 + G_3 / 3)  * (G_4 * phi3 + G_3 * (1 - phi3))\n",
        "D4 = G_4 * G_5 + (K_4 + G_4 / 3)  * (G_5 * phi4 + G_4 * (1 - phi4))\n",
        "D5 = G_5 * G_6 + (K_5 + G_5 / 3)  * (G_6 * phi5 + G_5 * (1 - phi5))\n",
        "D6 = G_6 * G_7 + (K_6 + G_6 / 3)  * (G_7 * phi6 + G_6 * (1 - phi6))\n",
        "D7 = G_7 * G_8 + (K_7 + G_7 / 3)  * (G_8 * phi7 + G_7 * (1 - phi7))\n",
        "D8 = G_8 * G_9 + (K_8 + G_8 / 3)  * (G_9 * phi8 + G_8 * (1 - phi8))\n",
        "D9 = G_9 * G_10 + (K_9 + G_9 / 3)  * (G_10 * phi9 + G_9 * (1 - phi9))\n",
        "m1 = np.array([[G_1, G_2 * phi1 + G_1*(1 - phi1)], [K_1 + G_1 / 3, -G_2]])\n",
        "v1 = np.array([[-K_2 * alpha_2], [K_1 * alpha_1]])\n",
        "m1, v1"
      ]
    },
    {
      "cell_type": "code",
      "execution_count": null,
      "metadata": {
        "colab": {
          "base_uri": "https://localhost:8080/"
        },
        "id": "tx4pAN_OCUiz",
        "outputId": "1928823b-cd93-4911-e060-fa15eb7451e0"
      },
      "outputs": [
        {
          "output_type": "execute_result",
          "data": {
            "text/plain": [
              "4.426259050186326e-06"
            ]
          },
          "metadata": {},
          "execution_count": 25
        }
      ],
      "source": [
        "res = 1/D1 * m1 * 3 * dT / 2 @ v1\n",
        "res[1,0]"
      ]
    },
    {
      "cell_type": "code",
      "execution_count": null,
      "metadata": {
        "colab": {
          "base_uri": "https://localhost:8080/"
        },
        "id": "w10PQg9ZCUiz",
        "outputId": "68825442-173d-4348-aef4-0d76da595f41"
      },
      "outputs": [
        {
          "output_type": "execute_result",
          "data": {
            "text/plain": [
              "-1.4349496379925467e-05"
            ]
          },
          "metadata": {},
          "execution_count": 26
        }
      ],
      "source": [
        "A_1 =  G_1 * (-K_2 * alpha_2) +  (G_2 * phi1 + G_1*(1 - phi1)) *  (K_1 * alpha_1)    #res[0,0]\n",
        "A_1 = A_1 * 1.5 * dT / D1\n",
        "A_1\n",
        "\n"
      ]
    },
    {
      "cell_type": "code",
      "execution_count": null,
      "metadata": {
        "colab": {
          "base_uri": "https://localhost:8080/"
        },
        "id": "DJYTpefaCUiz",
        "outputId": "ddda65ae-eb62-4808-a5c5-570ec003fd7f"
      },
      "outputs": [
        {
          "output_type": "execute_result",
          "data": {
            "text/plain": [
              "1.9869476876286425e-08"
            ]
          },
          "metadata": {},
          "execution_count": 27
        }
      ],
      "source": [
        "B_1 = (K_1 + G_1 / 3) *  (-K_2 * alpha_2) + (-G_2) * (K_1 * alpha_1)                # * R_i**2\n",
        "B_1 = B_1 * 1.5 * dT / D1 * R_1**2\n",
        "B_1\n"
      ]
    },
    {
      "cell_type": "code",
      "execution_count": null,
      "metadata": {
        "colab": {
          "base_uri": "https://localhost:8080/"
        },
        "id": "IoiluomUCUiz",
        "outputId": "71cd9dc7-6d66-42ee-d953-b086a92249c4"
      },
      "outputs": [
        {
          "output_type": "execute_result",
          "data": {
            "text/plain": [
              "-9.37928839491032e-08"
            ]
          },
          "metadata": {},
          "execution_count": 28
        }
      ],
      "source": [
        "B_2 = B_1 + A_1 * R_2**2\n",
        "B_2"
      ]
    },
    {
      "cell_type": "code",
      "execution_count": null,
      "metadata": {
        "colab": {
          "base_uri": "https://localhost:8080/"
        },
        "id": "xXrIqsecCUi0",
        "outputId": "4d12fc82-ecfd-4fa8-dc19-d68171a95357"
      },
      "outputs": [
        {
          "output_type": "execute_result",
          "data": {
            "text/plain": [
              "0"
            ]
          },
          "metadata": {},
          "execution_count": 29
        }
      ],
      "source": [
        "A_2 = 0\n",
        "A_2"
      ]
    },
    {
      "cell_type": "code",
      "execution_count": null,
      "metadata": {
        "id": "FyJQM1T1CUi0"
      },
      "outputs": [],
      "source": [
        "# cement\n",
        "u2 = u(r_2, A_2, B_2)\n",
        "# steel\n",
        "u1 = u(r_1, A_1, B_1)\n"
      ]
    },
    {
      "cell_type": "code",
      "execution_count": null,
      "metadata": {
        "colab": {
          "base_uri": "https://localhost:8080/",
          "height": 276
        },
        "id": "7gq4hY7ZCUi0",
        "outputId": "1bfc63c5-69a1-4d87-9f22-4521960fc31c"
      },
      "outputs": [
        {
          "output_type": "display_data",
          "data": {
            "text/plain": [
              "<Figure size 432x288 with 1 Axes>"
            ],
            "image/png": "[encoded data removed]"
          },
          "metadata": {
            "needs_background": "light"
          }
        }
      ],
      "source": [
        "plt.plot(r_2, u2)\n",
        "plt.plot(r_1, u1)\n",
        "plt.grid()"
      ]
    },
    {
      "cell_type": "code",
      "execution_count": null,
      "metadata": {
        "id": "atE3pNKFCUi0"
      },
      "outputs": [],
      "source": [
        "# Stress plot\n",
        "sigma_2r = sigma_r(K_2, G_2, alpha_2, dT, A_2, B_2, r_2)\n",
        "sigma_1r = sigma_r(K_1, G_1, alpha_1, dT, A_1, B_1, r_1)\n",
        "sigma_2phi = sigma_phi(K_2, G_2, alpha_2, dT, A_2, B_2, r_2)\n",
        "sigma_1phi = sigma_phi(K_1, G_1, alpha_1, dT, A_1, B_1, r_1)\n"
      ]
    },
    {
      "cell_type": "code",
      "execution_count": null,
      "metadata": {
        "colab": {
          "base_uri": "https://localhost:8080/",
          "height": 296
        },
        "id": "E227EBtICUi0",
        "outputId": "20b14f01-7a77-44cd-f3d7-9c18d06cfc1c"
      },
      "outputs": [
        {
          "output_type": "execute_result",
          "data": {
            "text/plain": [
              "Text(0, 0.5, '$\\\\sigma$')"
            ]
          },
          "metadata": {},
          "execution_count": 33
        },
        {
          "output_type": "display_data",
          "data": {
            "text/plain": [
              "<Figure size 432x288 with 1 Axes>"
            ],
            "image/png": "[encoded data removed]"
          },
          "metadata": {
            "needs_background": "light"
          }
        }
      ],
      "source": [
        "plt.plot(r_2, sigma_2r)\n",
        "plt.plot(r_1, sigma_1r)\n",
        "plt.plot(r_2, sigma_2phi)\n",
        "plt.plot(r_1, sigma_1phi)\n",
        "plt.grid(True)\n",
        "plt.xlabel(\"r\")\n",
        "plt.ylabel(\"$\\\\sigma$\")"
      ]
    },
    {
      "cell_type": "code",
      "execution_count": null,
      "metadata": {
        "id": "5ERzd6RaCUi0"
      },
      "outputs": [],
      "source": [
        "# multi-layered well structure"
      ]
    },
    {
      "cell_type": "code",
      "source": [
        "#all_cases\n",
        "\n",
        "n0 = np.array([[2 * (K_1 + G_1 / 3), -2 * G_1, 0, 0, 0, 0, 0, 0, 0, 0, 0, 0, 0, 0, 0, 0, 0, 0, 0, 0],                                                                 \n",
        "               [2 * (K_1 + G_1 / 3), -2 * G_1 * (R_1 / R_2)**2, -2 * (K_2 + G_2 / 3), 2 * G_2, 0, 0, 0, 0, 0, 0, 0, 0, 0, 0, 0, 0, 0, 0, 0, 0],                       \n",
        "               [1, R_1**2 / R_2**2, -1, -1, 0, 0, 0, 0, 0, 0, 0, 0, 0, 0, 0, 0, 0, 0, 0, 0],                                                                                                                                        \n",
        "               [0, 0, 2 * (K_2 + G_2 / 3), -2 * G_2 * (R_2 / R_3)**2, -2 * (K_3 + G_3 / 3), 2 * G_3, 0, 0, 0, 0, 0, 0, 0, 0, 0, 0, 0, 0, 0, 0],                      \n",
        "               [0, 0, 1, R_2**2 / R_3**2, -1, -1, 0, 0, 0, 0, 0, 0, 0, 0, 0, 0, 0, 0, 0, 0],                                                                                                                                       \n",
        "               [0, 0, 0, 0, 2 * (K_3 * G_3 / 3), -2 * G_3 * (R_3 / R_4)**2, -2 * (K_4 + G_4 / 3), 2 * G_4, 0, 0, 0, 0, 0, 0, 0, 0, 0, 0, 0, 0],\n",
        "               [0, 0, 0, 0, 1, R_3**2 / R_4**2, -1, -1, 0, 0, 0, 0, 0, 0, 0, 0, 0, 0, 0, 0],\n",
        "               [0, 0, 0, 0, 0, 0, 2 * (K_4 * G_4 / 3), -2 * G_4 * (R_4 / R_5)**2, -2 * (K_5 + G_5 / 3), 2 * G_5, 0, 0, 0, 0, 0, 0, 0, 0, 0, 0],\n",
        "               [0, 0, 0, 0, 0, 0, 1, R_4**2 / R_5**2, -1, -1, 0, 0, 0, 0, 0, 0, 0, 0, 0, 0],\n",
        "               [0, 0, 0, 0, 0, 0, 0, 0, 2 * (K_5 * G_5 / 3), -2 * G_5 * (R_5 / R_6)**2, -2 * (K_6 + G_6 / 3), 2 * G_6, 0, 0, 0, 0, 0, 0, 0, 0],\n",
        "               [0, 0, 0, 0, 0, 0, 0, 0, 1, R_5**2 / R_6**2, -1, -1, 0, 0, 0, 0, 0, 0, 0, 0],\n",
        "               [0, 0, 0, 0, 0, 0, 0, 0, 0, 0, 2 * (K_6 * G_6 / 3), -2 * G_6 * (R_6 / R_7)**2, -2 * (K_7 + G_7 / 3), 2 * G_7, 0, 0, 0, 0, 0, 0],\n",
        "               [0, 0, 0, 0, 0, 0, 0, 0, 0, 0, 1, R_6**2 / R_7**2, -1, -1, 0, 0, 0, 0, 0, 0],\n",
        "               [0, 0, 0, 0, 0, 0, 0, 0, 0, 0, 0, 0, 2 * (K_7 * G_7 / 3), -2 * G_7 * (R_7 / R_8)**2, -2 * (K_8 + G_8 / 3), 2 * G_8, 0, 0, 0, 0],\n",
        "               [0, 0, 0, 0, 0, 0, 0, 0, 0, 0, 0, 0, 1, R_7**2 / R_8**2, -1, -1, 0, 0, 0, 0],\n",
        "               [0, 0, 0, 0, 0, 0, 0, 0, 0, 0, 0, 0, 0, 0, 2 * (K_8 * G_8 / 3), -2 * G_8 * (R_8 / R_9)**2, -2 * (K_9 + G_9 / 3), 2 * G_9, 0, 0],\n",
        "               [0, 0, 0, 0, 0, 0, 0, 0, 0, 0, 0, 0, 0, 0, 1, R_8**2 / R_9**2, -1, -1, 0, 0],\n",
        "               [0, 0, 0, 0, 0, 0, 0, 0, 0, 0, 0, 0, 0, 0, 0, 0, 2 * (K_9 * G_9 / 3), -2 * G_9 * (R_9 / R_10)**2, -2 * (K_10 + G_10 / 3), 2 * G_10, 0],\n",
        "               [0, 0, 0, 0, 0, 0, 0, 0, 0, 0, 0, 0, 0, 0, 0, 0, 1, R_9**2 / R_10**2, -1, -1]], dtype=object)\n",
        "\n",
        "\n",
        "\n",
        "l0 = np.array([[3 * K_1 * alpha_1 * dT - dPf],\n",
        "               [3 * K_1 * alpha_1 * dT - 3 * K_2 * alpha_2 * dT],\n",
        "               [0],\n",
        "               [3 * K_2 * alpha_2 * dT - 3 * K_3 * alpha_3 * dT],\n",
        "               [0],\n",
        "               [3 * K_3 * alpha_3 * dT - 3 * K_4 * alpha_4 * dT],\n",
        "               [0],\n",
        "               [3 * K_4 * alpha_4 * dT - 3 * K_5 * alpha_5 * dT],\n",
        "               [0],\n",
        "               [3 * K_5 * alpha_5 * dT - 3 * K_6 * alpha_6 * dT],\n",
        "               [0],\n",
        "               [3 * K_6 * alpha_6 * dT - 3 * K_7 * alpha_7 * dT],\n",
        "               [0],\n",
        "               [3 * K_7 * alpha_7 * dT - 3 * K_8 * alpha_8 * dT],\n",
        "               [0],\n",
        "               [3 * K_8 * alpha_8 * dT - 3 * K_9 * alpha_9 * dT],\n",
        "               [0],\n",
        "               [3 * K_9 * alpha_8 * dT - 3 * K_10 * alpha_10 * dT],\n",
        "               [0]])\n",
        "n0, l0"
      ],
      "metadata": {
        "id": "hNFp4AycpE_9",
        "colab": {
          "base_uri": "https://localhost:8080/"
        },
        "outputId": "f20edb55-7d93-4c0d-89ac-6ef5d027325c"
      },
      "execution_count": null,
      "outputs": [
        {
          "output_type": "execute_result",
          "data": {
            "text/plain": [
              "(array([list([398076.92307692306, -159230.76923076922, 0, 0, 0, 0, 0, 0, 0, 0, 0, 0, 0, 0, 0, 0, 0, 0, 0, 0]),\n",
              "        list([398076.92307692306, -90239.48025210493, -17055.555555555555, 10233.333333333334, 0, 0, 0, 0, 0, 0, 0, 0, 0, 0, 0, 0, 0, 0, 0, 0]),\n",
              "        list([1, 0.5667213735639441, -1, -1, 0, 0, 0, 0, 0, 0, 0, 0, 0, 0, 0, 0, 0, 0, 0, 0]),\n",
              "        list([0, 0, 17055.555555555555, -8270.40438050539, -398076.92307692306, 159230.76923076922, 0, 0, 0, 0, 0, 0, 0, 0, 0, 0, 0, 0, 0, 0]),\n",
              "        list([0, 0, 1, 0.8081828384858687, -1, -1, 0, 0, 0, 0, 0, 0, 0, 0, 0, 0, 0, 0, 0, 0]),\n",
              "        list([0, 0, 0, 0, 9155769230.76923, -104852.24195315568, -14300.847457627118, 9152.542372881357, 0, 0, 0, 0, 0, 0, 0, 0, 0, 0, 0, 0]),\n",
              "        list([0, 0, 0, 0, 1, 0.6584923407686106, -1, -1, 0, 0, 0, 0, 0, 0, 0, 0, 0, 0, 0, 0]),\n",
              "        list([0, 0, 0, 0, 0, 0, 17161016.949152544, -5526.6518186525245, -398076.92307692306, 159230.76923076922, 0, 0, 0, 0, 0, 0, 0, 0, 0, 0]),\n",
              "        list([0, 0, 0, 0, 0, 0, 1, 0.603837883889813, -1, -1, 0, 0, 0, 0, 0, 0, 0, 0, 0, 0]),\n",
              "        list([0, 0, 0, 0, 0, 0, 0, 0, 9155769230.76923, -135808.96992281073, -14300.847457627118, 9152.542372881357, 0, 0, 0, 0, 0, 0, 0, 0]),\n",
              "        list([0, 0, 0, 0, 0, 0, 0, 0, 1, 0.8529065743944635, -1, -1, 0, 0, 0, 0, 0, 0, 0, 0]),\n",
              "        list([0, 0, 0, 0, 0, 0, 0, 0, 0, 0, 17161016.949152544, -5224.858757062147, -398076.92307692306, 159230.76923076922, 0, 0, 0, 0, 0, 0]),\n",
              "        list([0, 0, 0, 0, 0, 0, 0, 0, 0, 0, 1, 0.5708641975308643, -1, -1, 0, 0, 0, 0, 0, 0]),\n",
              "        list([0, 0, 0, 0, 0, 0, 0, 0, 0, 0, 0, 0, 9155769230.76923, -124946.64412405746, -14300.847457627118, 9152.542372881357, 0, 0, 0, 0]),\n",
              "        list([0, 0, 0, 0, 0, 0, 0, 0, 0, 0, 0, 0, 1, 0.7846890693781388, -1, -1, 0, 0, 0, 0]),\n",
              "        list([0, 0, 0, 0, 0, 0, 0, 0, 0, 0, 0, 0, 0, 0, 17161016.949152544, -4847.952182074152, -398076.92307692306, 159230.76923076922, 0, 0]),\n",
              "        list([0, 0, 0, 0, 0, 0, 0, 0, 0, 0, 0, 0, 0, 0, 1, 0.5296836643377314, -1, -1, 0, 0]),\n",
              "        list([0, 0, 0, 0, 0, 0, 0, 0, 0, 0, 0, 0, 0, 0, 0, 0, 9155769230.76923, -133606.59490549748, -11111.111111111111, 6666.666666666667, 0]),\n",
              "        list([0, 0, 0, 0, 0, 0, 0, 0, 0, 0, 0, 0, 0, 0, 0, 0, 1, 0.8390752337060228, -1, -1])],\n",
              "       dtype=object), array([[-6.417     ],\n",
              "        [-6.2328    ],\n",
              "        [ 0.        ],\n",
              "        [ 6.2328    ],\n",
              "        [ 0.        ],\n",
              "        [-6.265125  ],\n",
              "        [ 0.        ],\n",
              "        [ 6.265125  ],\n",
              "        [ 0.        ],\n",
              "        [-6.265125  ],\n",
              "        [ 0.        ],\n",
              "        [ 6.265125  ],\n",
              "        [ 0.        ],\n",
              "        [-6.265125  ],\n",
              "        [ 0.        ],\n",
              "        [ 6.265125  ],\n",
              "        [ 0.        ],\n",
              "        [-4.52416667],\n",
              "        [ 0.        ]]))"
            ]
          },
          "metadata": {},
          "execution_count": 35
        }
      ]
    },
    {
      "cell_type": "code",
      "source": [
        "#3555-3888 m\n",
        "\n",
        "n5 = np.array([[2 * (K_1 + G_1 / 3), -2 * G_1, 0, 0, 0],                                                                 \n",
        "               [2 * (K_1 + G_1 / 3), -2 * G_1 * (R_1 / R_2)**2, -2 * (K_2 + G_2 / 3), 2 * G_2, 0],                       \n",
        "               [1, R_1**2 / R_2**2, -1, -1, 0],                                                                                                                                        \n",
        "               [0, 0, 2 * (K_2 + G_2 / 3), -2 * G_2 * (R_2 / R_3)**2,  2 * G_10],                      \n",
        "               [0, 0, 1, R_2**2 / R_3**2, -1]])                                                                                                                                     \n",
        "             \n",
        "\n",
        "\n",
        "\n",
        "l5 = np.array([[3 * K_1 * alpha_1 * dT - dPf],\n",
        "               [3 * K_1 * alpha_1 * dT - 3 * K_2 * alpha_2 * dT],\n",
        "               [0],\n",
        "               [3 * K_10 * alpha_2 * dT - 3 * K_10 * alpha_10 * dT],\n",
        "               [0]])\n",
        "n5, l5"
      ],
      "metadata": {
        "colab": {
          "base_uri": "https://localhost:8080/"
        },
        "id": "wpqaFPZ8HwBT",
        "outputId": "02dbab9c-32f1-44bb-b646-af9a01bbe4c2"
      },
      "execution_count": null,
      "outputs": [
        {
          "output_type": "execute_result",
          "data": {
            "text/plain": [
              "(array([[ 3.98076923e+05, -1.59230769e+05,  0.00000000e+00,\n",
              "          0.00000000e+00,  0.00000000e+00],\n",
              "        [ 3.98076923e+05, -9.02394803e+04, -1.70555556e+04,\n",
              "          1.02333333e+04,  0.00000000e+00],\n",
              "        [ 1.00000000e+00,  5.66721374e-01, -1.00000000e+00,\n",
              "         -1.00000000e+00,  0.00000000e+00],\n",
              "        [ 0.00000000e+00,  0.00000000e+00,  1.70555556e+04,\n",
              "         -8.27040438e+03,  6.66666667e+03],\n",
              "        [ 0.00000000e+00,  0.00000000e+00,  1.00000000e+00,\n",
              "          8.08182838e-01, -1.00000000e+00]]), array([[-6.417     ],\n",
              "        [-6.2328    ],\n",
              "        [ 0.        ],\n",
              "        [ 0.01333333],\n",
              "        [ 0.        ]]))"
            ]
          },
          "metadata": {},
          "execution_count": 36
        }
      ]
    },
    {
      "cell_type": "code",
      "source": [
        "print (\"First row of the matrix d:\\n\", n5[0])"
      ],
      "metadata": {
        "colab": {
          "base_uri": "https://localhost:8080/"
        },
        "id": "ZUyNHiBoCsks",
        "outputId": "a31de65b-3a15-4d57-8b04-3a6139c0d61e"
      },
      "execution_count": null,
      "outputs": [
        {
          "output_type": "stream",
          "name": "stdout",
          "text": [
            "First row of the matrix d:\n",
            " [ 398076.92307692 -159230.76923077       0.               0.\n",
            "       0.        ]\n"
          ]
        }
      ]
    },
    {
      "cell_type": "code",
      "source": [
        "A5_1 = np.dot(n5[0], l5) \n",
        "B5_1 = np.dot(n5[1], l5) * R_1**2\n",
        "A5_2 = np.dot(n5[2], l5) \n",
        "B5_2 = np.dot(n5[3], l5) * R_2**2\n",
        "A5_3 = 0\n",
        "B5_3 = np.dot(n5[4], l5) * R_3**2\n",
        "\n",
        "A5_1, B5_1, A5_2, B5_2, A5_3,  B5_3"
      ],
      "metadata": {
        "colab": {
          "base_uri": "https://localhost:8080/"
        },
        "id": "c6TiJ9pPQYtb",
        "outputId": "6ef9dbcc-d3fb-42ee-b6d0-60989b79fd78"
      },
      "execution_count": null,
      "outputs": [
        {
          "output_type": "execute_result",
          "data": {
            "text/plain": [
              "(array([-1562006.07692308]),\n",
              " array([-8941.54275899]),\n",
              " array([-9.96259431]),\n",
              " array([-0.87346497]),\n",
              " 0,\n",
              " array([0.00010561]))"
            ]
          },
          "metadata": {},
          "execution_count": 61
        }
      ]
    },
    {
      "cell_type": "code",
      "source": [
        "# cement\n",
        "u5_2 = u(R_2, A_2, B_2)\n",
        "# steel\n",
        "u1 = u(r_1, A_1, B_1)\n",
        "#formation\n"
      ],
      "metadata": {
        "id": "JEZoyZg5qKH9"
      },
      "execution_count": null,
      "outputs": []
    },
    {
      "cell_type": "code",
      "source": [
        "#2329-3555 m\n",
        "\n",
        "n4 = np.array([[2 * (K_1 + G_1 / 3), -2 * G_1, 0, 0, 0, 0, 0],                                                                 \n",
        "               [2 * (K_1 + G_1 / 3), -2 * G_1 * (R_1 / R_2)**2, -2 * (K_2 + G_2 / 3), 2 * G_2, 0, 0, 0],                       \n",
        "               [1, R_1**2 / R_2**2, -1, -1, 0, 0, 0],                                                                                                                                        \n",
        "               [0, 0, 2 * (K_2 + G_2 / 3), -2 * G_2 * (R_2 / R_3)**2, -2 * (K_3 + G_3 / 3), 2 * G_3, 0],                      \n",
        "               [0, 0, 1, R_2**2 / R_3**2, -1, -1, 0],                                                                                                                                       \n",
        "               [0, 0, 0, 0, 2 * (K_3 * G_3 / 3), -2 * G_3 * (R_3 / R_4)**2, 2 * G_10],\n",
        "               [0, 0, 0, 0, 1, R_3**2 / R_4**2, -1]])\n",
        "\n",
        "l4 = np.array([[3 * K_1 * alpha_1 * dT - dPf],\n",
        "               [3 * K_1 * alpha_1 * dT - 3 * K_2 * alpha_2 * dT],\n",
        "               [0],\n",
        "               [3 * K_2 * alpha_2 * dT - 3 * K_3 * alpha_3 * dT],\n",
        "               [0],\n",
        "               [3 * K_3 * alpha_3 * dT - 3 * K_10 * alpha_10 * dT],\n",
        "               [0]])\n",
        "n4, l4\n"
      ],
      "metadata": {
        "id": "4t-4zaUWrIIv",
        "colab": {
          "base_uri": "https://localhost:8080/"
        },
        "outputId": "e5de21c9-6d8e-4993-e8b5-1cc279ae22e7"
      },
      "execution_count": null,
      "outputs": [
        {
          "output_type": "execute_result",
          "data": {
            "text/plain": [
              "(array([[ 3.98076923e+05, -1.59230769e+05,  0.00000000e+00,\n",
              "          0.00000000e+00,  0.00000000e+00,  0.00000000e+00,\n",
              "          0.00000000e+00],\n",
              "        [ 3.98076923e+05, -9.02394803e+04, -1.70555556e+04,\n",
              "          1.02333333e+04,  0.00000000e+00,  0.00000000e+00,\n",
              "          0.00000000e+00],\n",
              "        [ 1.00000000e+00,  5.66721374e-01, -1.00000000e+00,\n",
              "         -1.00000000e+00,  0.00000000e+00,  0.00000000e+00,\n",
              "          0.00000000e+00],\n",
              "        [ 0.00000000e+00,  0.00000000e+00,  1.70555556e+04,\n",
              "         -8.27040438e+03, -3.98076923e+05,  1.59230769e+05,\n",
              "          0.00000000e+00],\n",
              "        [ 0.00000000e+00,  0.00000000e+00,  1.00000000e+00,\n",
              "          8.08182838e-01, -1.00000000e+00, -1.00000000e+00,\n",
              "          0.00000000e+00],\n",
              "        [ 0.00000000e+00,  0.00000000e+00,  0.00000000e+00,\n",
              "          0.00000000e+00,  9.15576923e+09, -1.04852242e+05,\n",
              "          6.66666667e+03],\n",
              "        [ 0.00000000e+00,  0.00000000e+00,  0.00000000e+00,\n",
              "          0.00000000e+00,  1.00000000e+00,  6.58492341e-01,\n",
              "         -1.00000000e+00]]), array([[-6.417     ],\n",
              "        [-6.2328    ],\n",
              "        [ 0.        ],\n",
              "        [ 6.2328    ],\n",
              "        [ 0.        ],\n",
              "        [-6.28366667],\n",
              "        [ 0.        ]]))"
            ]
          },
          "metadata": {},
          "execution_count": 40
        }
      ]
    },
    {
      "cell_type": "code",
      "source": [
        "A4_1 = np.dot(n4[0], l4) \n",
        "B4_1 = np.dot(n4[1], l4) * R_1**2\n",
        "A4_2 = np.dot(n4[2], l4)\n",
        "B4_2 = np.dot(n4[3], l4) * R_2**2\n",
        "A4_3 = np.dot(n4[4], l4) \n",
        "B4_3 = np.dot(n4[5], l4) * R_3**2\n",
        "A4_4 = 0\n",
        "B4_4 = np.dot(n4[6], l4) * R_3**2\n",
        "\n",
        "\n",
        "A4_1, B4_1, A4_2, B5_2, A4_3, B4_3, A4_4, B4_4"
      ],
      "metadata": {
        "colab": {
          "base_uri": "https://localhost:8080/"
        },
        "id": "jlVXDEbTSQoK",
        "outputId": "a3560040-beba-43d5-a916-4ac4ef8e8d8d"
      },
      "execution_count": null,
      "outputs": [
        {
          "output_type": "execute_result",
          "data": {
            "text/plain": [
              "(array([-1562006.07692308]),\n",
              " array([-8655.83642362]),\n",
              " array([-16.18206098]),\n",
              " array([-0.87346497]),\n",
              " array([11.32090866]),\n",
              " array([6457.45292586]),\n",
              " 0,\n",
              " array([-0.04055405]))"
            ]
          },
          "metadata": {},
          "execution_count": 65
        }
      ]
    },
    {
      "cell_type": "code",
      "source": [
        "# 506-2329\n",
        "\n",
        "n3 = np.array([[2 * (K_1 + G_1 / 3), -2 * G_1, 0, 0, 0, 0, 0, 0, 0, 0, 0, 0, 0],                                                                 \n",
        "               [2 * (K_1 + G_1 / 3), -2 * G_1 * (R_1 / R_2)**2, -2 * (K_2 + G_2 / 3), 2 * G_2, 0, 0, 0, 0, 0, 0, 0, 0, 0, ],                       \n",
        "               [1, R_1**2 / R_2**2, -1, -1, 0, 0, 0, 0, 0, 0, 0, 0, 0],                                                                                                                                        \n",
        "               [0, 0, 2 * (K_2 + G_2 / 3), -2 * G_2 * (R_2 / R_3)**2, -2 * (K_3 + G_3 / 3), 2 * G_3, 0, 0, 0, 0, 0, 0, 0],                      \n",
        "               [0, 0, 1, R_2**2 / R_3**2, -1, -1, 0, 0, 0, 0, 0, 0, 0],                                                                                                                                       \n",
        "               [0, 0, 0, 0, 2 * (K_3 * G_3 / 3), -2 * G_3 * (R_3 / R_4)**2, -2 * (K_4 + G_4 / 3), 2 * G_4, 0, 0, 0, 0, 0],\n",
        "               [0, 0, 0, 0, 1, R_3**2 / R_4**2, -1, -1, 0, 0, 0, 0, 0],\n",
        "               [0, 0, 0, 0, 0, 0, 2 * (K_4 * G_4 / 3), -2 * G_4 * (R_4 / R_5)**2, -2 * (K_5 + G_5 / 3), 2 * G_5, 0, 0, 0],\n",
        "               [0, 0, 0, 0, 0, 0, 1, R_4**2 / R_5**2, -1, -1, 0, 0, 0],\n",
        "               [0, 0, 0, 0, 0, 0, 0, 0, 2 * (K_5 * G_5 / 3), -2 * G_5 * (R_5 / R_6)**2, -2 * (K_6 + G_6 / 3), 2 * G_6, 0],\n",
        "               [0, 0, 0, 0, 0, 0, 0, 0, 1, R_5**2 / R_6**2, -1, -1, 0],\n",
        "               [0, 0, 0, 0, 0, 0, 0, 0, 0, 0, 2 * (K_6 * G_6 / 3), -2 * G_6 * (R_6 / R_7)**2, 2 * G_10],\n",
        "               [0, 0, 0, 0, 0, 0, 0, 0, 0, 0, 1, R_6**2 / R_7**2, -1]])\n",
        "\n",
        "l3 = np.array([[3 * K_1 * alpha_1 * dT - dPf],\n",
        "               [3 * K_1 * alpha_1 * dT - 3 * K_2 * alpha_2 * dT],\n",
        "               [0],\n",
        "               [3 * K_2 * alpha_2 * dT - 3 * K_3 * alpha_3 * dT],\n",
        "               [0],\n",
        "               [3 * K_3 * alpha_3 * dT - 3 * K_4 * alpha_4 * dT],\n",
        "               [0],\n",
        "               [3 * K_4 * alpha_4 * dT - 3 * K_5 * alpha_5 * dT],\n",
        "               [0],\n",
        "               [3 * K_5 * alpha_5 * dT - 3 * K_6 * alpha_6 * dT],\n",
        "               [0],\n",
        "               [3 * K_6 * alpha_6 * dT - 3 * K_10 * alpha_10 * dT],\n",
        "               [0]])\n",
        "\n",
        "n3, l3\n"
      ],
      "metadata": {
        "colab": {
          "base_uri": "https://localhost:8080/"
        },
        "id": "kUnyZ0F2x57a",
        "outputId": "de075f41-3538-4fb4-b047-99bdaa8e0a87"
      },
      "execution_count": null,
      "outputs": [
        {
          "output_type": "execute_result",
          "data": {
            "text/plain": [
              "(array([[ 3.98076923e+05, -1.59230769e+05,  0.00000000e+00,\n",
              "          0.00000000e+00,  0.00000000e+00,  0.00000000e+00,\n",
              "          0.00000000e+00,  0.00000000e+00,  0.00000000e+00,\n",
              "          0.00000000e+00,  0.00000000e+00,  0.00000000e+00,\n",
              "          0.00000000e+00],\n",
              "        [ 3.98076923e+05, -9.02394803e+04, -1.70555556e+04,\n",
              "          1.02333333e+04,  0.00000000e+00,  0.00000000e+00,\n",
              "          0.00000000e+00,  0.00000000e+00,  0.00000000e+00,\n",
              "          0.00000000e+00,  0.00000000e+00,  0.00000000e+00,\n",
              "          0.00000000e+00],\n",
              "        [ 1.00000000e+00,  5.66721374e-01, -1.00000000e+00,\n",
              "         -1.00000000e+00,  0.00000000e+00,  0.00000000e+00,\n",
              "          0.00000000e+00,  0.00000000e+00,  0.00000000e+00,\n",
              "          0.00000000e+00,  0.00000000e+00,  0.00000000e+00,\n",
              "          0.00000000e+00],\n",
              "        [ 0.00000000e+00,  0.00000000e+00,  1.70555556e+04,\n",
              "         -8.27040438e+03, -3.98076923e+05,  1.59230769e+05,\n",
              "          0.00000000e+00,  0.00000000e+00,  0.00000000e+00,\n",
              "          0.00000000e+00,  0.00000000e+00,  0.00000000e+00,\n",
              "          0.00000000e+00],\n",
              "        [ 0.00000000e+00,  0.00000000e+00,  1.00000000e+00,\n",
              "          8.08182838e-01, -1.00000000e+00, -1.00000000e+00,\n",
              "          0.00000000e+00,  0.00000000e+00,  0.00000000e+00,\n",
              "          0.00000000e+00,  0.00000000e+00,  0.00000000e+00,\n",
              "          0.00000000e+00],\n",
              "        [ 0.00000000e+00,  0.00000000e+00,  0.00000000e+00,\n",
              "          0.00000000e+00,  9.15576923e+09, -1.04852242e+05,\n",
              "         -1.43008475e+04,  9.15254237e+03,  0.00000000e+00,\n",
              "          0.00000000e+00,  0.00000000e+00,  0.00000000e+00,\n",
              "          0.00000000e+00],\n",
              "        [ 0.00000000e+00,  0.00000000e+00,  0.00000000e+00,\n",
              "          0.00000000e+00,  1.00000000e+00,  6.58492341e-01,\n",
              "         -1.00000000e+00, -1.00000000e+00,  0.00000000e+00,\n",
              "          0.00000000e+00,  0.00000000e+00,  0.00000000e+00,\n",
              "          0.00000000e+00],\n",
              "        [ 0.00000000e+00,  0.00000000e+00,  0.00000000e+00,\n",
              "          0.00000000e+00,  0.00000000e+00,  0.00000000e+00,\n",
              "          1.71610169e+07, -5.52665182e+03, -3.98076923e+05,\n",
              "          1.59230769e+05,  0.00000000e+00,  0.00000000e+00,\n",
              "          0.00000000e+00],\n",
              "        [ 0.00000000e+00,  0.00000000e+00,  0.00000000e+00,\n",
              "          0.00000000e+00,  0.00000000e+00,  0.00000000e+00,\n",
              "          1.00000000e+00,  6.03837884e-01, -1.00000000e+00,\n",
              "         -1.00000000e+00,  0.00000000e+00,  0.00000000e+00,\n",
              "          0.00000000e+00],\n",
              "        [ 0.00000000e+00,  0.00000000e+00,  0.00000000e+00,\n",
              "          0.00000000e+00,  0.00000000e+00,  0.00000000e+00,\n",
              "          0.00000000e+00,  0.00000000e+00,  9.15576923e+09,\n",
              "         -1.35808970e+05, -1.43008475e+04,  9.15254237e+03,\n",
              "          0.00000000e+00],\n",
              "        [ 0.00000000e+00,  0.00000000e+00,  0.00000000e+00,\n",
              "          0.00000000e+00,  0.00000000e+00,  0.00000000e+00,\n",
              "          0.00000000e+00,  0.00000000e+00,  1.00000000e+00,\n",
              "          8.52906574e-01, -1.00000000e+00, -1.00000000e+00,\n",
              "          0.00000000e+00],\n",
              "        [ 0.00000000e+00,  0.00000000e+00,  0.00000000e+00,\n",
              "          0.00000000e+00,  0.00000000e+00,  0.00000000e+00,\n",
              "          0.00000000e+00,  0.00000000e+00,  0.00000000e+00,\n",
              "          0.00000000e+00,  1.71610169e+07, -5.22485876e+03,\n",
              "          6.66666667e+03],\n",
              "        [ 0.00000000e+00,  0.00000000e+00,  0.00000000e+00,\n",
              "          0.00000000e+00,  0.00000000e+00,  0.00000000e+00,\n",
              "          0.00000000e+00,  0.00000000e+00,  0.00000000e+00,\n",
              "          0.00000000e+00,  1.00000000e+00,  5.70864198e-01,\n",
              "         -1.00000000e+00]]), array([[-6.417     ],\n",
              "        [-6.2328    ],\n",
              "        [ 0.        ],\n",
              "        [ 6.2328    ],\n",
              "        [ 0.        ],\n",
              "        [-6.265125  ],\n",
              "        [ 0.        ],\n",
              "        [ 6.265125  ],\n",
              "        [ 0.        ],\n",
              "        [-6.265125  ],\n",
              "        [ 0.        ],\n",
              "        [-0.01854167],\n",
              "        [ 0.        ]]))"
            ]
          },
          "metadata": {},
          "execution_count": 42
        }
      ]
    },
    {
      "cell_type": "code",
      "source": [
        "A3_1 = np.dot(n3[0], l3) \n",
        "B3_1 = np.dot(n3[1], l3) * R_1**2\n",
        "A3_2 = np.dot(n3[2], l3)\n",
        "B3_2 = np.dot(n3[3], l3) * R_2**2\n",
        "A3_3 = np.dot(n3[4], l3) \n",
        "B3_3 = np.dot(n3[5], l3) * R_3**2\n",
        "A3_4 = np.dot(n3[6], l3) \n",
        "B3_4 = np.dot(n3[7], l3) * R_4**2\n",
        "A3_5 = np.dot(n3[8], l3)\n",
        "B3_5 = np.dot(n3[9], l3) * R_5**2\n",
        "A3_6 = np.dot(n3[10], l3)\n",
        "B3_6 = np.dot(n3[11], l3) * R_6**2\n",
        "A3_7 = 0\n",
        "B3_7 = np.dot(n3[12], l3) * R_7**2\n",
        "\n",
        "\n",
        "\n",
        "\n",
        "A3_1, B3_1, A3_2, B3_2, A3_3, B3_3, A3_4, B3_4, A3_5, B3_5, A3_6, B3_6, B3_7, A3_7"
      ],
      "metadata": {
        "colab": {
          "base_uri": "https://localhost:8080/"
        },
        "id": "0TW2pYUJTlUY",
        "outputId": "40fdadf4-d918-49be-c9a4-67fa2529e414"
      },
      "execution_count": null,
      "outputs": [
        {
          "output_type": "execute_result",
          "data": {
            "text/plain": [
              "(array([-1562006.07692308]),\n",
              " array([-8655.83642362]),\n",
              " array([-16.18206098]),\n",
              " array([-8310.30486849]),\n",
              " array([11.302367]),\n",
              " array([7000.40565335]),\n",
              " array([-10.39066183]),\n",
              " array([-15363.64936613]),\n",
              " array([10.04824482]),\n",
              " array([20968.66937772]),\n",
              " array([-5.32502464]),\n",
              " array([2.79976234]),\n",
              " array([-0.00053585]),\n",
              " 0)"
            ]
          },
          "metadata": {},
          "execution_count": 63
        }
      ]
    },
    {
      "cell_type": "code",
      "source": [
        "#102-512 m\n",
        "\n",
        "n2 = np.array([[2 * (K_1 + G_1 / 3), -2 * G_1, 0, 0, 0, 0, 0, 0, 0, 0, 0, 0, 0, 0, 0, 0, 0],                                                                 \n",
        "               [2 * (K_1 + G_1 / 3), -2 * G_1 * (R_1 / R_2)**2, -2 * (K_2 + G_2 / 3), 2 * G_2, 0, 0, 0, 0, 0, 0, 0, 0, 0, 0, 0, 0, 0],                       \n",
        "               [1, R_1**2 / R_2**2, -1, -1, 0, 0, 0, 0, 0, 0, 0, 0, 0, 0, 0, 0, 0],                                                                                                                                        \n",
        "               [0, 0, 2 * (K_2 + G_2 / 3), -2 * G_2 * (R_2 / R_3)**2, -2 * (K_3 + G_3 / 3), 2 * G_3, 0, 0, 0, 0, 0, 0, 0, 0, 0, 0, 0],                      \n",
        "               [0, 0, 1, R_2**2 / R_3**2, -1, -1, 0, 0, 0, 0, 0, 0, 0, 0, 0, 0, 0],                                                                                                                                       \n",
        "               [0, 0, 0, 0, 2 * (K_3 * G_3 / 3), -2 * G_3 * (R_3 / R_4)**2, -2 * (K_4 + G_4 / 3), 2 * G_4, 0, 0, 0, 0, 0, 0, 0, 0, 0],\n",
        "               [0, 0, 0, 0, 1, R_3**2 / R_4**2, -1, -1, 0, 0, 0, 0, 0, 0, 0, 0, 0],\n",
        "               [0, 0, 0, 0, 0, 0, 2 * (K_4 * G_4 / 3), -2 * G_4 * (R_4 / R_5)**2, -2 * (K_5 + G_5 / 3), 2 * G_5, 0, 0, 0, 0, 0, 0, 0],\n",
        "               [0, 0, 0, 0, 0, 0, 1, R_4**2 / R_5**2, -1, -1, 0, 0, 0, 0, 0, 0, 0],\n",
        "               [0, 0, 0, 0, 0, 0, 0, 0, 2 * (K_5 * G_5 / 3), -2 * G_5 * (R_5 / R_6)**2, -2 * (K_6 + G_6 / 3), 2 * G_6, 0, 0, 0, 0, 0],\n",
        "               [0, 0, 0, 0, 0, 0, 0, 0, 1, R_5**2 / R_6**2, -1, -1, 0, 0, 0, 0, 0],\n",
        "               [0, 0, 0, 0, 0, 0, 0, 0, 0, 0, 2 * (K_6 * G_6 / 3), -2 * G_6 * (R_6 / R_7)**2, -2 * (K_7 + G_7 / 3), 2 * G_7, 0, 0, 0],\n",
        "               [0, 0, 0, 0, 0, 0, 0, 0, 0, 0, 1, R_6**2 / R_7**2, -1, -1, 0, 0, 0],\n",
        "               [0, 0, 0, 0, 0, 0, 0, 0, 0, 0, 0, 0, 2 * (K_7 * G_7 / 3), -2 * G_7 * (R_7 / R_8)**2, -2 * (K_8 + G_8 / 3), 2 * G_8, 0],\n",
        "               [0, 0, 0, 0, 0, 0, 0, 0, 0, 0, 0, 0, 1, R_7**2 / R_8**2, -1, -1, 0],\n",
        "               [0, 0, 0, 0, 0, 0, 0, 0, 0, 0, 0, 0, 0, 0, 2 * (K_8 * G_8 / 3), -2 * G_8 * (R_8 / R_9)**2, 2 * G_10],\n",
        "               [0, 0, 0, 0, 0, 0, 0, 0, 0, 0, 0, 0, 0, 0, 1, R_8**2 / R_9**2, -1]])\n",
        "\n",
        "\n",
        "\n",
        "l2 = np.array([[3 * K_1 * alpha_1 * dT - dPf],\n",
        "               [3 * K_1 * alpha_1 * dT - 3 * K_2 * alpha_2 * dT],\n",
        "               [0],\n",
        "               [3 * K_2 * alpha_2 * dT - 3 * K_3 * alpha_3 * dT],\n",
        "               [0],\n",
        "               [3 * K_3 * alpha_3 * dT - 3 * K_4 * alpha_4 * dT],\n",
        "               [0],\n",
        "               [3 * K_4 * alpha_4 * dT - 3 * K_5 * alpha_5 * dT],\n",
        "               [0],\n",
        "               [3 * K_5 * alpha_5 * dT - 3 * K_6 * alpha_6 * dT],\n",
        "               [0],\n",
        "               [3 * K_6 * alpha_6 * dT - 3 * K_7 * alpha_7 * dT],\n",
        "               [0],\n",
        "               [3 * K_7 * alpha_7 * dT - 3 * K_8 * alpha_8 * dT],\n",
        "               [0],\n",
        "               [3 * K_8 * alpha_8 * dT - 3 * K_10 * alpha_10 * dT],\n",
        "               [0]])\n",
        "\n",
        "n2, l2"
      ],
      "metadata": {
        "id": "rKxdtUds4ZUT",
        "colab": {
          "base_uri": "https://localhost:8080/"
        },
        "outputId": "31e754b9-02d6-40a3-a905-75121544503f"
      },
      "execution_count": null,
      "outputs": [
        {
          "output_type": "execute_result",
          "data": {
            "text/plain": [
              "(array([[ 3.98076923e+05, -1.59230769e+05,  0.00000000e+00,\n",
              "          0.00000000e+00,  0.00000000e+00,  0.00000000e+00,\n",
              "          0.00000000e+00,  0.00000000e+00,  0.00000000e+00,\n",
              "          0.00000000e+00,  0.00000000e+00,  0.00000000e+00,\n",
              "          0.00000000e+00,  0.00000000e+00,  0.00000000e+00,\n",
              "          0.00000000e+00,  0.00000000e+00],\n",
              "        [ 3.98076923e+05, -9.02394803e+04, -1.70555556e+04,\n",
              "          1.02333333e+04,  0.00000000e+00,  0.00000000e+00,\n",
              "          0.00000000e+00,  0.00000000e+00,  0.00000000e+00,\n",
              "          0.00000000e+00,  0.00000000e+00,  0.00000000e+00,\n",
              "          0.00000000e+00,  0.00000000e+00,  0.00000000e+00,\n",
              "          0.00000000e+00,  0.00000000e+00],\n",
              "        [ 1.00000000e+00,  5.66721374e-01, -1.00000000e+00,\n",
              "         -1.00000000e+00,  0.00000000e+00,  0.00000000e+00,\n",
              "          0.00000000e+00,  0.00000000e+00,  0.00000000e+00,\n",
              "          0.00000000e+00,  0.00000000e+00,  0.00000000e+00,\n",
              "          0.00000000e+00,  0.00000000e+00,  0.00000000e+00,\n",
              "          0.00000000e+00,  0.00000000e+00],\n",
              "        [ 0.00000000e+00,  0.00000000e+00,  1.70555556e+04,\n",
              "         -8.27040438e+03, -3.98076923e+05,  1.59230769e+05,\n",
              "          0.00000000e+00,  0.00000000e+00,  0.00000000e+00,\n",
              "          0.00000000e+00,  0.00000000e+00,  0.00000000e+00,\n",
              "          0.00000000e+00,  0.00000000e+00,  0.00000000e+00,\n",
              "          0.00000000e+00,  0.00000000e+00],\n",
              "        [ 0.00000000e+00,  0.00000000e+00,  1.00000000e+00,\n",
              "          8.08182838e-01, -1.00000000e+00, -1.00000000e+00,\n",
              "          0.00000000e+00,  0.00000000e+00,  0.00000000e+00,\n",
              "          0.00000000e+00,  0.00000000e+00,  0.00000000e+00,\n",
              "          0.00000000e+00,  0.00000000e+00,  0.00000000e+00,\n",
              "          0.00000000e+00,  0.00000000e+00],\n",
              "        [ 0.00000000e+00,  0.00000000e+00,  0.00000000e+00,\n",
              "          0.00000000e+00,  9.15576923e+09, -1.04852242e+05,\n",
              "         -1.43008475e+04,  9.15254237e+03,  0.00000000e+00,\n",
              "          0.00000000e+00,  0.00000000e+00,  0.00000000e+00,\n",
              "          0.00000000e+00,  0.00000000e+00,  0.00000000e+00,\n",
              "          0.00000000e+00,  0.00000000e+00],\n",
              "        [ 0.00000000e+00,  0.00000000e+00,  0.00000000e+00,\n",
              "          0.00000000e+00,  1.00000000e+00,  6.58492341e-01,\n",
              "         -1.00000000e+00, -1.00000000e+00,  0.00000000e+00,\n",
              "          0.00000000e+00,  0.00000000e+00,  0.00000000e+00,\n",
              "          0.00000000e+00,  0.00000000e+00,  0.00000000e+00,\n",
              "          0.00000000e+00,  0.00000000e+00],\n",
              "        [ 0.00000000e+00,  0.00000000e+00,  0.00000000e+00,\n",
              "          0.00000000e+00,  0.00000000e+00,  0.00000000e+00,\n",
              "          1.71610169e+07, -5.52665182e+03, -3.98076923e+05,\n",
              "          1.59230769e+05,  0.00000000e+00,  0.00000000e+00,\n",
              "          0.00000000e+00,  0.00000000e+00,  0.00000000e+00,\n",
              "          0.00000000e+00,  0.00000000e+00],\n",
              "        [ 0.00000000e+00,  0.00000000e+00,  0.00000000e+00,\n",
              "          0.00000000e+00,  0.00000000e+00,  0.00000000e+00,\n",
              "          1.00000000e+00,  6.03837884e-01, -1.00000000e+00,\n",
              "         -1.00000000e+00,  0.00000000e+00,  0.00000000e+00,\n",
              "          0.00000000e+00,  0.00000000e+00,  0.00000000e+00,\n",
              "          0.00000000e+00,  0.00000000e+00],\n",
              "        [ 0.00000000e+00,  0.00000000e+00,  0.00000000e+00,\n",
              "          0.00000000e+00,  0.00000000e+00,  0.00000000e+00,\n",
              "          0.00000000e+00,  0.00000000e+00,  9.15576923e+09,\n",
              "         -1.35808970e+05, -1.43008475e+04,  9.15254237e+03,\n",
              "          0.00000000e+00,  0.00000000e+00,  0.00000000e+00,\n",
              "          0.00000000e+00,  0.00000000e+00],\n",
              "        [ 0.00000000e+00,  0.00000000e+00,  0.00000000e+00,\n",
              "          0.00000000e+00,  0.00000000e+00,  0.00000000e+00,\n",
              "          0.00000000e+00,  0.00000000e+00,  1.00000000e+00,\n",
              "          8.52906574e-01, -1.00000000e+00, -1.00000000e+00,\n",
              "          0.00000000e+00,  0.00000000e+00,  0.00000000e+00,\n",
              "          0.00000000e+00,  0.00000000e+00],\n",
              "        [ 0.00000000e+00,  0.00000000e+00,  0.00000000e+00,\n",
              "          0.00000000e+00,  0.00000000e+00,  0.00000000e+00,\n",
              "          0.00000000e+00,  0.00000000e+00,  0.00000000e+00,\n",
              "          0.00000000e+00,  1.71610169e+07, -5.22485876e+03,\n",
              "         -3.98076923e+05,  1.59230769e+05,  0.00000000e+00,\n",
              "          0.00000000e+00,  0.00000000e+00],\n",
              "        [ 0.00000000e+00,  0.00000000e+00,  0.00000000e+00,\n",
              "          0.00000000e+00,  0.00000000e+00,  0.00000000e+00,\n",
              "          0.00000000e+00,  0.00000000e+00,  0.00000000e+00,\n",
              "          0.00000000e+00,  1.00000000e+00,  5.70864198e-01,\n",
              "         -1.00000000e+00, -1.00000000e+00,  0.00000000e+00,\n",
              "          0.00000000e+00,  0.00000000e+00],\n",
              "        [ 0.00000000e+00,  0.00000000e+00,  0.00000000e+00,\n",
              "          0.00000000e+00,  0.00000000e+00,  0.00000000e+00,\n",
              "          0.00000000e+00,  0.00000000e+00,  0.00000000e+00,\n",
              "          0.00000000e+00,  0.00000000e+00,  0.00000000e+00,\n",
              "          9.15576923e+09, -1.24946644e+05, -1.43008475e+04,\n",
              "          9.15254237e+03,  0.00000000e+00],\n",
              "        [ 0.00000000e+00,  0.00000000e+00,  0.00000000e+00,\n",
              "          0.00000000e+00,  0.00000000e+00,  0.00000000e+00,\n",
              "          0.00000000e+00,  0.00000000e+00,  0.00000000e+00,\n",
              "          0.00000000e+00,  0.00000000e+00,  0.00000000e+00,\n",
              "          1.00000000e+00,  7.84689069e-01, -1.00000000e+00,\n",
              "         -1.00000000e+00,  0.00000000e+00],\n",
              "        [ 0.00000000e+00,  0.00000000e+00,  0.00000000e+00,\n",
              "          0.00000000e+00,  0.00000000e+00,  0.00000000e+00,\n",
              "          0.00000000e+00,  0.00000000e+00,  0.00000000e+00,\n",
              "          0.00000000e+00,  0.00000000e+00,  0.00000000e+00,\n",
              "          0.00000000e+00,  0.00000000e+00,  1.71610169e+07,\n",
              "         -4.84795218e+03,  6.66666667e+03],\n",
              "        [ 0.00000000e+00,  0.00000000e+00,  0.00000000e+00,\n",
              "          0.00000000e+00,  0.00000000e+00,  0.00000000e+00,\n",
              "          0.00000000e+00,  0.00000000e+00,  0.00000000e+00,\n",
              "          0.00000000e+00,  0.00000000e+00,  0.00000000e+00,\n",
              "          0.00000000e+00,  0.00000000e+00,  1.00000000e+00,\n",
              "          5.29683664e-01, -1.00000000e+00]]), array([[-6.417     ],\n",
              "        [-6.2328    ],\n",
              "        [ 0.        ],\n",
              "        [ 6.2328    ],\n",
              "        [ 0.        ],\n",
              "        [-6.265125  ],\n",
              "        [ 0.        ],\n",
              "        [ 6.265125  ],\n",
              "        [ 0.        ],\n",
              "        [-6.265125  ],\n",
              "        [ 0.        ],\n",
              "        [ 6.265125  ],\n",
              "        [ 0.        ],\n",
              "        [-6.265125  ],\n",
              "        [ 0.        ],\n",
              "        [-0.01854167],\n",
              "        [ 0.        ]]))"
            ]
          },
          "metadata": {},
          "execution_count": 44
        }
      ]
    },
    {
      "cell_type": "code",
      "source": [
        "A2_1 = np.dot(n2[0], l2) \n",
        "B2_1 = np.dot(n2[1], l2) * R_1**2\n",
        "A2_2 = np.dot(n2[2], l2)\n",
        "B2_2 = np.dot(n2[3], l2) * R_2**2\n",
        "A2_3 = np.dot(n2[4], l2) \n",
        "B2_3 = np.dot(n2[5], l2) * R_3**2\n",
        "A2_4 = np.dot(n2[6], l2) \n",
        "B2_4 = np.dot(n2[7], l2) * R_4**2\n",
        "A2_5 = np.dot(n2[8], l2)\n",
        "B2_5 = np.dot(n2[9], l2) * R_5**2\n",
        "A2_6 = np.dot(n2[10], l2)\n",
        "B2_6 = np.dot(n2[11], l2) * R_6**2\n",
        "A2_7 = np.dot(n2[12], l2)\n",
        "B2_7 = np.dot(n2[13], l2) * R_7**2\n",
        "A2_8 = np.dot(n2[14], l2)\n",
        "B2_8 = np.dot(n2[15], l2) * R_8**2\n",
        "A2_9 = 0\n",
        "B2_9 = np.dot(n2[16], l2) * R_9**2\n",
        "\n",
        "\n",
        "\n",
        "\n",
        "A2_1, B2_1, A2_2, B2_2, A2_3, B2_3, A2_4, B2_4, A2_5, B2_5, A2_6, B2_6, B2_7, B2_7, A2_8, B2_8, B2_9, A2_9"
      ],
      "metadata": {
        "colab": {
          "base_uri": "https://localhost:8080/"
        },
        "id": "jrW4eunz0SK_",
        "outputId": "6e4cd517-46d2-42f1-9bfd-bd76b147f727"
      },
      "execution_count": null,
      "outputs": [
        {
          "output_type": "execute_result",
          "data": {
            "text/plain": [
              "(array([-1562006.07692308]),\n",
              " array([-8655.83642362]),\n",
              " array([-16.18206098]),\n",
              " array([-8310.30486849]),\n",
              " array([11.302367]),\n",
              " array([7000.40565335]),\n",
              " array([-10.39066183]),\n",
              " array([-15363.64936613]),\n",
              " array([10.04824482]),\n",
              " array([22386.27096789]),\n",
              " array([-11.6086913]),\n",
              " array([-29776.68341599]),\n",
              " array([39620.97991913]),\n",
              " array([39620.97991913]),\n",
              " array([-4.89763344]),\n",
              " array([5.79928604]),\n",
              " array([-0.00119623]),\n",
              " 0)"
            ]
          },
          "metadata": {},
          "execution_count": 66
        }
      ]
    },
    {
      "cell_type": "code",
      "source": [
        "#0-102 m\n",
        "\n",
        "n1 = np.array([[2 * (K_1 + G_1 / 3), -2 * G_1, 0, 0, 0, 0, 0, 0, 0, 0, 0, 0, 0, 0, 0, 0, 0, 0, 0],                                                                 \n",
        "               [2 * (K_1 + G_1 / 3), -2 * G_1 * (R_1 / R_2)**2, -2 * (K_2 + G_2 / 3), 2 * G_2, 0, 0, 0, 0, 0, 0, 0, 0, 0, 0, 0, 0, 0, 0, 0],                       \n",
        "               [1, R_1**2 / R_2**2, -1, -1, 0, 0, 0, 0, 0, 0, 0, 0, 0, 0, 0, 0, 0, 0, 0],                                                                                                                                        \n",
        "               [0, 0, 2 * (K_2 + G_2 / 3), -2 * G_2 * (R_2 / R_3)**2, -2 * (K_3 + G_3 / 3), 2 * G_3, 0, 0, 0, 0, 0, 0, 0, 0, 0, 0, 0, 0, 0],                      \n",
        "               [0, 0, 1, R_2**2 / R_3**2, -1, -1, 0, 0, 0, 0, 0, 0, 0, 0, 0, 0, 0, 0, 0],                                                                                                                                       \n",
        "               [0, 0, 0, 0, 2 * (K_3 * G_3 / 3), -2 * G_3 * (R_3 / R_4)**2, -2 * (K_4 + G_4 / 3), 2 * G_4, 0, 0, 0, 0, 0, 0, 0, 0, 0, 0, 0],\n",
        "               [0, 0, 0, 0, 1, R_3**2 / R_4**2, -1, -1, 0, 0, 0, 0, 0, 0, 0, 0, 0, 0, 0],\n",
        "               [0, 0, 0, 0, 0, 0, 2 * (K_4 * G_4 / 3), -2 * G_4 * (R_4 / R_5)**2, -2 * (K_5 + G_5 / 3), 2 * G_5, 0, 0, 0, 0, 0, 0, 0, 0, 0],\n",
        "               [0, 0, 0, 0, 0, 0, 1, R_4**2 / R_5**2, -1, -1, 0, 0, 0, 0, 0, 0, 0, 0, 0],\n",
        "               [0, 0, 0, 0, 0, 0, 0, 0, 2 * (K_5 * G_5 / 3), -2 * G_5 * (R_5 / R_6)**2, -2 * (K_6 + G_6 / 3), 2 * G_6, 0, 0, 0, 0, 0, 0, 0],\n",
        "               [0, 0, 0, 0, 0, 0, 0, 0, 1, R_5**2 / R_6**2, -1, -1, 0, 0, 0, 0, 0, 0, 0],\n",
        "               [0, 0, 0, 0, 0, 0, 0, 0, 0, 0, 2 * (K_6 * G_6 / 3), -2 * G_6 * (R_6 / R_7)**2, -2 * (K_7 + G_7 / 3), 2 * G_7, 0, 0, 0, 0, 0],\n",
        "               [0, 0, 0, 0, 0, 0, 0, 0, 0, 0, 1, R_6**2 / R_7**2, -1, -1, 0, 0, 0, 0, 0],\n",
        "               [0, 0, 0, 0, 0, 0, 0, 0, 0, 0, 0, 0, 2 * (K_7 * G_7 / 3), -2 * G_7 * (R_7 / R_8)**2, -2 * (K_8 + G_8 / 3), 2 * G_8, 0, 0, 0],\n",
        "               [0, 0, 0, 0, 0, 0, 0, 0, 0, 0, 0, 0, 1, R_7**2 / R_8**2, -1, -1, 0, 0, 0],\n",
        "               [0, 0, 0, 0, 0, 0, 0, 0, 0, 0, 0, 0, 0, 0, 2 * (K_8 * G_8 / 3), -2 * G_8 * (R_8 / R_9)**2, -2 * (K_9 + G_9 / 3), 2 * G_9, 0],\n",
        "               [0, 0, 0, 0, 0, 0, 0, 0, 0, 0, 0, 0, 0, 0, 1, R_8**2 / R_9**2, -1, -1, 0],\n",
        "               [0, 0, 0, 0, 0, 0, 0, 0, 0, 0, 0, 0, 0, 0, 0, 0, 2 * (K_9 * G_9 / 3), -2 * G_9 * (R_9 / R_10)**2, -2 * (K_10 + G_10 / 3)],\n",
        "               [0, 0, 0, 0, 0, 0, 0, 0, 0, 0, 0, 0, 0, 0, 0, 0, 1, R_9**2 / R_10**2, -1]], dtype=object)\n",
        "\n",
        "\n",
        "\n",
        "l1 = np.array([[3 * K_1 * alpha_1 * dT - dPf],\n",
        "               [3 * K_1 * alpha_1 * dT - 3 * K_2 * alpha_2 * dT],\n",
        "               [0],\n",
        "               [3 * K_2 * alpha_2 * dT - 3 * K_3 * alpha_3 * dT],\n",
        "               [0],\n",
        "               [3 * K_3 * alpha_3 * dT - 3 * K_4 * alpha_4 * dT],\n",
        "               [0],\n",
        "               [3 * K_4 * alpha_4 * dT - 3 * K_5 * alpha_5 * dT],\n",
        "               [0],\n",
        "               [3 * K_5 * alpha_5 * dT - 3 * K_6 * alpha_6 * dT],\n",
        "               [0],\n",
        "               [3 * K_6 * alpha_6 * dT - 3 * K_7 * alpha_7 * dT],\n",
        "               [0],\n",
        "               [3 * K_7 * alpha_7 * dT - 3 * K_8 * alpha_8 * dT],\n",
        "               [0],\n",
        "               [3 * K_8 * alpha_8 * dT - 3 * K_9 * alpha_9 * dT],\n",
        "               [0],\n",
        "               [3 * K_9 * alpha_9 * dT - 3 * K_10 * alpha_10 * dT],\n",
        "               [0]])\n",
        "n1, l1"
      ],
      "metadata": {
        "id": "wq8K8ubm2Qbk",
        "colab": {
          "base_uri": "https://localhost:8080/"
        },
        "outputId": "95a3b8fc-c7f0-4a14-c268-8325ec893ba8"
      },
      "execution_count": null,
      "outputs": [
        {
          "output_type": "execute_result",
          "data": {
            "text/plain": [
              "(array([[398076.92307692306, -159230.76923076922, 0, 0, 0, 0, 0, 0, 0, 0,\n",
              "         0, 0, 0, 0, 0, 0, 0, 0, 0],\n",
              "        [398076.92307692306, -90239.48025210493, -17055.555555555555,\n",
              "         10233.333333333334, 0, 0, 0, 0, 0, 0, 0, 0, 0, 0, 0, 0, 0, 0, 0],\n",
              "        [1, 0.5667213735639441, -1, -1, 0, 0, 0, 0, 0, 0, 0, 0, 0, 0, 0,\n",
              "         0, 0, 0, 0],\n",
              "        [0, 0, 17055.555555555555, -8270.40438050539, -398076.92307692306,\n",
              "         159230.76923076922, 0, 0, 0, 0, 0, 0, 0, 0, 0, 0, 0, 0, 0],\n",
              "        [0, 0, 1, 0.8081828384858687, -1, -1, 0, 0, 0, 0, 0, 0, 0, 0, 0,\n",
              "         0, 0, 0, 0],\n",
              "        [0, 0, 0, 0, 9155769230.76923, -104852.24195315568,\n",
              "         -14300.847457627118, 9152.542372881357, 0, 0, 0, 0, 0, 0, 0, 0,\n",
              "         0, 0, 0],\n",
              "        [0, 0, 0, 0, 1, 0.6584923407686106, -1, -1, 0, 0, 0, 0, 0, 0, 0,\n",
              "         0, 0, 0, 0],\n",
              "        [0, 0, 0, 0, 0, 0, 17161016.949152544, -5526.6518186525245,\n",
              "         -398076.92307692306, 159230.76923076922, 0, 0, 0, 0, 0, 0, 0, 0,\n",
              "         0],\n",
              "        [0, 0, 0, 0, 0, 0, 1, 0.603837883889813, -1, -1, 0, 0, 0, 0, 0, 0,\n",
              "         0, 0, 0],\n",
              "        [0, 0, 0, 0, 0, 0, 0, 0, 9155769230.76923, -135808.96992281073,\n",
              "         -14300.847457627118, 9152.542372881357, 0, 0, 0, 0, 0, 0, 0],\n",
              "        [0, 0, 0, 0, 0, 0, 0, 0, 1, 0.8529065743944635, -1, -1, 0, 0, 0,\n",
              "         0, 0, 0, 0],\n",
              "        [0, 0, 0, 0, 0, 0, 0, 0, 0, 0, 17161016.949152544,\n",
              "         -5224.858757062147, -398076.92307692306, 159230.76923076922, 0,\n",
              "         0, 0, 0, 0],\n",
              "        [0, 0, 0, 0, 0, 0, 0, 0, 0, 0, 1, 0.5708641975308643, -1, -1, 0,\n",
              "         0, 0, 0, 0],\n",
              "        [0, 0, 0, 0, 0, 0, 0, 0, 0, 0, 0, 0, 9155769230.76923,\n",
              "         -124946.64412405746, -14300.847457627118, 9152.542372881357, 0,\n",
              "         0, 0],\n",
              "        [0, 0, 0, 0, 0, 0, 0, 0, 0, 0, 0, 0, 1, 0.7846890693781388, -1,\n",
              "         -1, 0, 0, 0],\n",
              "        [0, 0, 0, 0, 0, 0, 0, 0, 0, 0, 0, 0, 0, 0, 17161016.949152544,\n",
              "         -4847.952182074152, -398076.92307692306, 159230.76923076922, 0],\n",
              "        [0, 0, 0, 0, 0, 0, 0, 0, 0, 0, 0, 0, 0, 0, 1, 0.5296836643377314,\n",
              "         -1, -1, 0],\n",
              "        [0, 0, 0, 0, 0, 0, 0, 0, 0, 0, 0, 0, 0, 0, 0, 0, 9155769230.76923,\n",
              "         -133606.59490549748, -11111.111111111111],\n",
              "        [0, 0, 0, 0, 0, 0, 0, 0, 0, 0, 0, 0, 0, 0, 0, 0, 1,\n",
              "         0.8390752337060228, -1]], dtype=object), array([[-6.417     ],\n",
              "        [-6.2328    ],\n",
              "        [ 0.        ],\n",
              "        [ 6.2328    ],\n",
              "        [ 0.        ],\n",
              "        [-6.265125  ],\n",
              "        [ 0.        ],\n",
              "        [ 6.265125  ],\n",
              "        [ 0.        ],\n",
              "        [-6.265125  ],\n",
              "        [ 0.        ],\n",
              "        [ 6.265125  ],\n",
              "        [ 0.        ],\n",
              "        [-6.265125  ],\n",
              "        [ 0.        ],\n",
              "        [ 6.265125  ],\n",
              "        [ 0.        ],\n",
              "        [-6.28366667],\n",
              "        [ 0.        ]]))"
            ]
          },
          "metadata": {},
          "execution_count": 57
        }
      ]
    },
    {
      "cell_type": "code",
      "source": [
        "print (\"18TH row of the matrix d:\\n\", n1[17])"
      ],
      "metadata": {
        "colab": {
          "base_uri": "https://localhost:8080/"
        },
        "id": "QQzU3laEZXUL",
        "outputId": "0330aef1-9cc9-4469-e0fc-4d799f0283d1"
      },
      "execution_count": null,
      "outputs": [
        {
          "output_type": "stream",
          "name": "stdout",
          "text": [
            "18TH row of the matrix d:\n",
            " [0 0 0 0 0 0 0 0 0 0 0 0 0 0 0 0 9155769230.76923 -133606.59490549748\n",
            " -11111.111111111111]\n"
          ]
        }
      ]
    },
    {
      "cell_type": "code",
      "source": [
        "A1_1 = np.dot(n1[0], l1) \n",
        "B1_1 = np.dot(n1[1], l1) * R_1**2\n",
        "A1_2 = np.dot(n1[2], l1)\n",
        "B1_2 = np.dot(n1[3], l1) * R_2**2\n",
        "A1_3 = np.dot(n1[4], l1) \n",
        "B1_3 = np.dot(n1[5], l1) * R_3**2\n",
        "A1_4 = np.dot(n1[6], l1) \n",
        "B1_4 = np.dot(n1[7], l1) * R_4**2\n",
        "A1_5 = np.dot(n1[8], l1)\n",
        "B1_5 = np.dot(n1[9], l1) * R_5**2\n",
        "A1_6 = np.dot(n1[10], l1)\n",
        "B1_6 = np.dot(n1[11], l1) * R_6**2\n",
        "A1_7 = np.dot(n1[12], l1)\n",
        "B1_7 = np.dot(n1[13], l1) * R_7**2\n",
        "A1_8 = np.dot(n1[14], l1)\n",
        "B1_8 = np.dot(n1[15], l1) * R_8**2\n",
        "A1_9 = np.dot(n1[16], l1)\n",
        "B1_9 = np.dot(n1[17], l1) * R_9**2\n",
        "A1_10 = 0\n",
        "B1_10 = np.dot(n1[18], l1) * R_10**2\n",
        "\n",
        "\n",
        "\n",
        "\n",
        "A1_1, B1_1, A1_2, B1_2, A1_3, B1_3, A1_4, B1_4, A1_5, B1_5, A1_6, B1_6, B1_7, B1_7, A1_8, B1_8, A1_9, B1_9, B1_10, A1_10"
      ],
      "metadata": {
        "id": "UWBOouGI3Iy4",
        "colab": {
          "base_uri": "https://localhost:8080/"
        },
        "outputId": "90788e8c-4829-4536-a651-dbcaefffea4e"
      },
      "execution_count": null,
      "outputs": [
        {
          "output_type": "execute_result",
          "data": {
            "text/plain": [
              "(array([-1562006.0769230765], dtype=object),\n",
              " array([-8655.836423620269], dtype=object),\n",
              " array([-16.18206097714935], dtype=object),\n",
              " array([-8310.304868487414], dtype=object),\n",
              " array([11.30236699571472], dtype=object),\n",
              " array([7000.405653350896], dtype=object),\n",
              " array([-10.39066182645794], dtype=object),\n",
              " array([-15363.649366127813], dtype=object),\n",
              " array([10.048244822305163], dtype=object),\n",
              " array([22386.270967891433], dtype=object),\n",
              " array([-11.60869130190311], dtype=object),\n",
              " array([-29776.683415990872], dtype=object),\n",
              " array([42532.50089370771], dtype=object),\n",
              " array([42532.50089370771], dtype=object),\n",
              " array([-11.18130010578771], dtype=object),\n",
              " array([-66511.22848294112], dtype=object),\n",
              " array([9.602201034200595], dtype=object),\n",
              " array([102256.72711418627], dtype=object),\n",
              " array([-0.7653568836666664], dtype=object),\n",
              " 0)"
            ]
          },
          "metadata": {},
          "execution_count": 67
        }
      ]
    }
  ],
  "metadata": {
    "kernelspec": {
      "display_name": "Python 3",
      "language": "python",
      "name": "python3"
    },
    "language_info": {
      "codemirror_mode": {
        "name": "ipython",
        "version": 3
      },
      "file_extension": ".py",
      "mimetype": "text/x-python",
      "name": "python",
      "nbconvert_exporter": "python",
      "pygments_lexer": "ipython3",
      "version": "3.7.4"
    },
    "colab": {
      "name": "reservoir_1508Solution1_final.ipynb",
      "provenance": [],
      "include_colab_link": true
    }
  },
  "nbformat": 4,
  "nbformat_minor": 0
}