{
  "cells": [
    {
      "cell_type": "markdown",
      "metadata": {
        "id": "view-in-github",
        "colab_type": "text"
      },
      "source": [
        "<a href=\"https://colab.research.google.com/github/AntoninaBarsukova/Coursera-ML/blob/main/CO_2_injection.ipynb\" target=\"_parent\"><img src=\"https://colab.research.google.com/assets/colab-badge.svg\" alt=\"Open In Colab\"/></a>"
      ]
    },
    {
      "cell_type": "code",
      "source": [
        "!pip install pandas\n",
        "!pip install openpyxl\n",
        "!pip install numpy"
      ],
      "metadata": {
        "colab": {
          "base_uri": "https://localhost:8080/"
        },
        "id": "Sn6tIXjoVcOf",
        "outputId": "83ea295d-2449-4410-87a8-18f6e17dd998"
      },
      "execution_count": null,
      "outputs": [
        {
          "output_type": "stream",
          "name": "stdout",
          "text": [
            "Looking in indexes: https://pypi.org/simple, https://us-python.pkg.dev/colab-wheels/public/simple/\n",
            "Requirement already satisfied: pandas in /usr/local/lib/python3.7/dist-packages (1.3.5)\n",
            "Requirement already satisfied: numpy>=1.17.3 in /usr/local/lib/python3.7/dist-packages (from pandas) (1.21.6)\n",
            "Requirement already satisfied: python-dateutil>=2.7.3 in /usr/local/lib/python3.7/dist-packages (from pandas) (2.8.2)\n",
            "Requirement already satisfied: pytz>=2017.3 in /usr/local/lib/python3.7/dist-packages (from pandas) (2022.1)\n",
            "Requirement already satisfied: six>=1.5 in /usr/local/lib/python3.7/dist-packages (from python-dateutil>=2.7.3->pandas) (1.15.0)\n",
            "Looking in indexes: https://pypi.org/simple, https://us-python.pkg.dev/colab-wheels/public/simple/\n",
            "Requirement already satisfied: openpyxl in /usr/local/lib/python3.7/dist-packages (3.0.10)\n",
            "Requirement already satisfied: et-xmlfile in /usr/local/lib/python3.7/dist-packages (from openpyxl) (1.1.0)\n",
            "Looking in indexes: https://pypi.org/simple, https://us-python.pkg.dev/colab-wheels/public/simple/\n",
            "Requirement already satisfied: numpy in /usr/local/lib/python3.7/dist-packages (1.21.6)\n"
          ]
        }
      ]
    },
    {
      "cell_type": "code",
      "execution_count": null,
      "metadata": {
        "id": "aA1uCfVzCUip"
      },
      "outputs": [],
      "source": [
        "import openpyxl\n",
        "import numpy as np\n",
        "import matplotlib.pyplot as plt\n",
        "import pandas as pd\n"
      ]
    },
    {
      "cell_type": "code",
      "source": [
        "path = \"/content/table_for_pythonL4A1.xlsx\"\n",
        "\n",
        "wb_obj = openpyxl.load_workbook(path)\n",
        "\n",
        "sheet_obj = wb_obj.active"
      ],
      "metadata": {
        "id": "v9G5mDvFovBA"
      },
      "execution_count": null,
      "outputs": []
    },
    {
      "cell_type": "code",
      "source": [
        "#Cement Class G+Silica Four\n",
        "#Liner 7''\n",
        "  # pc - cement pore pressure\n",
        "  # sigmah formtion Shmax\n",
        "for i in range(20, 21):\n",
        "  R_1 = sheet_obj.cell(row=i, column=3).value\n",
        "  R_2 = sheet_obj.cell(row=i, column=4).value\n",
        "  R_3 = sheet_obj.cell(row=i, column=15).value\n",
        "  R_4 = 1\n",
        "  R_5 = 10\n",
        "  R_6 = 100\n",
        "  R_7 = 500\n",
        "  R_8 = 1000\n",
        "  R_9 = 2000\n",
        "  alpha_1 = sheet_obj.cell(row=i, column=7).value\n",
        "  alpha_2 = sheet_obj.cell(row=i, column=18).value\n",
        "  alpha_3 = sheet_obj.cell(row=i, column=28).value\n",
        "  alpha_10 = sheet_obj.cell(row=i, column=28).value\n",
        "  E_1 = sheet_obj.cell(row=i, column=5).value\n",
        "  E_2 = sheet_obj.cell(row=i, column=16).value\n",
        "  E_3 = sheet_obj.cell(row=i, column=26).value\n",
        "  E_10 = sheet_obj.cell(row=i, column=26).value\n",
        "  nu_1 = sheet_obj.cell(row=i, column=6).value\n",
        "  nu_2 = sheet_obj.cell(row=i, column=17).value\n",
        "  nu_3 = sheet_obj.cell(row=i, column=27).value\n",
        "  nu_10 = sheet_obj.cell(row=i, column=27).value\n",
        "  dT = sheet_obj.cell(row=i, column=35).value\n",
        "  dPf = sheet_obj.cell(row=i, column=2).value\n",
        "  pc = sheet_obj.cell(row=i, column=38).value\n",
        "  sigmah = sheet_obj.cell(row=i, column=39).value\n",
        "  deltasigmah = sheet_obj.cell(row=i, column=43).value\n",
        "  deltapfreservoir = sheet_obj.cell(row=i, column=44).value\n",
        "\n",
        "\n",
        "  biot_1 = 0\n",
        "  biot_2 = 0.8\n",
        "  biot_3 = 0.8\n",
        "  biot_4 = 0.8\n",
        "  biot_5 = biot_6 = biot_7 = biot_8 = biot_9 = biot_4\n",
        "  \n",
        "\n",
        "  K_1 = E_1 / 3 / (1 - 2 * nu_1)\n",
        "  G_1 = E_1 / 2 / (1 + nu_1)\n",
        "  K_2 = E_2 / 3 / (1 - 2 * nu_2)\n",
        "  G_2 = E_2 / 2 / (1 + nu_2)\n",
        "  K_3 = E_3 / 3 / (1 - 2 * nu_3)\n",
        "  G_3 = E_3 / 2 / (1 + nu_3)\n",
        "  K_4 = K_5 = K_6 = K_7 = K_8 = K_9 = K_3\n",
        "  G_4 = G_5 = G_6 = G_7 = G_8 = G_9 = G_3\n",
        "  K_10 = E_10 / 3 / (1 - 2 * nu_10)\n",
        "  G_10 = E_10 / 2 / (1 + nu_10)\n",
        "  sheet_obj.cell(row=i, column=10).value = K_1\n",
        "  sheet_obj.cell(row=i, column=11).value = G_1\n",
        "  sheet_obj.cell(row=i, column=21).value = K_2\n",
        "  sheet_obj.cell(row=i, column=22).value = G_2\n",
        "  sheet_obj.cell(row=i, column=31).value = K_10\n",
        "  sheet_obj.cell(row=i, column=32).value = G_10\n",
        "  r_1 = np.linspace(R_1, R_2)\n",
        "  r_2 = np.linspace(R_2, R_3)\n",
        "  r_3 = np.linspace(R_3, R_4)\n",
        "  r_4 = np.linspace(R_4, R_5)\n",
        "  r_5 = np.linspace(R_5, R_6)\n",
        "  r_6 = np.linspace(R_6, R_7)\n",
        "  r_7 = np.linspace(R_7, R_8)\n",
        "  r_8 = np.linspace(R_8, R_9)\n",
        "  r_9 = np.linspace(R_9, 5* R_9)\n",
        "\n",
        "  n5 = np.array([[2 * (K_1 + G_1 / 3), -2 * G_1, 0, 0, 0],                                                                 \n",
        "               [2 * (K_1 + G_1 / 3), -2 * G_1 * (R_1 / R_2)**2, -2 * (K_2 + G_2 / 3), 2 * G_2, 0],                       \n",
        "               [1, R_1**2 / R_2**2, -1, -1, 0],                                                                                                                                        \n",
        "               [0, 0, 2 * (K_2 + G_2 / 3), -2 * G_2 * (R_2 / R_3)**2,  2 * G_10],                      \n",
        "               [0, 0, 1, R_2**2 / R_3**2, -1]])   \n",
        "                                                                                                                                    \n",
        "  l5 = np.array([[3 * K_1 * alpha_1 * dT - dPf],\n",
        "               [3 * K_1 * alpha_1 * dT - 3 * K_2 * alpha_2 * dT],\n",
        "               [0],\n",
        "               [3 * K_10 * alpha_2 * dT - 3 * K_10 * alpha_10 * dT],\n",
        "               [0]])       \n",
        "     \n",
        "print(deltapfreservoir)"
      ],
      "metadata": {
        "colab": {
          "base_uri": "https://localhost:8080/"
        },
        "id": "oUCYjnSLpY99",
        "outputId": "3ef8c0fa-5787-4935-88ff-56b367815037"
      },
      "execution_count": null,
      "outputs": [
        {
          "output_type": "stream",
          "name": "stdout",
          "text": [
            "42.3\n"
          ]
        }
      ]
    },
    {
      "cell_type": "code",
      "source": [
        "# Initial state of stress in the host rock\n",
        " # pc - cement pore pressure (hydrostatic)\n",
        " # sigmah-  formtion Shmax\n",
        "\n",
        "for i in range(6, 20):\n",
        "  A_ri = -0.5 * sigmah * 1/(K_10 - ((K_10 - 2 * G_10 / 3)**2) / (K_10 + 4 * G_10 / 3))\n",
        "  B_ri = (pc - sigmah) * R_3**2 / (2 * G_10)\n",
        "\n",
        "  sheet_obj.cell(row=i, column=36).value = A_ri\n",
        "  sheet_obj.cell(row=i, column=37).value = B_ri\n",
        "\n",
        "A_ri, B_ri"
      ],
      "metadata": {
        "colab": {
          "base_uri": "https://localhost:8080/"
        },
        "id": "MQcZKUIT1AuQ",
        "outputId": "716dc8d0-9d97-4e4f-ecf8-f899e78ea563"
      },
      "execution_count": null,
      "outputs": [
        {
          "output_type": "execute_result",
          "data": {
            "text/plain": [
              "(-0.005775528501228502, 2.897103047563626e-06)"
            ]
          },
          "metadata": {},
          "execution_count": 114
        }
      ]
    },
    {
      "cell_type": "code",
      "source": [
        "# Initial state of  radial stress in the host rock"
      ],
      "metadata": {
        "id": "OGVq4NAjEBj6"
      },
      "execution_count": null,
      "outputs": []
    },
    {
      "cell_type": "code",
      "source": [
        "for i in range(20, 21):\n",
        "  def n(sigmah, pc, R, r):\n",
        "    return - sigmah - (pc - sigmah) * R**2 / r**2 "
      ],
      "metadata": {
        "id": "4flXVGxP6Tpi"
      },
      "execution_count": null,
      "outputs": []
    },
    {
      "cell_type": "code",
      "source": [
        "for i in range(20, 21):\n",
        "  n3 = n(sigmah, pc, R_3, r_3)\n",
        "\n",
        "n3, r_3\n",
        "\n"
      ],
      "metadata": {
        "colab": {
          "base_uri": "https://localhost:8080/"
        },
        "id": "DwwYyBMNARlZ",
        "outputId": "e9842b17-1dde-45db-8e48-f6aef6c271ca"
      },
      "execution_count": null,
      "outputs": [
        {
          "output_type": "execute_result",
          "data": {
            "text/plain": [
              "(array([-68.71837   , -68.08761931, -67.69350108, -67.43090917,\n",
              "        -67.24722026, -67.11372016, -67.0136607 , -66.93673879,\n",
              "        -66.87633402, -66.82803499, -66.78881043, -66.7565217 ,\n",
              "        -66.72962499, -66.70698328, -66.68774421, -66.67125861,\n",
              "        -66.65702506, -66.64465129, -66.63382688, -66.62430354,\n",
              "        -66.61588083, -66.60839544, -66.60171329, -66.59572344,\n",
              "        -66.59033345, -66.58546581, -66.58105516, -66.57704601,\n",
              "        -66.57339109, -66.57004986, -66.56698742, -66.56417359,\n",
              "        -66.56158218, -66.55919035, -66.55697811, -66.55492793,\n",
              "        -66.55302436, -66.55125374, -66.54960398, -66.54806432,\n",
              "        -66.54662518, -66.54527799, -66.54401508, -66.54282958,\n",
              "        -66.54171527, -66.54066657, -66.53967843, -66.53874628,\n",
              "        -66.53786596, -66.5370337 ]),\n",
              " array([0.108     , 0.12783673, 0.14767347, 0.1675102 , 0.18734694,\n",
              "        0.20718367, 0.22702041, 0.24685714, 0.26669388, 0.28653061,\n",
              "        0.30636735, 0.32620408, 0.34604082, 0.36587755, 0.38571429,\n",
              "        0.40555102, 0.42538776, 0.44522449, 0.46506122, 0.48489796,\n",
              "        0.50473469, 0.52457143, 0.54440816, 0.5642449 , 0.58408163,\n",
              "        0.60391837, 0.6237551 , 0.64359184, 0.66342857, 0.68326531,\n",
              "        0.70310204, 0.72293878, 0.74277551, 0.76261224, 0.78244898,\n",
              "        0.80228571, 0.82212245, 0.84195918, 0.86179592, 0.88163265,\n",
              "        0.90146939, 0.92130612, 0.94114286, 0.96097959, 0.98081633,\n",
              "        1.00065306, 1.0204898 , 1.04032653, 1.06016327, 1.08      ]))"
            ]
          },
          "metadata": {},
          "execution_count": 116
        }
      ]
    },
    {
      "cell_type": "code",
      "source": [
        "sigmah"
      ],
      "metadata": {
        "colab": {
          "base_uri": "https://localhost:8080/"
        },
        "id": "-P6ZykOZX6GP",
        "outputId": "6ebeb84b-5074-4364-acb3-24f7bbf42e72"
      },
      "execution_count": null,
      "outputs": [
        {
          "output_type": "execute_result",
          "data": {
            "text/plain": [
              "66.515"
            ]
          },
          "metadata": {},
          "execution_count": 117
        }
      ]
    },
    {
      "cell_type": "code",
      "source": [
        "pc"
      ],
      "metadata": {
        "colab": {
          "base_uri": "https://localhost:8080/"
        },
        "id": "BEtCxhwkaZhQ",
        "outputId": "58f3619f-9ea6-4bc2-82ee-94ad8222ca2d"
      },
      "execution_count": null,
      "outputs": [
        {
          "output_type": "execute_result",
          "data": {
            "text/plain": [
              "68.71837"
            ]
          },
          "metadata": {},
          "execution_count": 118
        }
      ]
    },
    {
      "cell_type": "code",
      "source": [
        " #Init radial stress rock\n",
        " for i in range(20, 21):\n",
        "   plt.plot(r_3, n3)\n",
        "   plt.grid(True)\n"
      ],
      "metadata": {
        "colab": {
          "base_uri": "https://localhost:8080/",
          "height": 265
        },
        "id": "D_Y71fD99S0o",
        "outputId": "9d251159-46b9-46d3-ddf2-cd3589e31389"
      },
      "execution_count": null,
      "outputs": [
        {
          "output_type": "display_data",
          "data": {
            "text/plain": [
              "<Figure size 432x288 with 1 Axes>"
            ],
            "image/png": "[encoded data removed]"
          },
          "metadata": {
            "needs_background": "light"
          }
        }
      ]
    },
    {
      "cell_type": "code",
      "source": [
        "df = pd.DataFrame(r_3, n3)\n",
        "df.to_csv(\"out.csv\")\n",
        "\n",
        "df"
      ],
      "metadata": {
        "id": "40yOpSsw5Yps"
      },
      "execution_count": null,
      "outputs": []
    },
    {
      "cell_type": "code",
      "source": [
        "# Initial state of hoop stress in the host rock\n",
        "\n",
        "\n",
        "for i in range(20, 21):\n",
        "  def h(sigmah, K, G, pc, R, r):\n",
        "    return - sigmah * 9 * K / (8 * K - 4 / (3 * G)) + (pc - sigmah) * R**2 / r**2\n",
        "    "
      ],
      "metadata": {
        "id": "tZC0OliiDzM6"
      },
      "execution_count": null,
      "outputs": []
    },
    {
      "cell_type": "code",
      "source": [
        "for i in range(6, 20):\n",
        "  h3 = h(sigmah, K_10, G_10, pc, R_3, r_3)\n"
      ],
      "metadata": {
        "id": "VVIgGdgxE_VP"
      },
      "execution_count": null,
      "outputs": []
    },
    {
      "cell_type": "code",
      "source": [
        "for i in range(20, 21):\n",
        "   plt.plot(r_3, h3)\n",
        "   plt.grid(True)"
      ],
      "metadata": {
        "colab": {
          "base_uri": "https://localhost:8080/",
          "height": 265
        },
        "id": "dpiusVf45I9z",
        "outputId": "f9ef7196-30f6-444d-c05e-0d45b9117678"
      },
      "execution_count": null,
      "outputs": [
        {
          "output_type": "display_data",
          "data": {
            "text/plain": [
              "<Figure size 432x288 with 1 Axes>"
            ],
            "image/png": "[encoded data removed]"
          },
          "metadata": {
            "needs_background": "light"
          }
        }
      ]
    },
    {
      "cell_type": "code",
      "source": [
        "dl = pd.DataFrame(r_3, h3)\n",
        "dl.to_csv(\"out.csv\")\n",
        "\n",
        "dl\n",
        "\n"
      ],
      "metadata": {
        "id": "MF73_7iQr-tn"
      },
      "execution_count": null,
      "outputs": []
    },
    {
      "cell_type": "code",
      "source": [
        "for i in range(20, 21):\n",
        "   plt.plot(r_3, n3)\n",
        "   plt.plot(r_3, h3)\n",
        "   #plt.hlines((-sigmah, -sigmah), r_3, 10 * r_3)\n",
        "   plt.hlines((-pc, -pc), R_2, R_3)\n",
        "   plt.grid(True)"
      ],
      "metadata": {
        "colab": {
          "base_uri": "https://localhost:8080/",
          "height": 265
        },
        "id": "1KJ0g0RSFNcw",
        "outputId": "293280e1-ab4d-4158-ee66-fd9cc6a8b1f5"
      },
      "execution_count": null,
      "outputs": [
        {
          "output_type": "display_data",
          "data": {
            "text/plain": [
              "<Figure size 432x288 with 1 Axes>"
            ],
            "image/png": "[encoded data removed]"
          },
          "metadata": {
            "needs_background": "light"
          }
        }
      ]
    },
    {
      "cell_type": "code",
      "source": [
        "wb_obj.save(\"/content/table_for_pythonL4A1.xlsx\")"
      ],
      "metadata": {
        "id": "k_EG7jSt5j0x"
      },
      "execution_count": null,
      "outputs": []
    },
    {
      "cell_type": "code",
      "source": [
        "# depletion stage"
      ],
      "metadata": {
        "id": "4301MxKt9ljR"
      },
      "execution_count": null,
      "outputs": []
    },
    {
      "cell_type": "code",
      "source": [
        "#gas depletion\n",
        "# deltapfreservoir is the defference between reservoir pressure at the beginning and in the end of production. Here we use it as delta infinity which is \n",
        "# deltainfinity = alpha*delta temperature + beta*delta reservoir pressure\n",
        "# delta temperature = 0 for production stage\n",
        "# beta = biot coefficient, beta = 0 for casing, 0.75 for cement and 0.8 for the rock\n",
        "# deltasigmah is the difference Shmax before and after production in the rock\n",
        "\n",
        "print(K_10)\n",
        "print(deltapfreservoir)\n",
        "print(deltasigmah)\n",
        "print(G_10)"
      ],
      "metadata": {
        "id": "JzYiJE4RPntE",
        "colab": {
          "base_uri": "https://localhost:8080/"
        },
        "outputId": "24793d88-201f-453d-d47f-5e38ad10a6f2"
      },
      "execution_count": null,
      "outputs": [
        {
          "output_type": "stream",
          "name": "stdout",
          "text": [
            "7051.282051282051\n",
            "42.3\n",
            "25\n",
            "4435.483870967742\n"
          ]
        }
      ]
    },
    {
      "cell_type": "code",
      "source": [
        "G_depl_1 = 2 * G_1 / ( K_1 + 4 * G_1 / 3)\n",
        "G_depl_2 = 2 * G_2 / ( K_2 + 4 * G_2 / 3)\n",
        "G_depl_3 = 2 * G_10 / ( K_10 + 4 * G_10 / 3)\n",
        "\n",
        "print(G_depl_1)\n",
        "print(G_depl_2)\n",
        "print(G_depl_3)"
      ],
      "metadata": {
        "colab": {
          "base_uri": "https://localhost:8080/"
        },
        "id": "UhjoeXFJy9i-",
        "outputId": "3845d191-91b6-4d28-ffb4-065ec4807454"
      },
      "execution_count": null,
      "outputs": [
        {
          "output_type": "stream",
          "name": "stdout",
          "text": [
            "0.5714285714285714\n",
            "0.75\n",
            "0.6842105263157895\n"
          ]
        }
      ]
    },
    {
      "cell_type": "code",
      "source": [
        "biot_1 = 0\n",
        "biot_2 = 0.8\n",
        "biot_3 = 0.8\n",
        "\n",
        "delta_infinity_1 = 0\n",
        "delta_infinity_2 = biot_2 * deltapfreservoir\n",
        "delta_infinity_3 = biot_3 * deltapfreservoir\n",
        "\n",
        "#deltamudpressure - diffecrence between mud pressure and the reservoir fluid pressure at the end of production\n",
        "deltamudpressure = -34\n",
        "\n",
        "print(delta_infinity_2)\n",
        "print(delta_infinity_3)"
      ],
      "metadata": {
        "id": "-_XDpW_eXpF9",
        "colab": {
          "base_uri": "https://localhost:8080/"
        },
        "outputId": "96c24094-4fe9-4c3f-f063-9d0fb9c651ce"
      },
      "execution_count": null,
      "outputs": [
        {
          "output_type": "stream",
          "name": "stdout",
          "text": [
            "33.839999999999996\n",
            "33.839999999999996\n"
          ]
        }
      ]
    },
    {
      "cell_type": "code",
      "source": [
        "for i in range(20, 21):\n",
        "  A_3_depl = (1 / (3 * K_10)) * (delta_infinity_3 + deltasigmah * (K_10 + 4 * G_10 / 3)/ (2 * G_10))\n",
        "\n",
        "  print(A_3_depl)"
      ],
      "metadata": {
        "colab": {
          "base_uri": "https://localhost:8080/"
        },
        "id": "ouEv98cUQMJp",
        "outputId": "bd167054-550d-4dea-f5e9-9b6eb59c4ab1"
      },
      "execution_count": null,
      "outputs": [
        {
          "output_type": "stream",
          "name": "stdout",
          "text": [
            "0.0033269818181818176\n"
          ]
        }
      ]
    },
    {
      "cell_type": "code",
      "source": [
        "for i in range(20, 21):\n",
        "  b5 = np.array([[3 * G_depl_1 * K_1, -2 * G_1, 0, 0, 0],                                                                 \n",
        "                [3 * (G_depl_1 * K_1), -2 * G_1 * (R_1 / R_2)**2, -3 * G_depl_2 * K_2, 2 * G_2, 0],                       \n",
        "                [1, (R_1 / R_2)**2, -1, -1, 0],                                                                                                                                        \n",
        "                [0, 0, 3 * G_depl_2 * K_2, -2 * G_2 * (R_2 / R_3)**2,  2 * G_10],                      \n",
        "                [0, 0, 1, (R_2 / R_3)**2, -1]])   \n",
        "\n",
        "  print(b5) \n"
      ],
      "metadata": {
        "id": "q0AqspzuysVM"
      },
      "execution_count": null,
      "outputs": []
    },
    {
      "cell_type": "code",
      "source": [
        "# Calculation the inverse matrix\n",
        "for i in range(20, 21):\n",
        "  bb5 =np.linalg.inv(b5)\n",
        "\n",
        "print(bb5)"
      ],
      "metadata": {
        "id": "kwOIGY-P18s6"
      },
      "execution_count": null,
      "outputs": []
    },
    {
      "cell_type": "code",
      "source": [
        "#Vector\n",
        "\n",
        "for i in range(20, 21):\n",
        "  c5 = np.array([[ - deltamudpressure],\n",
        "                [- G_depl_2 * delta_infinity_2],\n",
        "                [0],\n",
        "                [G_depl_2 * delta_infinity_2 - G_depl_3 * delta_infinity_3 + 3 * G_depl_3 * K_10 * A_3_depl],\n",
        "                [A_3_depl]])   \n",
        "  \n",
        "  print(c5) \n"
      ],
      "metadata": {
        "id": "bpceVQSmQGno",
        "colab": {
          "base_uri": "https://localhost:8080/"
        },
        "outputId": "5f5cb07a-0d5c-49a0-d9e7-848e0eaf1d86"
      },
      "execution_count": null,
      "outputs": [
        {
          "output_type": "stream",
          "name": "stdout",
          "text": [
            "[[ 3.40000000e+01]\n",
            " [-2.53800000e+01]\n",
            " [ 0.00000000e+00]\n",
            " [ 5.03800000e+01]\n",
            " [ 3.32698182e-03]]\n"
          ]
        }
      ]
    },
    {
      "cell_type": "code",
      "source": [
        "#Multiplication of the inverse matrix by vector\n",
        "\n",
        "for i in range(20, 21):\n",
        "  aa = bb5.dot(c5)\n",
        "\n",
        "print(aa)"
      ],
      "metadata": {
        "id": "I9KyVc6Ew4Py"
      },
      "execution_count": null,
      "outputs": []
    },
    {
      "cell_type": "code",
      "source": [
        "for i in range(20, 21):\n",
        "  A_1_depl = aa[0]\n",
        "  B_1_depl = aa[1] * R_1**2\n",
        "  A_2_depl = aa[2]\n",
        "  B_2_depl = aa[3] * R_2**2 \n",
        "  B_3_depl = aa[4] * R_3**2\n",
        "  \n",
        "  sheet_obj.cell(row=i, column=12).value = A_1_depl[0]\n",
        "  sheet_obj.cell(row=i, column=13).value = B_1_depl[0]\n",
        "  sheet_obj.cell(row=i, column=23).value = A_2_depl[0]\n",
        "  sheet_obj.cell(row=i, column=24).value = B_2_depl[0]\n",
        "  sheet_obj.cell(row=i, column=33).value = A_3_depl\n",
        "  sheet_obj.cell(row=i, column=34).value = B_3_depl[0]\n",
        "\n",
        "  A_depl_1 = A_1_depl[0]\n",
        "  B_depl_1 =B_1_depl[0]\n",
        "  A_depl_2 = A_2_depl[0]\n",
        "  B_depl_2 = B_2_depl[0]\n",
        "  A_depl_3 = A_3_depl\n",
        "  B_depl_3 = B_3_depl[0]\n",
        "\n",
        "\n",
        "A_1_depl\n",
        "\n",
        "A_1_depl\n",
        "\n",
        "A_depl_1, B_1_depl, A_2_depl, B_2_depl, A_3_depl,  B_3_depl"
      ],
      "metadata": {
        "colab": {
          "base_uri": "https://localhost:8080/"
        },
        "id": "SQagbb-MixJV",
        "outputId": "db47d5f0-802f-4450-d96a-3046fa5d159c"
      },
      "execution_count": null,
      "outputs": [
        {
          "output_type": "execute_result",
          "data": {
            "text/plain": [
              "(0.0003564225252811176,\n",
              " array([2.7984705e-06]),\n",
              " array([0.00326482]),\n",
              " array([-2.02389716e-05]),\n",
              " 0.0033269818181818176,\n",
              " array([-2.09639892e-05]))"
            ]
          },
          "metadata": {},
          "execution_count": 155
        }
      ]
    },
    {
      "cell_type": "code",
      "source": [
        "# Radial stress change after depletion\n",
        "\n",
        "def sigma_r_depl(G_depl, A_depl, K, delta_infinity, G, B_depl, r ):\n",
        "    return G_depl * (3 * A_depl * K - delta_infinity) - 2 * G * B_depl / r**2"
      ],
      "metadata": {
        "id": "gqJlzzM8Y3g0"
      },
      "execution_count": null,
      "outputs": []
    },
    {
      "cell_type": "code",
      "source": [
        "#sigma_r_depl1 = G_depl_1 * (3 * A_1_depl * K_1 - delta_infinity_1) + 2 * G_1 * B_1_depl / R_1**2\n",
        "\n",
        "#sigma_r_depl1\n",
        "\n"
      ],
      "metadata": {
        "colab": {
          "base_uri": "https://localhost:8080/"
        },
        "id": "byUSElQne_bV",
        "outputId": "0ed6051e-da6b-4e11-e82d-c2a7f4fa633a"
      },
      "execution_count": null,
      "outputs": [
        {
          "output_type": "execute_result",
          "data": {
            "text/plain": [
              "176.79846495197523"
            ]
          },
          "metadata": {},
          "execution_count": 148
        }
      ]
    },
    {
      "cell_type": "code",
      "source": [
        "\n",
        "for i in range(20, 21):\n",
        "  # steel\n",
        "  sigma_r_depl1 =  sigma_r_depl(G_depl_1, A_depl_1, K_1, delta_infinity_1, G_1, B_depl_1, r_1)\n",
        "  # cement\n",
        "  sigma_r_depl2 =  sigma_r_depl(G_depl_2, A_depl_2, K_2, delta_infinity_2, G_2, B_depl_2, r_2)\n",
        "  # formation\n",
        "  sigma_r_depl3 =  sigma_r_depl(G_depl_3, A_depl_3, K_10, delta_infinity_3, G_10, B_depl_3, r_3)"
      ],
      "metadata": {
        "id": "sZcCsjaUZv5U"
      },
      "execution_count": null,
      "outputs": []
    },
    {
      "cell_type": "code",
      "source": [
        "#displacemet\n",
        "\n",
        "\n",
        "def e_r(r, A, B):\n",
        "    return A * r + B / r\n"
      ],
      "metadata": {
        "id": "NvKysI8roOtJ"
      },
      "execution_count": null,
      "outputs": []
    },
    {
      "cell_type": "code",
      "source": [
        "for i in range(20, 21):\n",
        "  # cement\n",
        "  e_r2 = e_r(r_2, A_2_depl, B_2_depl)\n",
        "  # steel\n",
        "  e_r1 = e_r(r_1, A_1_depl, B_1_depl)\n",
        "  # formation\n",
        "  e_r3 = e_r(r_3, A_3_depl, B_3_depl)\n",
        "\n",
        "print(e_r1)\n",
        "print(e_r2)\n",
        "print(e_r3)"
      ],
      "metadata": {
        "id": "yiQLM8paoWyR",
        "colab": {
          "base_uri": "https://localhost:8080/",
          "height": 243
        },
        "outputId": "71a81264-e777-4b3a-f351-73aa60b07cf8"
      },
      "execution_count": null,
      "outputs": [
        {
          "output_type": "error",
          "ename": "NameError",
          "evalue": "ignored",
          "traceback": [
            "\u001b[0;31m---------------------------------------------------------------------------\u001b[0m",
            "\u001b[0;31mNameError\u001b[0m                                 Traceback (most recent call last)",
            "\u001b[0;32m<ipython-input-128-d6e09f0975ea>\u001b[0m in \u001b[0;36m<module>\u001b[0;34m()\u001b[0m\n\u001b[1;32m      1\u001b[0m \u001b[0;32mfor\u001b[0m \u001b[0mi\u001b[0m \u001b[0;32min\u001b[0m \u001b[0mrange\u001b[0m\u001b[0;34m(\u001b[0m\u001b[0;36m20\u001b[0m\u001b[0;34m,\u001b[0m \u001b[0;36m21\u001b[0m\u001b[0;34m)\u001b[0m\u001b[0;34m:\u001b[0m\u001b[0;34m\u001b[0m\u001b[0;34m\u001b[0m\u001b[0m\n\u001b[1;32m      2\u001b[0m   \u001b[0;31m# cement\u001b[0m\u001b[0;34m\u001b[0m\u001b[0;34m\u001b[0m\u001b[0;34m\u001b[0m\u001b[0m\n\u001b[0;32m----> 3\u001b[0;31m   \u001b[0me_r2\u001b[0m \u001b[0;34m=\u001b[0m \u001b[0me_r\u001b[0m\u001b[0;34m(\u001b[0m\u001b[0mr_2\u001b[0m\u001b[0;34m,\u001b[0m \u001b[0mA_2_depl\u001b[0m\u001b[0;34m,\u001b[0m \u001b[0mB_2_depl\u001b[0m\u001b[0;34m)\u001b[0m\u001b[0;34m\u001b[0m\u001b[0;34m\u001b[0m\u001b[0m\n\u001b[0m\u001b[1;32m      4\u001b[0m   \u001b[0;31m# steel\u001b[0m\u001b[0;34m\u001b[0m\u001b[0;34m\u001b[0m\u001b[0;34m\u001b[0m\u001b[0m\n\u001b[1;32m      5\u001b[0m   \u001b[0me_r1\u001b[0m \u001b[0;34m=\u001b[0m \u001b[0me_r\u001b[0m\u001b[0;34m(\u001b[0m\u001b[0mr_1\u001b[0m\u001b[0;34m,\u001b[0m \u001b[0mA_1_depl\u001b[0m\u001b[0;34m,\u001b[0m \u001b[0mB_1_depl\u001b[0m\u001b[0;34m)\u001b[0m\u001b[0;34m\u001b[0m\u001b[0;34m\u001b[0m\u001b[0m\n",
            "\u001b[0;31mNameError\u001b[0m: name 'e_r' is not defined"
          ]
        }
      ]
    },
    {
      "cell_type": "code",
      "source": [
        "#displacement\n",
        "\n",
        "plt.plot(r_1, e_r1)\n",
        "plt.plot(r_2, e_r2)\n",
        "plt.plot(r_3, e_r3)\n",
        "plt.grid()"
      ],
      "metadata": {
        "colab": {
          "base_uri": "https://localhost:8080/",
          "height": 243
        },
        "id": "l8e2bTmNohO3",
        "outputId": "f736317d-d149-4ee5-8492-7957004194ac"
      },
      "execution_count": null,
      "outputs": [
        {
          "output_type": "error",
          "ename": "NameError",
          "evalue": "ignored",
          "traceback": [
            "\u001b[0;31m---------------------------------------------------------------------------\u001b[0m",
            "\u001b[0;31mNameError\u001b[0m                                 Traceback (most recent call last)",
            "\u001b[0;32m<ipython-input-127-4eb3e7a048e5>\u001b[0m in \u001b[0;36m<module>\u001b[0;34m()\u001b[0m\n\u001b[1;32m      1\u001b[0m \u001b[0;31m#displacement\u001b[0m\u001b[0;34m\u001b[0m\u001b[0;34m\u001b[0m\u001b[0;34m\u001b[0m\u001b[0m\n\u001b[1;32m      2\u001b[0m \u001b[0;34m\u001b[0m\u001b[0m\n\u001b[0;32m----> 3\u001b[0;31m \u001b[0mplt\u001b[0m\u001b[0;34m.\u001b[0m\u001b[0mplot\u001b[0m\u001b[0;34m(\u001b[0m\u001b[0mr_1\u001b[0m\u001b[0;34m,\u001b[0m \u001b[0me_r1\u001b[0m\u001b[0;34m)\u001b[0m\u001b[0;34m\u001b[0m\u001b[0;34m\u001b[0m\u001b[0m\n\u001b[0m\u001b[1;32m      4\u001b[0m \u001b[0mplt\u001b[0m\u001b[0;34m.\u001b[0m\u001b[0mplot\u001b[0m\u001b[0;34m(\u001b[0m\u001b[0mr_2\u001b[0m\u001b[0;34m,\u001b[0m \u001b[0me_r2\u001b[0m\u001b[0;34m)\u001b[0m\u001b[0;34m\u001b[0m\u001b[0;34m\u001b[0m\u001b[0m\n\u001b[1;32m      5\u001b[0m \u001b[0mplt\u001b[0m\u001b[0;34m.\u001b[0m\u001b[0mplot\u001b[0m\u001b[0;34m(\u001b[0m\u001b[0mr_3\u001b[0m\u001b[0;34m,\u001b[0m \u001b[0me_r3\u001b[0m\u001b[0;34m)\u001b[0m\u001b[0;34m\u001b[0m\u001b[0;34m\u001b[0m\u001b[0m\n",
            "\u001b[0;31mNameError\u001b[0m: name 'e_r1' is not defined"
          ]
        }
      ]
    },
    {
      "cell_type": "code",
      "source": [
        "#radial stress\n",
        "plt.plot(r_1, sigma_r_depl1)\n",
        "plt.plot(r_2, sigma_r_depl2)\n",
        "plt.plot(r_3, sigma_r_depl3)\n",
        "plt.grid()\n"
      ],
      "metadata": {
        "colab": {
          "base_uri": "https://localhost:8080/",
          "height": 267
        },
        "id": "-27HXAsWdPnC",
        "outputId": "ded71daa-4a49-4a32-b6d9-e11ca14a5475"
      },
      "execution_count": null,
      "outputs": [
        {
          "output_type": "display_data",
          "data": {
            "text/plain": [
              "<Figure size 432x288 with 1 Axes>"
            ],
            "image/png": "[encoded data removed]"
          },
          "metadata": {
            "needs_background": "light"
          }
        }
      ]
    },
    {
      "cell_type": "code",
      "source": [
        "df = pd.DataFrame(r_1, sigma_r_depl1)\n",
        "dk = pd.DataFrame(r_2, sigma_r_depl2)\n",
        "di = pd.DataFrame(r_3, sigma_r_depl3)\n",
        "\n",
        "df.to_csv(\"out1.csv\")\n",
        "dk.to_csv(\"out2.csv\")\n",
        "di.to_csv(\"out3.csv\")\n",
        "\n",
        "\n",
        "print(df)\n",
        "print(dk)\n",
        "print(di)"
      ],
      "metadata": {
        "id": "cS0AVS0QuVHp"
      },
      "execution_count": null,
      "outputs": []
    },
    {
      "cell_type": "code",
      "source": [
        "# Hoop stress change after depletion\n",
        "\n",
        "def sigma_h_depl(G_depl, A_depl, K, delta_infinity, G, B_depl, r ):\n",
        "    return G_depl * (3 * A_depl * K - delta_infinity) + 2 * G * B_depl / r**2"
      ],
      "metadata": {
        "id": "QGHRpv_75HfN"
      },
      "execution_count": null,
      "outputs": []
    },
    {
      "cell_type": "code",
      "source": [
        "\n",
        "for i in range(20, 21):\n",
        "  # steel\n",
        "  sigma_h_depl1 =  sigma_h_depl(G_depl_1, A_depl_1, K_1, delta_infinity_1, G_1, B_depl_1, r_1)\n",
        "  # cement\n",
        "  sigma_h_depl2 =  sigma_h_depl(G_depl_2, A_depl_2, K_2, delta_infinity_2, G_2, B_depl_2, r_2)\n",
        "  # formation\n",
        "  sigma_h_depl3 =  sigma_h_depl(G_depl_3, A_depl_3, K_10, delta_infinity_3, G_10, B_depl_3, r_3)"
      ],
      "metadata": {
        "id": "YEuj-zR95HfS"
      },
      "execution_count": null,
      "outputs": []
    },
    {
      "cell_type": "code",
      "source": [
        "#hoop stress\n",
        "plt.plot(r_1, sigma_h_depl1)\n",
        "plt.plot(r_2, sigma_h_depl2)\n",
        "plt.plot(r_3, sigma_h_depl3)\n",
        "plt.grid()"
      ],
      "metadata": {
        "colab": {
          "base_uri": "https://localhost:8080/",
          "height": 265
        },
        "id": "i6Y76TuH5dVF",
        "outputId": "e231f722-34e6-475e-d98d-ed6e349b45ab"
      },
      "execution_count": null,
      "outputs": [
        {
          "output_type": "display_data",
          "data": {
            "text/plain": [
              "<Figure size 432x288 with 1 Axes>"
            ],
            "image/png": "[encoded data removed]"
          },
          "metadata": {
            "needs_background": "light"
          }
        }
      ]
    },
    {
      "cell_type": "code",
      "source": [
        "df = pd.DataFrame(r_1, sigma_h_depl1)\n",
        "dk = pd.DataFrame(r_2, sigma_h_depl2)\n",
        "di = pd.DataFrame(r_3, sigma_h_depl3)\n",
        "\n",
        "df.to_csv(\"out1.csv\")\n",
        "dk.to_csv(\"out2.csv\")\n",
        "di.to_csv(\"out3.csv\")\n",
        "\n",
        "\n",
        "print(df)\n",
        "print(dk)\n",
        "print(di)"
      ],
      "metadata": {
        "id": "uyIUfF0u6Agc"
      },
      "execution_count": null,
      "outputs": []
    },
    {
      "cell_type": "code",
      "source": [
        "#vertical stress change is zero"
      ],
      "metadata": {
        "id": "4cvrZul5519c"
      },
      "execution_count": null,
      "outputs": []
    },
    {
      "cell_type": "code",
      "source": [
        "#the end of depletion stage"
      ],
      "metadata": {
        "id": "tzskbx4ggnOR"
      },
      "execution_count": null,
      "outputs": []
    },
    {
      "cell_type": "code",
      "source": [
        "####################################\n",
        "\n",
        "#Injection\n",
        "\n",
        "####################################"
      ],
      "metadata": {
        "id": "rmVntyByEnrm"
      },
      "execution_count": null,
      "outputs": []
    },
    {
      "cell_type": "code",
      "source": [
        "delta_T = -110\n",
        "#dPf_inj is the defference between reservoir pressure at the end of injection and at the end of production.\n",
        "#dPw_inj - difference between reservoir pressure at the end of production and injection pressure\n",
        "# injection pressure after one month is 9.8 MPa, pore pressure at the end of production is 2 MPa\n",
        "dPf_inj = 9.8 - 2\n",
        "dPw_inj = 9.8 - 2\n",
        "\n",
        "dPf_inj_1 = 9.8 - 2       #    9.8 - 2\n",
        "dPf_inj_2 = 9.78 - 2      #    9.8 - 2  #9.78 - 2\n",
        "dPf_inj_3 = 9.75 - 2      #    9.8 - 2  #9.75 - 2\n",
        "dPf_inj_4 = 9.38 - 2      #    9.8 - 2  #9.38 - 2\n",
        "dPf_inj_5 = 9.26 - 2      #    9.8 - 2  #9.26 - 2\n",
        "dPf_inj_6 = 8.43 - 2      #    9.8 - 2  #8.43 - 2\n",
        "dPf_inj_7 = 5.52 - 2      #    2 - 2  #0  #5.52 - 2\n",
        "dPf_inj_8 = 2.37 - 2      #    2 - 2  #0  #2.37 - 2\n",
        "dPf_inj_9 = 0             #    2 - 2"
      ],
      "metadata": {
        "id": "FTxLY1U43K2V"
      },
      "execution_count": null,
      "outputs": []
    },
    {
      "cell_type": "code",
      "source": [
        "# injection 1 month\n",
        "delta_T_1 = -106.7\n",
        "delta_T_2 = -106.7\n",
        "delta_T_3 = -106.7\n",
        "delta_T_4 = -106.7\n",
        "delta_T_5 = -106.7\n",
        "delta_T_6 = -106.7    \n",
        "delta_T_7 = 0\n",
        "delta_T_8 = 0\n",
        "delta_T_9 = 0\n",
        "\n",
        "\n",
        "\n",
        "\n"
      ],
      "metadata": {
        "id": "V5rByaOdV4dL"
      },
      "execution_count": null,
      "outputs": []
    },
    {
      "cell_type": "code",
      "source": [
        "delta_inj_1 = 3 * K_1 * alpha_1  * delta_T_1\n",
        "delta_inj_2 = 3 * K_2 * alpha_2  * delta_T_2 + biot_2 * dPf_inj_2\n",
        "delta_inj_3 = 3 * K_3 * alpha_3  * delta_T_3 + biot_3 * dPf_inj_3\n",
        "delta_inj_4 = 3 * K_4 * alpha_3  * delta_T_4 + biot_3 * dPf_inj_4\n",
        "delta_inj_5 = 3 * K_5 * alpha_3  * delta_T_5 + biot_3 * dPf_inj_5\n",
        "delta_inj_6 = 3 * K_6 * alpha_3  * delta_T_6 + biot_3 * dPf_inj_6\n",
        "delta_inj_7 = 3 * K_7 * alpha_3  * delta_T_7 + biot_3 * dPf_inj_7\n",
        "delta_inj_8 = 3 * K_8 * alpha_3  * delta_T_8 + biot_3 * dPf_inj_8\n",
        "delta_inj_9 = 0\n",
        "\n",
        "print(delta_inj_1)\n",
        "print(delta_inj_2)\n",
        "print(delta_inj_3)\n",
        "print(delta_inj_4)\n",
        "print(delta_inj_5)\n",
        "print(delta_inj_6)\n",
        "print(delta_inj_7)\n",
        "print(delta_inj_8)\n",
        "print(delta_inj_9)"
      ],
      "metadata": {
        "id": "JJfvo47b2l1d",
        "colab": {
          "base_uri": "https://localhost:8080/"
        },
        "outputId": "7531e15b-9d23-4bce-903e-dd86f4f73dd1"
      },
      "execution_count": null,
      "outputs": [
        {
          "output_type": "stream",
          "name": "stdout",
          "text": [
            "-685.798245\n",
            "-12.982\n",
            "-16.37115384615385\n",
            "-16.667153846153848\n",
            "-16.76315384615385\n",
            "-17.42715384615385\n",
            "2.816\n",
            "0.2960000000000001\n",
            "0\n"
          ]
        }
      ]
    },
    {
      "cell_type": "code",
      "source": [
        "#9 layers\n",
        "#for i in range(20, 21):\n",
        "k9 = np.array([[2 * (K_1 + G_1 / 3), -2 * G_1, 0, 0, 0, 0, 0, 0, 0, 0, 0, 0, 0, 0, 0, 0, 0],                                                                 \n",
        "               [2 * (K_1 + G_1 / 3), -2 * G_1 * (R_1 / R_2)**2, -2 * (K_2 + G_2 / 3), 2 * G_2, 0, 0, 0, 0, 0, 0, 0, 0, 0, 0, 0, 0, 0],                       \n",
        "               [1, R_1**2 / R_2**2, -1, -1, 0, 0, 0, 0, 0, 0, 0, 0, 0, 0, 0, 0, 0],                                                                                                                                        \n",
        "               [0, 0, 2 * (K_2 + G_2 / 3), -2 * G_2 * (R_2 / R_3)**2, -2 * (K_3 + G_3 / 3), 2 * G_3, 0, 0, 0, 0, 0, 0, 0, 0, 0, 0, 0],                      \n",
        "               [0, 0, 1, R_2**2 / R_3**2, -1, -1, 0, 0, 0, 0, 0, 0, 0, 0, 0, 0, 0],                                                                                                                                       \n",
        "               [0, 0, 0, 0, 2 * (K_3 + G_3 / 3), -2 * G_3 * (R_3 / R_4)**2, -2 * (K_4 + G_4 / 3), 2 * G_4, 0, 0, 0, 0, 0, 0, 0, 0, 0],\n",
        "               [0, 0, 0, 0, 1, R_3**2 / R_4**2, -1, -1, 0, 0, 0, 0, 0, 0, 0, 0, 0],\n",
        "               [0, 0, 0, 0, 0, 0, 2 * (K_4 + G_4 / 3), -2 * G_4 * (R_4 / R_5)**2, -2 * (K_5 + G_5 / 3), 2 * G_5, 0, 0, 0, 0, 0, 0, 0],\n",
        "               [0, 0, 0, 0, 0, 0, 1, R_4**2 / R_5**2, -1, -1, 0, 0, 0, 0, 0, 0, 0],\n",
        "               [0, 0, 0, 0, 0, 0, 0, 0, 2 * (K_5 + G_5 / 3), -2 * G_5 * (R_5 / R_6)**2, -2 * (K_6 + G_6 / 3), 2 * G_6, 0, 0, 0, 0, 0],\n",
        "               [0, 0, 0, 0, 0, 0, 0, 0, 1, R_5**2 / R_6**2, -1, -1, 0, 0, 0, 0, 0],\n",
        "               [0, 0, 0, 0, 0, 0, 0, 0, 0, 0, 2 * (K_6 + G_6 / 3), -2 * G_6 * (R_6 / R_7)**2, -2 * (K_7 + G_7 / 3), 2 * G_7, 0, 0, 0],\n",
        "               [0, 0, 0, 0, 0, 0, 0, 0, 0, 0, 1, R_6**2 / R_7**2, -1, -1, 0, 0, 0],\n",
        "               [0, 0, 0, 0, 0, 0, 0, 0, 0, 0, 0, 0, 2 * (K_7 + G_7 / 3), -2 * G_7 * (R_7 / R_8)**2, -2 * (K_8 + G_8 / 3), 2 * G_8, 0],\n",
        "               [0, 0, 0, 0, 0, 0, 0, 0, 0, 0, 0, 0, 1, R_7**2 / R_8**2, -1, -1, 0],\n",
        "               [0, 0, 0, 0, 0, 0, 0, 0, 0, 0, 0, 0, 0, 0, 2 * (K_8 + G_8 / 3), -2 * G_8 * (R_8 / R_9)**2, 2 * G_10],\n",
        "               [0, 0, 0, 0, 0, 0, 0, 0, 0, 0, 0, 0, 0, 0, 1, R_8**2 / R_9**2, -1]])\n",
        "\n",
        "\n",
        "\n",
        "l9 = np.array([[delta_inj_1 - dPw_inj],\n",
        "               [delta_inj_1 - delta_inj_2],\n",
        "               [0],\n",
        "               [delta_inj_2 - delta_inj_3],\n",
        "               [0],\n",
        "               [delta_inj_3 - delta_inj_4],\n",
        "               [0],\n",
        "               [delta_inj_4 - delta_inj_5],\n",
        "               [0],\n",
        "               [delta_inj_5 - delta_inj_6],\n",
        "               [0],\n",
        "               [delta_inj_6 - delta_inj_7],\n",
        "               [0],\n",
        "               [delta_inj_7 - delta_inj_8],\n",
        "               [0],\n",
        "               [delta_inj_8],\n",
        "               [0]])\n",
        "\n",
        "\n",
        "# Calculation the inverse matrix\n",
        "\n",
        "kk9 =np.linalg.inv(k9)\n",
        "\n",
        "ff = kk9.dot(l9)\n",
        "\n",
        "l9\n"
      ],
      "metadata": {
        "id": "ZZlA7BY4sMJH",
        "colab": {
          "base_uri": "https://localhost:8080/"
        },
        "outputId": "7c223e4d-fa99-4fc7-b8cc-e721dd418e49"
      },
      "execution_count": null,
      "outputs": [
        {
          "output_type": "execute_result",
          "data": {
            "text/plain": [
              "array([[-6.93598245e+02],\n",
              "       [-6.72816245e+02],\n",
              "       [ 0.00000000e+00],\n",
              "       [ 3.38915385e+00],\n",
              "       [ 0.00000000e+00],\n",
              "       [ 2.96000000e-01],\n",
              "       [ 0.00000000e+00],\n",
              "       [ 9.60000000e-02],\n",
              "       [ 0.00000000e+00],\n",
              "       [ 6.64000000e-01],\n",
              "       [ 0.00000000e+00],\n",
              "       [-2.02431538e+01],\n",
              "       [ 0.00000000e+00],\n",
              "       [ 2.52000000e+00],\n",
              "       [ 0.00000000e+00],\n",
              "       [ 2.96000000e-01],\n",
              "       [ 0.00000000e+00]])"
            ]
          },
          "metadata": {},
          "execution_count": 155
        }
      ]
    },
    {
      "cell_type": "code",
      "source": [
        "for i in range(20, 21):\n",
        "  A_1_inj = ff[0]\n",
        "  B_1_inj = ff[1] * R_1**2\n",
        "  A_2_inj = ff[2]\n",
        "  B_2_inj = ff[3] * R_2**2 \n",
        "  A_3_inj = ff[4]\n",
        "  B_3_inj = ff[5] * R_3**2\n",
        "  A_4_inj = ff[6]\n",
        "  B_4_inj = ff[7] * R_4**2\n",
        "  A_5_inj = ff[8]\n",
        "  B_5_inj = ff[9] * R_5**2\n",
        "  A_6_inj = ff[10]\n",
        "  B_6_inj = ff[11] * R_6**2\n",
        "  A_7_inj = ff[12]\n",
        "  B_7_inj = ff[13] * R_7**2\n",
        "  A_8_inj = ff[14]\n",
        "  B_8_inj = ff[15] * R_8**2\n",
        "  A_9_inj = 0\n",
        "  B_9_inj = ff[16] * R_9**2\n",
        "\n",
        "  \n",
        "  sheet_obj.cell(row=i, column=12).value = A_1_inj[0]\n",
        "  sheet_obj.cell(row=i, column=13).value = B_1_inj[0]\n",
        "  sheet_obj.cell(row=i, column=23).value = A_2_inj[0]\n",
        "  sheet_obj.cell(row=i, column=24).value = B_2_inj[0]\n",
        "  sheet_obj.cell(row=i, column=33).value = A_3_inj[0]\n",
        "  sheet_obj.cell(row=i, column=34).value = B_3_inj[0]\n",
        "\n",
        "  A_inj_1 = A_1_inj[0]\n",
        "  B_inj_1 = B_1_inj[0]\n",
        "  A_inj_2 = A_2_inj[0]\n",
        "  B_inj_2 = B_2_inj[0]\n",
        "  A_inj_3 = A_3_inj[0]\n",
        "  B_inj_3 = B_3_inj[0]\n",
        "  A_inj_4 = A_4_inj[0]\n",
        "  B_inj_4 = B_4_inj[0]\n",
        "  A_inj_5 = A_5_inj[0]\n",
        "  B_inj_5 = B_5_inj[0]\n",
        "  A_inj_6 = A_6_inj[0]\n",
        "  B_inj_6 = B_6_inj[0]\n",
        "  A_inj_7 = A_7_inj[0]\n",
        "  B_inj_7 = B_7_inj[0]\n",
        "  A_inj_8 = A_8_inj[0]\n",
        "  B_inj_8 = B_8_inj[0]\n",
        "  A_inj_9 = A_9_inj\n",
        "  B_inj_9 = B_9_inj[0]\n",
        "\n",
        "\n",
        "\n",
        "\n",
        "\n",
        "A_inj_1, B_1_inj, A_2_inj, B_2_inj, A_3_inj,  B_3_inj"
      ],
      "metadata": {
        "colab": {
          "base_uri": "https://localhost:8080/"
        },
        "id": "ZRrEjcTWQRyX",
        "outputId": "99153c71-7769-4a68-8507-225f43af3552"
      },
      "execution_count": null,
      "outputs": [
        {
          "output_type": "execute_result",
          "data": {
            "text/plain": [
              "(-0.0015305071981425462,\n",
              " array([3.30562686e-06]),\n",
              " array([-0.00052598]),\n",
              " array([-4.65125196e-06]),\n",
              " array([-0.00063135]),\n",
              " array([-3.42222475e-06]))"
            ]
          },
          "metadata": {},
          "execution_count": 156
        }
      ]
    },
    {
      "cell_type": "code",
      "source": [
        "#displacement\n",
        "\n",
        "def e_inj(r, A_inj, B_inj):\n",
        "    return A_inj * r + B_inj / r\n"
      ],
      "metadata": {
        "id": "PDIsniBQwRLT"
      },
      "execution_count": null,
      "outputs": []
    },
    {
      "cell_type": "code",
      "source": [
        "# displacement\n",
        "\n",
        "for i in range(20, 21):\n",
        "  # cement\n",
        "  e_inj_2 = e_inj(r_2, A_inj_2, B_inj_2)\n",
        "  # steel\n",
        "  e_inj_1 = e_inj(r_1, A_inj_1, B_inj_1)\n",
        "  # formation\n",
        "  e_inj_3 = e_inj(r_3, A_inj_3, B_inj_3)\n",
        "  # formation\n",
        "  e_inj_4 = e_inj(r_4, A_inj_4, B_inj_4)\n",
        "  e_inj_5 = e_inj(r_5, A_inj_5, B_inj_5)\n",
        "  e_inj_6 = e_inj(r_6, A_inj_6, B_inj_6)\n",
        "  e_inj_7 = e_inj(r_7, A_inj_7, B_inj_7)\n",
        "  e_inj_8 = e_inj(r_8, A_inj_8, B_inj_8)\n",
        "  e_inj_9 = e_inj(r_9, A_inj_9, B_inj_9)\n",
        "\n",
        "\n",
        "\n",
        "\n",
        "\n",
        "\n",
        "  #sheet_obj.cell(row=i, column=8).value = u1\n",
        "  #sheet_obj.cell(row=i, column=19).value = u2\n",
        "  #sheet_obj.cell(row=i, column=29).value = u3"
      ],
      "metadata": {
        "id": "bDd4HiBQvtDK"
      },
      "execution_count": null,
      "outputs": []
    },
    {
      "cell_type": "code",
      "source": [
        "plt.plot(r_1, e_inj_1)\n",
        "plt.plot(r_2, e_inj_2)\n",
        "plt.plot(r_3, e_inj_3)\n",
        "plt.plot(r_4, e_inj_4)\n",
        "plt.plot(r_5, e_inj_5)\n",
        "plt.plot(r_6, e_inj_6)\n",
        "plt.plot(r_7, e_inj_7)\n",
        "plt.plot(r_8, e_inj_8)\n",
        "plt.plot(r_9, e_inj_9)\n",
        "plt.grid()"
      ],
      "metadata": {
        "colab": {
          "base_uri": "https://localhost:8080/",
          "height": 265
        },
        "id": "A2-pmuCEyYnZ",
        "outputId": "7158188f-f079-468b-e7c5-af56b091a6e7"
      },
      "execution_count": null,
      "outputs": [
        {
          "output_type": "display_data",
          "data": {
            "text/plain": [
              "<Figure size 432x288 with 1 Axes>"
            ],
            "image/png": "[encoded data removed]"
          },
          "metadata": {
            "needs_background": "light"
          }
        }
      ]
    },
    {
      "cell_type": "code",
      "source": [
        "df = pd.DataFrame(r_1, e_inj_1)\n",
        "dk = pd.DataFrame(r_2, e_inj_2)\n",
        "di = pd.DataFrame(r_3, e_inj_3)\n",
        "dm = pd.DataFrame(r_4, e_inj_4)\n",
        "dp = pd.DataFrame(r_5, e_inj_5)\n",
        "dl = pd.DataFrame(r_6, e_inj_6)\n",
        "ds = pd.DataFrame(r_7, e_inj_7)\n",
        "dv = pd.DataFrame(r_8, e_inj_8)\n",
        "dj = pd.DataFrame(r_9, e_inj_9)\n",
        "\n",
        "df.to_csv(\"out1.csv\")\n",
        "dk.to_csv(\"out2.csv\")\n",
        "di.to_csv(\"out3.csv\")\n",
        "dm.to_csv(\"out4.csv\")\n",
        "dp.to_csv(\"out5.csv\")\n",
        "dl.to_csv(\"out6.csv\")\n",
        "ds.to_csv(\"out7.csv\")\n",
        "dv.to_csv(\"out8.csv\")\n",
        "dj.to_csv(\"out9.csv\")\n",
        "\n",
        "print(df)\n",
        "print(dk)\n",
        "print(di)\n",
        "print(dm)\n",
        "print(dp)\n",
        "print(dl)\n",
        "print(ds)\n",
        "print(dv)\n",
        "print(dj)\n"
      ],
      "metadata": {
        "id": "VYzx59NBE_Ys"
      },
      "execution_count": null,
      "outputs": []
    },
    {
      "cell_type": "code",
      "source": [
        "def sigma_r_inj(K, A_inj, G, B_inj, r, delta_inj):\n",
        "    return 2 * K * A_inj + 2 * G / 3 * (A_inj - 3 * B_inj / r**2) - delta_inj\n",
        "\n",
        "def sigma_h_inj(K, A_inj, G, B_inj, r, delta_inj):\n",
        "    return 2 * K * A_inj + 2 * G / 3 * (A_inj + 3 * B_inj / r**2) - delta_inj"
      ],
      "metadata": {
        "id": "_cROCMWP7nTs"
      },
      "execution_count": null,
      "outputs": []
    },
    {
      "cell_type": "code",
      "source": [
        "sigma_v_inj_4 = - delta_inj_4\n",
        "\n",
        "sigma_v_inj_1 = (K_1 - 2 * G_1 / 3) * 2 * A_inj_1 - delta_inj_1\n",
        "\n",
        "sigma_v_inj_2 = (K_2 - 2 * G_2 / 3) * 2 * A_inj_2 - delta_inj_2\n",
        "\n",
        "sigma_v_inj_3 = (K_3 - 2 * G_3 / 3) * 2 * A_inj_3 - delta_inj_3\n",
        "\n",
        "print(sigma_v_inj_1)\n",
        "print(sigma_v_inj_2)\n",
        "print(sigma_v_inj_3)\n",
        "print(sigma_v_inj_4)"
      ],
      "metadata": {
        "colab": {
          "base_uri": "https://localhost:8080/"
        },
        "id": "fMK5Ot66onwB",
        "outputId": "a6fd2f5f-4520-4ef6-eb17-891d6daec552"
      },
      "execution_count": null,
      "outputs": [
        {
          "output_type": "stream",
          "name": "stdout",
          "text": [
            "355.6068304173554\n",
            "13.68800675570955\n",
            "16.331153846141532\n",
            "16.331153846153846\n"
          ]
        }
      ]
    },
    {
      "cell_type": "code",
      "source": [
        "#radial stress\n",
        "\n",
        "for i in range(20, 21):\n",
        "  # steel\n",
        "  sigma_r_inj1 =  sigma_r_inj(K_1, A_inj_1, G_1, B_inj_1, r_1, delta_inj_1)\n",
        "  # cement\n",
        "  sigma_r_inj2 =  sigma_r_inj(K_2, A_inj_2, G_2, B_inj_2, r_2, delta_inj_2)\n",
        "  # formation\n",
        "  sigma_r_inj3 =  sigma_r_inj(K_3, A_inj_3, G_3, B_inj_3, r_3, delta_inj_3)\n",
        "  # formation\n",
        "  sigma_r_inj4 =  sigma_r_inj(K_4, A_inj_4, G_4, B_inj_4, r_4, delta_inj_4)\n",
        "  sigma_r_inj5 =  sigma_r_inj(K_5, A_inj_5, G_5, B_inj_5, r_5, delta_inj_5)\n",
        "  sigma_r_inj6 =  sigma_r_inj(K_6, A_inj_6, G_6, B_inj_6, r_6, delta_inj_6)\n",
        "  sigma_r_inj7 =  sigma_r_inj(K_7, A_inj_7, G_7, B_inj_7, r_7, delta_inj_7)\n",
        "  sigma_r_inj8 =  sigma_r_inj(K_8, A_inj_8, G_8, B_inj_8, r_8, delta_inj_8)\n",
        "  sigma_r_inj9 =  sigma_r_inj(K_9, A_inj_9, G_9, B_inj_9, r_9, delta_inj_9)\n",
        "\n",
        "\n",
        "\n"
      ],
      "metadata": {
        "id": "1MFkuSPq65BC"
      },
      "execution_count": null,
      "outputs": []
    },
    {
      "cell_type": "code",
      "source": [
        "#radial stress\n",
        "plt.plot(r_1, sigma_r_inj1)\n",
        "plt.plot(r_2, sigma_r_inj2)\n",
        "plt.plot(r_3, sigma_r_inj3)\n",
        "plt.plot(r_4, sigma_r_inj4)\n",
        "plt.plot(r_5, sigma_r_inj5)\n",
        "plt.plot(r_6, sigma_r_inj6)\n",
        "plt.plot(r_7, sigma_r_inj7)\n",
        "plt.plot(r_8, sigma_r_inj8)\n",
        "plt.plot(r_9, sigma_r_inj9)\n",
        "plt.grid()\n"
      ],
      "metadata": {
        "colab": {
          "base_uri": "https://localhost:8080/",
          "height": 265
        },
        "id": "-FHBs7xXKoBP",
        "outputId": "e1d45d2f-8ecb-4bcb-cc1c-49b2dfe1055d"
      },
      "execution_count": null,
      "outputs": [
        {
          "output_type": "display_data",
          "data": {
            "text/plain": [
              "<Figure size 432x288 with 1 Axes>"
            ],
            "image/png": "[encoded data removed]"
          },
          "metadata": {
            "needs_background": "light"
          }
        }
      ]
    },
    {
      "cell_type": "code",
      "source": [
        "df = pd.DataFrame(r_1, sigma_r_inj1)\n",
        "dk = pd.DataFrame(r_2, sigma_r_inj2)\n",
        "di = pd.DataFrame(r_3, sigma_r_inj3)\n",
        "dm = pd.DataFrame(r_4, sigma_r_inj4)\n",
        "da = pd.DataFrame(r_5, sigma_r_inj5)\n",
        "dz = pd.DataFrame(r_6, sigma_r_inj6)\n",
        "dr = pd.DataFrame(r_7, sigma_r_inj7)\n",
        "du = pd.DataFrame(r_8, sigma_r_inj8)\n",
        "dt = pd.DataFrame(r_9, sigma_r_inj9)\n",
        "\n",
        "\n",
        "df.to_csv(\"out1.csv\")\n",
        "dk.to_csv(\"out2.csv\")\n",
        "di.to_csv(\"out3.csv\")\n",
        "dm.to_csv(\"out4.csv\")\n",
        "da.to_csv(\"out5.csv\")\n",
        "dz.to_csv(\"out6.csv\")\n",
        "dr.to_csv(\"out7.csv\")\n",
        "du.to_csv(\"out8.csv\")\n",
        "dt.to_csv(\"out9.csv\")\n",
        "\n",
        "\n",
        "print(df)\n",
        "print(dk)\n",
        "print(di)\n",
        "print(dm)\n",
        "print(da)\n",
        "print(dz)\n",
        "print(dr)\n",
        "print(du)\n",
        "print(dt)"
      ],
      "metadata": {
        "id": "GB6XxCqlKGTw"
      },
      "execution_count": null,
      "outputs": []
    },
    {
      "cell_type": "code",
      "source": [
        "# hoop stress\n",
        "\n",
        "for i in range(20, 21):\n",
        "  # steel\n",
        "  sigma_h_inj1 =  sigma_h_inj(K_1, A_inj_1, G_1, B_inj_1, r_1, delta_inj_1)\n",
        "  # cement\n",
        "  sigma_h_inj2 =  sigma_h_inj(K_2, A_inj_2, G_2, B_inj_2, r_2, delta_inj_2)\n",
        "  # formation\n",
        "  sigma_h_inj3 =  sigma_h_inj(K_10, A_inj_3, G_10, B_inj_3, r_3, delta_inj_3)"
      ],
      "metadata": {
        "id": "MeHNg2YN6UmM"
      },
      "execution_count": null,
      "outputs": []
    },
    {
      "cell_type": "code",
      "source": [
        "#hoop stress\n",
        "plt.plot(r_1, sigma_h_inj1)\n",
        "plt.plot(r_2, sigma_h_inj2)\n",
        "plt.plot(r_3, sigma_h_inj3)\n",
        "plt.grid()\n"
      ],
      "metadata": {
        "colab": {
          "base_uri": "https://localhost:8080/",
          "height": 265
        },
        "id": "_EpEMrJg6sQU",
        "outputId": "986affea-37f7-4299-e479-6ab8095329c8"
      },
      "execution_count": null,
      "outputs": [
        {
          "output_type": "display_data",
          "data": {
            "text/plain": [
              "<Figure size 432x288 with 1 Axes>"
            ],
            "image/png": "[encoded data removed]"
          },
          "metadata": {
            "needs_background": "light"
          }
        }
      ]
    },
    {
      "cell_type": "code",
      "source": [
        "#vertical stress\n",
        "\n",
        "plt.hlines((sigma_v_inj_1, sigma_v_inj_1), R_1, R_2)\n",
        "plt.hlines((sigma_v_inj_2, sigma_v_inj_2), R_2, R_3)\n",
        "plt.hlines((sigma_v_inj_3, sigma_v_inj_3), R_3, 3 * R_3)\n",
        "plt.grid()"
      ],
      "metadata": {
        "id": "a4--4Zb97dc2",
        "colab": {
          "base_uri": "https://localhost:8080/",
          "height": 265
        },
        "outputId": "2a6d1b2e-5ea0-41a2-9733-93cd5eb8105b"
      },
      "execution_count": null,
      "outputs": [
        {
          "output_type": "display_data",
          "data": {
            "text/plain": [
              "<Figure size 432x288 with 1 Axes>"
            ],
            "image/png": "[encoded data removed]"
          },
          "metadata": {
            "needs_background": "light"
          }
        }
      ]
    },
    {
      "cell_type": "markdown",
      "source": [
        ""
      ],
      "metadata": {
        "id": "0lsGV9zezqE8"
      }
    },
    {
      "cell_type": "code",
      "execution_count": null,
      "metadata": {
        "id": "5ERzd6RaCUi0"
      },
      "outputs": [],
      "source": [
        "# multi-layered well structure"
      ]
    },
    {
      "cell_type": "code",
      "source": [
        "#all_cases\n",
        "\n",
        "n0 = np.array([[2 * (K_1 + G_1 / 3), -2 * G_1, 0, 0, 0, 0, 0, 0, 0, 0, 0, 0, 0, 0, 0, 0, 0, 0, 0, 0],                                                                 \n",
        "               [2 * (K_1 + G_1 / 3), -2 * G_1 * (R_1 / R_2)**2, -2 * (K_2 + G_2 / 3), 2 * G_2, 0, 0, 0, 0, 0, 0, 0, 0, 0, 0, 0, 0, 0, 0, 0, 0],                       \n",
        "               [1, R_1**2 / R_2**2, -1, -1, 0, 0, 0, 0, 0, 0, 0, 0, 0, 0, 0, 0, 0, 0, 0, 0],                                                                                                                                        \n",
        "               [0, 0, 2 * (K_2 + G_2 / 3), -2 * G_2 * (R_2 / R_3)**2, -2 * (K_3 + G_3 / 3), 2 * G_3, 0, 0, 0, 0, 0, 0, 0, 0, 0, 0, 0, 0, 0, 0],                      \n",
        "               [0, 0, 1, R_2**2 / R_3**2, -1, -1, 0, 0, 0, 0, 0, 0, 0, 0, 0, 0, 0, 0, 0, 0],                                                                                                                                       \n",
        "               [0, 0, 0, 0, 2 * (K_3 + G_3 / 3), -2 * G_3 * (R_3 / R_4)**2, -2 * (K_4 + G_4 / 3), 2 * G_4, 0, 0, 0, 0, 0, 0, 0, 0, 0, 0, 0, 0],\n",
        "               [0, 0, 0, 0, 1, R_3**2 / R_4**2, -1, -1, 0, 0, 0, 0, 0, 0, 0, 0, 0, 0, 0, 0],\n",
        "               [0, 0, 0, 0, 0, 0, 2 * (K_4 + G_4 / 3), -2 * G_4 * (R_4 / R_5)**2, -2 * (K_5 + G_5 / 3), 2 * G_5, 0, 0, 0, 0, 0, 0, 0, 0, 0, 0],\n",
        "               [0, 0, 0, 0, 0, 0, 1, R_4**2 / R_5**2, -1, -1, 0, 0, 0, 0, 0, 0, 0, 0, 0, 0],\n",
        "               [0, 0, 0, 0, 0, 0, 0, 0, 2 * (K_5 + G_5 / 3), -2 * G_5 * (R_5 / R_6)**2, -2 * (K_6 + G_6 / 3), 2 * G_6, 0, 0, 0, 0, 0, 0, 0, 0],\n",
        "               [0, 0, 0, 0, 0, 0, 0, 0, 1, R_5**2 / R_6**2, -1, -1, 0, 0, 0, 0, 0, 0, 0, 0],\n",
        "               [0, 0, 0, 0, 0, 0, 0, 0, 0, 0, 2 * (K_6 + G_6 / 3), -2 * G_6 * (R_6 / R_7)**2, -2 * (K_7 + G_7 / 3), 2 * G_7, 0, 0, 0, 0, 0, 0],\n",
        "               [0, 0, 0, 0, 0, 0, 0, 0, 0, 0, 1, R_6**2 / R_7**2, -1, -1, 0, 0, 0, 0, 0, 0],\n",
        "               [0, 0, 0, 0, 0, 0, 0, 0, 0, 0, 0, 0, 2 * (K_7 + G_7 / 3), -2 * G_7 * (R_7 / R_8)**2, -2 * (K_8 + G_8 / 3), 2 * G_8, 0, 0, 0, 0],\n",
        "               [0, 0, 0, 0, 0, 0, 0, 0, 0, 0, 0, 0, 1, R_7**2 / R_8**2, -1, -1, 0, 0, 0, 0],\n",
        "               [0, 0, 0, 0, 0, 0, 0, 0, 0, 0, 0, 0, 0, 0, 2 * (K_8 + G_8 / 3), -2 * G_8 * (R_8 / R_9)**2, -2 * (K_9 + G_9 / 3), 2 * G_9, 0, 0],\n",
        "               [0, 0, 0, 0, 0, 0, 0, 0, 0, 0, 0, 0, 0, 0, 1, R_8**2 / R_9**2, -1, -1, 0, 0],\n",
        "               [0, 0, 0, 0, 0, 0, 0, 0, 0, 0, 0, 0, 0, 0, 0, 0, 2 * (K_9 + G_9 / 3), -2 * G_9 * (R_9 / R_10)**2, -2 * (K_10 + G_10 / 3), 2 * G_10, 0],\n",
        "               [0, 0, 0, 0, 0, 0, 0, 0, 0, 0, 0, 0, 0, 0, 0, 0, 1, R_9**2 / R_10**2, -1, -1]], dtype=object)\n",
        "\n",
        "\n",
        "\n",
        "l0 = np.array([[3 * K_1 * alpha_1 * dT - dPf],\n",
        "               [3 * K_1 * alpha_1 * dT - 3 * K_2 * alpha_2 * dT],\n",
        "               [0],\n",
        "               [3 * K_2 * alpha_2 * dT - 3 * K_3 * alpha_3 * dT],\n",
        "               [0],\n",
        "               [3 * K_3 * alpha_3 * dT - 3 * K_4 * alpha_4 * dT],\n",
        "               [0],\n",
        "               [3 * K_4 * alpha_4 * dT - 3 * K_5 * alpha_5 * dT],\n",
        "               [0],\n",
        "               [3 * K_5 * alpha_5 * dT - 3 * K_6 * alpha_6 * dT],\n",
        "               [0],\n",
        "               [3 * K_6 * alpha_6 * dT - 3 * K_7 * alpha_7 * dT],\n",
        "               [0],\n",
        "               [3 * K_7 * alpha_7 * dT - 3 * K_8 * alpha_8 * dT],\n",
        "               [0],\n",
        "               [3 * K_8 * alpha_8 * dT - 3 * K_9 * alpha_9 * dT],\n",
        "               [0],\n",
        "               [3 * K_9 * alpha_8 * dT - 3 * K_10 * alpha_10 * dT],\n",
        "               [0]])\n",
        "n0, l0"
      ],
      "metadata": {
        "id": "hNFp4AycpE_9"
      },
      "execution_count": null,
      "outputs": []
    },
    {
      "cell_type": "code",
      "source": [
        "#3555-3888 m\n",
        "\n",
        "n5 = np.array([[2 * (K_1 + G_1 / 3), -2 * G_1, 0, 0, 0],                                                                 \n",
        "               [2 * (K_1 + G_1 / 3), -2 * G_1 * (R_1 / R_2)**2, -2 * (K_2 + G_2 / 3), 2 * G_2, 0],                       \n",
        "               [1, R_1**2 / R_2**2, -1, -1, 0],                                                                                                                                        \n",
        "               [0, 0, 2 * (K_2 + G_2 / 3), -2 * G_2 * (R_2 / R_3)**2,  2 * G_10],                      \n",
        "               [0, 0, 1, R_2**2 / R_3**2, -1]])                                                                                                                                     \n",
        "             \n",
        "\n",
        "\n",
        "\n",
        "l5 = np.array([[3 * K_1 * alpha_1 * dT - dPf],\n",
        "               [3 * K_1 * alpha_1 * dT - 3 * K_2 * alpha_2 * dT],\n",
        "               [0],\n",
        "               [3 * K_10 * alpha_2 * dT - 3 * K_10 * alpha_10 * dT],\n",
        "               [0]])\n",
        "n5, l5"
      ],
      "metadata": {
        "colab": {
          "base_uri": "https://localhost:8080/"
        },
        "id": "wpqaFPZ8HwBT",
        "outputId": "02dbab9c-32f1-44bb-b646-af9a01bbe4c2"
      },
      "execution_count": null,
      "outputs": [
        {
          "output_type": "execute_result",
          "data": {
            "text/plain": [
              "(array([[ 3.98076923e+05, -1.59230769e+05,  0.00000000e+00,\n",
              "          0.00000000e+00,  0.00000000e+00],\n",
              "        [ 3.98076923e+05, -9.02394803e+04, -1.70555556e+04,\n",
              "          1.02333333e+04,  0.00000000e+00],\n",
              "        [ 1.00000000e+00,  5.66721374e-01, -1.00000000e+00,\n",
              "         -1.00000000e+00,  0.00000000e+00],\n",
              "        [ 0.00000000e+00,  0.00000000e+00,  1.70555556e+04,\n",
              "         -8.27040438e+03,  6.66666667e+03],\n",
              "        [ 0.00000000e+00,  0.00000000e+00,  1.00000000e+00,\n",
              "          8.08182838e-01, -1.00000000e+00]]), array([[-6.417     ],\n",
              "        [-6.2328    ],\n",
              "        [ 0.        ],\n",
              "        [ 0.01333333],\n",
              "        [ 0.        ]]))"
            ]
          },
          "metadata": {},
          "execution_count": 36
        }
      ]
    },
    {
      "cell_type": "code",
      "source": [
        "# 506-2329\n",
        "\n",
        "n3 = np.array([[2 * (K_1 + G_1 / 3), -2 * G_1, 0, 0, 0, 0, 0, 0, 0, 0, 0, 0, 0],                                                                 \n",
        "               [2 * (K_1 + G_1 / 3), -2 * G_1 * (R_1 / R_2)**2, -2 * (K_2 + G_2 / 3), 2 * G_2, 0, 0, 0, 0, 0, 0, 0, 0, 0, ],                       \n",
        "               [1, R_1**2 / R_2**2, -1, -1, 0, 0, 0, 0, 0, 0, 0, 0, 0],                                                                                                                                        \n",
        "               [0, 0, 2 * (K_2 + G_2 / 3), -2 * G_2 * (R_2 / R_3)**2, -2 * (K_3 + G_3 / 3), 2 * G_3, 0, 0, 0, 0, 0, 0, 0],                      \n",
        "               [0, 0, 1, R_2**2 / R_3**2, -1, -1, 0, 0, 0, 0, 0, 0, 0],                                                                                                                                       \n",
        "               [0, 0, 0, 0, 2 * (K_3 + G_3 / 3), -2 * G_3 * (R_3 / R_4)**2, -2 * (K_4 + G_4 / 3), 2 * G_4, 0, 0, 0, 0, 0],\n",
        "               [0, 0, 0, 0, 1, R_3**2 / R_4**2, -1, -1, 0, 0, 0, 0, 0],\n",
        "               [0, 0, 0, 0, 0, 0, 2 * (K_4 + G_4 / 3), -2 * G_4 * (R_4 / R_5)**2, -2 * (K_5 + G_5 / 3), 2 * G_5, 0, 0, 0],\n",
        "               [0, 0, 0, 0, 0, 0, 1, R_4**2 / R_5**2, -1, -1, 0, 0, 0],\n",
        "               [0, 0, 0, 0, 0, 0, 0, 0, 2 * (K_5 + G_5 / 3), -2 * G_5 * (R_5 / R_6)**2, -2 * (K_6 + G_6 / 3), 2 * G_6, 0],\n",
        "               [0, 0, 0, 0, 0, 0, 0, 0, 1, R_5**2 / R_6**2, -1, -1, 0],\n",
        "               [0, 0, 0, 0, 0, 0, 0, 0, 0, 0, 2 * (K_6 + G_6 / 3), -2 * G_6 * (R_6 / R_7)**2, 2 * G_10],\n",
        "               [0, 0, 0, 0, 0, 0, 0, 0, 0, 0, 1, R_6**2 / R_7**2, -1]])\n",
        "\n",
        "l3 = np.array([[3 * K_1 * alpha_1 * dT - dPf],\n",
        "               [3 * K_1 * alpha_1 * dT - 3 * K_2 * alpha_2 * dT],\n",
        "               [0],\n",
        "               [3 * K_2 * alpha_2 * dT - 3 * K_3 * alpha_3 * dT],\n",
        "               [0],\n",
        "               [3 * K_3 * alpha_3 * dT - 3 * K_4 * alpha_4 * dT],\n",
        "               [0],\n",
        "               [3 * K_4 * alpha_4 * dT - 3 * K_5 * alpha_5 * dT],\n",
        "               [0],\n",
        "               [3 * K_5 * alpha_5 * dT - 3 * K_6 * alpha_6 * dT],\n",
        "               [0],\n",
        "               [3 * K_6 * alpha_6 * dT - 3 * K_10 * alpha_10 * dT],\n",
        "               [0]])\n",
        "\n",
        "n3, l3\n"
      ],
      "metadata": {
        "id": "kUnyZ0F2x57a"
      },
      "execution_count": null,
      "outputs": []
    },
    {
      "cell_type": "code",
      "source": [
        "A3_1 = np.dot(n3[0], l3) \n",
        "B3_1 = np.dot(n3[1], l3) * R_1**2\n",
        "A3_2 = np.dot(n3[2], l3)\n",
        "B3_2 = np.dot(n3[3], l3) * R_2**2\n",
        "A3_3 = np.dot(n3[4], l3) \n",
        "B3_3 = np.dot(n3[5], l3) * R_3**2\n",
        "A3_4 = np.dot(n3[6], l3) \n",
        "B3_4 = np.dot(n3[7], l3) * R_4**2\n",
        "A3_5 = np.dot(n3[8], l3)\n",
        "B3_5 = np.dot(n3[9], l3) * R_5**2\n",
        "A3_6 = np.dot(n3[10], l3)\n",
        "B3_6 = np.dot(n3[11], l3) * R_6**2\n",
        "A3_7 = 0\n",
        "B3_7 = np.dot(n3[12], l3) * R_7**2\n",
        "\n",
        "\n",
        "\n",
        "\n",
        "A3_1, B3_1, A3_2, B3_2, A3_3, B3_3, A3_4, B3_4, A3_5, B3_5, A3_6, B3_6, B3_7, A3_7"
      ],
      "metadata": {
        "colab": {
          "base_uri": "https://localhost:8080/"
        },
        "id": "0TW2pYUJTlUY",
        "outputId": "40fdadf4-d918-49be-c9a4-67fa2529e414"
      },
      "execution_count": null,
      "outputs": [
        {
          "output_type": "execute_result",
          "data": {
            "text/plain": [
              "(array([-1562006.07692308]),\n",
              " array([-8655.83642362]),\n",
              " array([-16.18206098]),\n",
              " array([-8310.30486849]),\n",
              " array([11.302367]),\n",
              " array([7000.40565335]),\n",
              " array([-10.39066183]),\n",
              " array([-15363.64936613]),\n",
              " array([10.04824482]),\n",
              " array([20968.66937772]),\n",
              " array([-5.32502464]),\n",
              " array([2.79976234]),\n",
              " array([-0.00053585]),\n",
              " 0)"
            ]
          },
          "metadata": {},
          "execution_count": 63
        }
      ]
    },
    {
      "cell_type": "code",
      "source": [
        "#102-512 m\n",
        "\n",
        "n2 = np.array([[2 * (K_1 + G_1 / 3), -2 * G_1, 0, 0, 0, 0, 0, 0, 0, 0, 0, 0, 0, 0, 0, 0, 0],                                                                 \n",
        "               [2 * (K_1 + G_1 / 3), -2 * G_1 * (R_1 / R_2)**2, -2 * (K_2 + G_2 / 3), 2 * G_2, 0, 0, 0, 0, 0, 0, 0, 0, 0, 0, 0, 0, 0],                       \n",
        "               [1, R_1**2 / R_2**2, -1, -1, 0, 0, 0, 0, 0, 0, 0, 0, 0, 0, 0, 0, 0],                                                                                                                                        \n",
        "               [0, 0, 2 * (K_2 + G_2 / 3), -2 * G_2 * (R_2 / R_3)**2, -2 * (K_3 + G_3 / 3), 2 * G_3, 0, 0, 0, 0, 0, 0, 0, 0, 0, 0, 0],                      \n",
        "               [0, 0, 1, R_2**2 / R_3**2, -1, -1, 0, 0, 0, 0, 0, 0, 0, 0, 0, 0, 0],                                                                                                                                       \n",
        "               [0, 0, 0, 0, 2 * (K_3 * G_3 / 3), -2 * G_3 * (R_3 / R_4)**2, -2 * (K_4 + G_4 / 3), 2 * G_4, 0, 0, 0, 0, 0, 0, 0, 0, 0],\n",
        "               [0, 0, 0, 0, 1, R_3**2 / R_4**2, -1, -1, 0, 0, 0, 0, 0, 0, 0, 0, 0],\n",
        "               [0, 0, 0, 0, 0, 0, 2 * (K_4 * G_4 / 3), -2 * G_4 * (R_4 / R_5)**2, -2 * (K_5 + G_5 / 3), 2 * G_5, 0, 0, 0, 0, 0, 0, 0],\n",
        "               [0, 0, 0, 0, 0, 0, 1, R_4**2 / R_5**2, -1, -1, 0, 0, 0, 0, 0, 0, 0],\n",
        "               [0, 0, 0, 0, 0, 0, 0, 0, 2 * (K_5 * G_5 / 3), -2 * G_5 * (R_5 / R_6)**2, -2 * (K_6 + G_6 / 3), 2 * G_6, 0, 0, 0, 0, 0],\n",
        "               [0, 0, 0, 0, 0, 0, 0, 0, 1, R_5**2 / R_6**2, -1, -1, 0, 0, 0, 0, 0],\n",
        "               [0, 0, 0, 0, 0, 0, 0, 0, 0, 0, 2 * (K_6 * G_6 / 3), -2 * G_6 * (R_6 / R_7)**2, -2 * (K_7 + G_7 / 3), 2 * G_7, 0, 0, 0],\n",
        "               [0, 0, 0, 0, 0, 0, 0, 0, 0, 0, 1, R_6**2 / R_7**2, -1, -1, 0, 0, 0],\n",
        "               [0, 0, 0, 0, 0, 0, 0, 0, 0, 0, 0, 0, 2 * (K_7 * G_7 / 3), -2 * G_7 * (R_7 / R_8)**2, -2 * (K_8 + G_8 / 3), 2 * G_8, 0],\n",
        "               [0, 0, 0, 0, 0, 0, 0, 0, 0, 0, 0, 0, 1, R_7**2 / R_8**2, -1, -1, 0],\n",
        "               [0, 0, 0, 0, 0, 0, 0, 0, 0, 0, 0, 0, 0, 0, 2 * (K_8 * G_8 / 3), -2 * G_8 * (R_8 / R_9)**2, 2 * G_10],\n",
        "               [0, 0, 0, 0, 0, 0, 0, 0, 0, 0, 0, 0, 0, 0, 1, R_8**2 / R_9**2, -1]])\n",
        "\n",
        "\n",
        "\n",
        "l2 = np.array([[3 * K_1 * alpha_1 * dT - dPf],\n",
        "               [3 * K_1 * alpha_1 * dT - 3 * K_2 * alpha_2 * dT],\n",
        "               [0],\n",
        "               [3 * K_2 * alpha_2 * dT - 3 * K_3 * alpha_3 * dT],\n",
        "               [0],\n",
        "               [3 * K_3 * alpha_3 * dT - 3 * K_4 * alpha_4 * dT],\n",
        "               [0],\n",
        "               [3 * K_4 * alpha_4 * dT - 3 * K_5 * alpha_5 * dT],\n",
        "               [0],\n",
        "               [3 * K_5 * alpha_5 * dT - 3 * K_6 * alpha_6 * dT],\n",
        "               [0],\n",
        "               [3 * K_6 * alpha_6 * dT - 3 * K_7 * alpha_7 * dT],\n",
        "               [0],\n",
        "               [3 * K_7 * alpha_7 * dT - 3 * K_8 * alpha_8 * dT],\n",
        "               [0],\n",
        "               [3 * K_8 * alpha_8 * dT - 3 * K_10 * alpha_10 * dT],\n",
        "               [0]])\n",
        "\n",
        "n2, l2"
      ],
      "metadata": {
        "id": "rKxdtUds4ZUT"
      },
      "execution_count": null,
      "outputs": []
    },
    {
      "cell_type": "code",
      "source": [
        "A2_1 = np.dot(n2[0], l2) \n",
        "B2_1 = np.dot(n2[1], l2) * R_1**2\n",
        "A2_2 = np.dot(n2[2], l2)\n",
        "B2_2 = np.dot(n2[3], l2) * R_2**2\n",
        "A2_3 = np.dot(n2[4], l2) \n",
        "B2_3 = np.dot(n2[5], l2) * R_3**2\n",
        "A2_4 = np.dot(n2[6], l2) \n",
        "B2_4 = np.dot(n2[7], l2) * R_4**2\n",
        "A2_5 = np.dot(n2[8], l2)\n",
        "B2_5 = np.dot(n2[9], l2) * R_5**2\n",
        "A2_6 = np.dot(n2[10], l2)\n",
        "B2_6 = np.dot(n2[11], l2) * R_6**2\n",
        "A2_7 = np.dot(n2[12], l2)\n",
        "B2_7 = np.dot(n2[13], l2) * R_7**2\n",
        "A2_8 = np.dot(n2[14], l2)\n",
        "B2_8 = np.dot(n2[15], l2) * R_8**2\n",
        "A2_9 = 0\n",
        "B2_9 = np.dot(n2[16], l2) * R_9**2\n",
        "\n",
        "\n",
        "\n",
        "\n",
        "A2_1, B2_1, A2_2, B2_2, A2_3, B2_3, A2_4, B2_4, A2_5, B2_5, A2_6, B2_6, B2_7, B2_7, A2_8, B2_8, B2_9, A2_9"
      ],
      "metadata": {
        "colab": {
          "base_uri": "https://localhost:8080/"
        },
        "id": "jrW4eunz0SK_",
        "outputId": "6e4cd517-46d2-42f1-9bfd-bd76b147f727"
      },
      "execution_count": null,
      "outputs": [
        {
          "output_type": "execute_result",
          "data": {
            "text/plain": [
              "(array([-1562006.07692308]),\n",
              " array([-8655.83642362]),\n",
              " array([-16.18206098]),\n",
              " array([-8310.30486849]),\n",
              " array([11.302367]),\n",
              " array([7000.40565335]),\n",
              " array([-10.39066183]),\n",
              " array([-15363.64936613]),\n",
              " array([10.04824482]),\n",
              " array([22386.27096789]),\n",
              " array([-11.6086913]),\n",
              " array([-29776.68341599]),\n",
              " array([39620.97991913]),\n",
              " array([39620.97991913]),\n",
              " array([-4.89763344]),\n",
              " array([5.79928604]),\n",
              " array([-0.00119623]),\n",
              " 0)"
            ]
          },
          "metadata": {},
          "execution_count": 66
        }
      ]
    },
    {
      "cell_type": "code",
      "source": [
        "#0-102 m\n",
        "\n",
        "n1 = np.array([[2 * (K_1 + G_1 / 3), -2 * G_1, 0, 0, 0, 0, 0, 0, 0, 0, 0, 0, 0, 0, 0, 0, 0, 0, 0],                                                                 \n",
        "               [2 * (K_1 + G_1 / 3), -2 * G_1 * (R_1 / R_2)**2, -2 * (K_2 + G_2 / 3), 2 * G_2, 0, 0, 0, 0, 0, 0, 0, 0, 0, 0, 0, 0, 0, 0, 0],                       \n",
        "               [1, R_1**2 / R_2**2, -1, -1, 0, 0, 0, 0, 0, 0, 0, 0, 0, 0, 0, 0, 0, 0, 0],                                                                                                                                        \n",
        "               [0, 0, 2 * (K_2 + G_2 / 3), -2 * G_2 * (R_2 / R_3)**2, -2 * (K_3 + G_3 / 3), 2 * G_3, 0, 0, 0, 0, 0, 0, 0, 0, 0, 0, 0, 0, 0],                      \n",
        "               [0, 0, 1, R_2**2 / R_3**2, -1, -1, 0, 0, 0, 0, 0, 0, 0, 0, 0, 0, 0, 0, 0],                                                                                                                                       \n",
        "               [0, 0, 0, 0, 2 * (K_3 + G_3 / 3), -2 * G_3 * (R_3 / R_4)**2, -2 * (K_4 + G_4 / 3), 2 * G_4, 0, 0, 0, 0, 0, 0, 0, 0, 0, 0, 0],\n",
        "               [0, 0, 0, 0, 1, R_3**2 / R_4**2, -1, -1, 0, 0, 0, 0, 0, 0, 0, 0, 0, 0, 0],\n",
        "               [0, 0, 0, 0, 0, 0, 2 * (K_4 + G_4 / 3), -2 * G_4 * (R_4 / R_5)**2, -2 * (K_5 + G_5 / 3), 2 * G_5, 0, 0, 0, 0, 0, 0, 0, 0, 0],\n",
        "               [0, 0, 0, 0, 0, 0, 1, R_4**2 / R_5**2, -1, -1, 0, 0, 0, 0, 0, 0, 0, 0, 0],\n",
        "               [0, 0, 0, 0, 0, 0, 0, 0, 2 * (K_5 + G_5 / 3), -2 * G_5 * (R_5 / R_6)**2, -2 * (K_6 + G_6 / 3), 2 * G_6, 0, 0, 0, 0, 0, 0, 0],\n",
        "               [0, 0, 0, 0, 0, 0, 0, 0, 1, R_5**2 / R_6**2, -1, -1, 0, 0, 0, 0, 0, 0, 0],\n",
        "               [0, 0, 0, 0, 0, 0, 0, 0, 0, 0, 2 * (K_6 + G_6 / 3), -2 * G_6 * (R_6 / R_7)**2, -2 * (K_7 + G_7 / 3), 2 * G_7, 0, 0, 0, 0, 0],\n",
        "               [0, 0, 0, 0, 0, 0, 0, 0, 0, 0, 1, R_6**2 / R_7**2, -1, -1, 0, 0, 0, 0, 0],\n",
        "               [0, 0, 0, 0, 0, 0, 0, 0, 0, 0, 0, 0, 2 * (K_7 + G_7 / 3), -2 * G_7 * (R_7 / R_8)**2, -2 * (K_8 + G_8 / 3), 2 * G_8, 0, 0, 0],\n",
        "               [0, 0, 0, 0, 0, 0, 0, 0, 0, 0, 0, 0, 1, R_7**2 / R_8**2, -1, -1, 0, 0, 0],\n",
        "               [0, 0, 0, 0, 0, 0, 0, 0, 0, 0, 0, 0, 0, 0, 2 * (K_8 + G_8 / 3), -2 * G_8 * (R_8 / R_9)**2, -2 * (K_9 + G_9 / 3), 2 * G_9, 0],\n",
        "               [0, 0, 0, 0, 0, 0, 0, 0, 0, 0, 0, 0, 0, 0, 1, R_8**2 / R_9**2, -1, -1, 0],\n",
        "               [0, 0, 0, 0, 0, 0, 0, 0, 0, 0, 0, 0, 0, 0, 0, 0, 2 * (K_9 + G_9 / 3), -2 * G_9 * (R_9 / R_10)**2, -2 * (K_10 + G_10 / 3)],\n",
        "               [0, 0, 0, 0, 0, 0, 0, 0, 0, 0, 0, 0, 0, 0, 0, 0, 1, R_9**2 / R_10**2, -1]], dtype=object)\n",
        "\n",
        "\n",
        "\n",
        "l1 = np.array([[3 * K_1 * alpha_1 * dT - dPf],\n",
        "               [3 * K_1 * alpha_1 * dT - 3 * K_2 * alpha_2 * dT],\n",
        "               [0],\n",
        "               [3 * K_2 * alpha_2 * dT - 3 * K_3 * alpha_3 * dT],\n",
        "               [0],\n",
        "               [3 * K_3 * alpha_3 * dT - 3 * K_4 * alpha_4 * dT],\n",
        "               [0],\n",
        "               [3 * K_4 * alpha_4 * dT - 3 * K_5 * alpha_5 * dT],\n",
        "               [0],\n",
        "               [3 * K_5 * alpha_5 * dT - 3 * K_6 * alpha_6 * dT],\n",
        "               [0],\n",
        "               [3 * K_6 * alpha_6 * dT - 3 * K_7 * alpha_7 * dT],\n",
        "               [0],\n",
        "               [3 * K_7 * alpha_7 * dT - 3 * K_8 * alpha_8 * dT],\n",
        "               [0],\n",
        "               [3 * K_8 * alpha_8 * dT - 3 * K_9 * alpha_9 * dT],\n",
        "               [0],\n",
        "               [3 * K_9 * alpha_9 * dT - 3 * K_10 * alpha_10 * dT],\n",
        "               [0]])\n",
        "n1, l1"
      ],
      "metadata": {
        "id": "wq8K8ubm2Qbk"
      },
      "execution_count": null,
      "outputs": []
    }
  ],
  "metadata": {
    "kernelspec": {
      "display_name": "Python 3",
      "language": "python",
      "name": "python3"
    },
    "language_info": {
      "codemirror_mode": {
        "name": "ipython",
        "version": 3
      },
      "file_extension": ".py",
      "mimetype": "text/x-python",
      "name": "python",
      "nbconvert_exporter": "python",
      "pygments_lexer": "ipython3",
      "version": "3.7.4"
    },
    "colab": {
      "name": "CO_2_injection.ipynb",
      "provenance": [],
      "include_colab_link": true
    }
  },
  "nbformat": 4,
  "nbformat_minor": 0
}